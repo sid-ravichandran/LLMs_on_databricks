{
 "cells": [
  {
   "cell_type": "markdown",
   "metadata": {
    "application/vnd.databricks.v1+cell": {
     "cellMetadata": {},
     "inputWidgets": {},
     "nuid": "6b346d28-fba0-44af-bd0e-b313d0a0f46e",
     "showTitle": false,
     "title": ""
    }
   },
   "source": [
    "\n",
    "<div style=\"text-align: center; line-height: 0; padding-top: 9px;\">\n",
    "  <img src=\"https://databricks.com/wp-content/uploads/2018/03/db-academy-rgb-1200px.png\" alt=\"Databricks Learning\" style=\"width: 600px\">\n",
    "</div>"
   ]
  },
  {
   "cell_type": "markdown",
   "metadata": {
    "application/vnd.databricks.v1+cell": {
     "cellMetadata": {},
     "inputWidgets": {},
     "nuid": "c9563df0-c4b4-41da-8431-78e63dd6e093",
     "showTitle": false,
     "title": ""
    }
   },
   "source": [
    "\n",
    "# LLMOps\n",
    "In this example, we will walk through some key steps for taking an LLM-based pipeline to production.  Our pipeline will be familiar to you from previous modules: summarization of news articles using a pre-trained model from Hugging Face.  But in this walkthrough, we will be more rigorous about LLMOps.\n",
    "\n",
    "**Develop an LLM pipeline**\n",
    "\n",
    "Our LLMOps goals during development are (a) to track what we do carefully for later auditing and reproducibility and (b) to package models or pipelines in a format which will make future deployment easier.  Step-by-step, we will:\n",
    "* Load data.\n",
    "* Build an LLM pipeline.\n",
    "* Test applying the pipeline to data, and log queries and results to MLflow Tracking.\n",
    "* Log the pipeline to the MLflow Tracking server as an MLflow Model.\n",
    "\n",
    "**Test the LLM pipeline**\n",
    "\n",
    "Our LLMOps goals during testing (in the staging or QA stage) are (a) to track the LLM's progress through testing and towards production and (b) to do so programmatically to demonstrate the APIs needed for future CI/CD automation.  Step-by-step, we will:\n",
    "* Register the pipeline to the MLflow Model Registry.\n",
    "* Test the pipeline on sample data.\n",
    "* Promote the registered model (pipeline) to production.\n",
    "\n",
    "**Create a production workflow for batch inference**\n",
    "\n",
    "Our LLMOps goals during production are (a) to write scale-out code which can meet scaling demands in the future and (b) to simplify deployment by using MLflow to write model-agnostic deployment code.  Step-by-step, we will:\n",
    "* Load the latest production LLM pipeline from the Model Registry.\n",
    "* Apply the pipeline to an Apache Spark DataFrame.\n",
    "* Append the results to a Delta Lake table.\n",
    "\n",
    "### Notes about this workflow\n",
    "\n",
    "**This notebook vs. modular scripts**: Since this demo is in a single notebook, we will divide the workflow from development to production via notebook sections.  In a more realistic LLM Ops setup, you would likely have the sections split into separate notebooks or scripts.\n",
    "\n",
    "**Promoting models vs. code**: We track the path from development to production via the MLflow Model Registry.  That is, we are *promoting models* towards production, rather than promoting code.  For more discussion of these two paradigms, see [\"The Big Book of MLOps\"](https://www.databricks.com/resources/ebook/the-big-book-of-mlops).\n",
    "\n",
    "### ![Dolly](https://files.training.databricks.com/images/llm/dolly_small.png) Learning Objectives\n",
    "1. Walk through a simple but realistic workflow to take an LLM pipeline from development to production.\n",
    "1. Make use of MLflow Tracking and the Model Registry to package and manage the pipeline.\n",
    "1. Scale out batch inference using Apache Spark and Delta Lake."
   ]
  },
  {
   "cell_type": "markdown",
   "metadata": {
    "application/vnd.databricks.v1+cell": {
     "cellMetadata": {},
     "inputWidgets": {},
     "nuid": "cdb3d615-fb5f-47b5-8f9f-235806624a8f",
     "showTitle": false,
     "title": ""
    }
   },
   "source": [
    "\n",
    "## Classroom Setup"
   ]
  },
  {
   "cell_type": "code",
   "execution_count": 0,
   "metadata": {
    "application/vnd.databricks.v1+cell": {
     "cellMetadata": {
      "byteLimit": 2048000,
      "rowLimit": 10000
     },
     "inputWidgets": {},
     "nuid": "7af3b601-4bc3-4831-8401-62e32a598ee3",
     "showTitle": false,
     "title": ""
    }
   },
   "outputs": [
    {
     "output_type": "stream",
     "name": "stdout",
     "output_type": "stream",
     "text": [
      "\u001B[43mNote: you may need to restart the kernel using dbutils.library.restartPython() to use updated packages.\u001B[0m\n\u001B[43mNote: you may need to restart the kernel using dbutils.library.restartPython() to use updated packages.\u001B[0m\n"
     ]
    },
    {
     "output_type": "stream",
     "name": "stdout",
     "output_type": "stream",
     "text": [
      "Resetting the learning environment:\n| enumerating serving endpoints...found 0...(1 seconds)\n| No action taken\n\nSkipping install of existing datasets to \"dbfs:/mnt/dbacademy-datasets/large-language-models/v01\"\n"
     ]
    },
    {
     "output_type": "stream",
     "name": "stdout",
     "output_type": "stream",
     "text": [
      "Importing lab testing framework.\n"
     ]
    },
    {
     "output_type": "stream",
     "name": "stdout",
     "output_type": "stream",
     "text": [
      "\nUsing the \"default\" schema.\n\nPredefined paths variables:\n| DA.paths.working_dir: /dbfs/mnt/dbacademy-users/odl_user_1125535@databrickslabs.com/large-language-models\n| DA.paths.user_db:     /dbfs/mnt/dbacademy-users/odl_user_1125535@databrickslabs.com/large-language-models/database.db\n| DA.paths.datasets:    /dbfs/mnt/dbacademy-datasets/large-language-models/v01\n\nSetup completed (5 seconds)\n\nThe models developed or used in this course are for demonstration and learning purposes only.\nModels may occasionally output offensive, inaccurate, biased information, or harmful instructions.\n"
     ]
    }
   ],
   "source": [
    "%run ../Includes/Classroom-Setup"
   ]
  },
  {
   "cell_type": "markdown",
   "metadata": {
    "application/vnd.databricks.v1+cell": {
     "cellMetadata": {},
     "inputWidgets": {},
     "nuid": "54769e44-04d2-4296-b488-c39c42572ed3",
     "showTitle": false,
     "title": ""
    }
   },
   "source": [
    "For this notebook we'll use the <a href=\"https://huggingface.co/datasets/xsum\" target=\"_blank\">Extreme Summarization (XSum) Dataset</a>  with the <a href=\"https://huggingface.co/t5-small\" target=\"_blank\">T5 Text-To-Text Transfer Transformer</a> from Hugging Face."
   ]
  },
  {
   "cell_type": "markdown",
   "metadata": {
    "application/vnd.databricks.v1+cell": {
     "cellMetadata": {},
     "inputWidgets": {},
     "nuid": "993fba11-0c39-45eb-b19d-984a88efc4d6",
     "showTitle": false,
     "title": ""
    }
   },
   "source": [
    "## Prepare data"
   ]
  },
  {
   "cell_type": "code",
   "execution_count": 0,
   "metadata": {
    "application/vnd.databricks.v1+cell": {
     "cellMetadata": {
      "byteLimit": 2048000,
      "rowLimit": 10000
     },
     "inputWidgets": {},
     "nuid": "c27cb884-aeab-4067-bac3-970abd5e56c8",
     "showTitle": false,
     "title": ""
    }
   },
   "outputs": [],
   "source": [
    "from datasets import load_dataset\n",
    "from transformers import pipeline"
   ]
  },
  {
   "cell_type": "code",
   "execution_count": 0,
   "metadata": {
    "application/vnd.databricks.v1+cell": {
     "cellMetadata": {
      "byteLimit": 2048000,
      "rowLimit": 10000
     },
     "inputWidgets": {},
     "nuid": "f419e757-1572-4e2d-a987-3e5b5e4bd4fc",
     "showTitle": false,
     "title": ""
    }
   },
   "outputs": [
    {
     "output_type": "stream",
     "name": "stderr",
     "output_type": "stream",
     "text": [
      "/databricks/python_shell/dbruntime/huggingface_patches/datasets.py:13: UserWarning: During large dataset downloads, there could be multiple progress bar widgets that can cause performance issues for your notebook or browser. To avoid these issues, use `datasets.utils.logging.disable_progress_bar()` to turn off the progress bars.\n  warnings.warn(\n"
     ]
    },
    {
     "output_type": "display_data",
     "data": {
      "application/vnd.jupyter.widget-view+json": {
       "model_id": "9e89d2b5ed29408d91a26864b9b54e15",
       "version_major": 2,
       "version_minor": 0
      },
      "text/plain": [
       "Downloading builder script:   0%|          | 0.00/5.76k [00:00<?, ?B/s]"
      ]
     },
     "metadata": {},
     "output_type": "display_data"
    },
    {
     "output_type": "display_data",
     "data": {
      "application/vnd.jupyter.widget-view+json": {
       "model_id": "481b36c798c245eb9d9556c844fb0381",
       "version_major": 2,
       "version_minor": 0
      },
      "text/plain": [
       "Downloading readme:   0%|          | 0.00/6.24k [00:00<?, ?B/s]"
      ]
     },
     "metadata": {},
     "output_type": "display_data"
    },
    {
     "output_type": "stream",
     "name": "stderr",
     "output_type": "stream",
     "text": [
      "Found cached dataset xsum (/dbfs/mnt/dbacademy-datasets/large-language-models/v01/xsum/default/1.2.0/082863bf4754ee058a5b6f6525d0cb2b18eadb62c7b370b095d1364050a52b71)\n"
     ]
    },
    {
     "output_type": "display_data",
     "data": {
      "application/vnd.jupyter.widget-view+json": {
       "model_id": "af2f97a41bef430fafb6515aa2d6be3f",
       "version_major": 2,
       "version_minor": 0
      },
      "text/plain": [
       "  0%|          | 0/3 [00:00<?, ?it/s]"
      ]
     },
     "metadata": {},
     "output_type": "display_data"
    },
    {
     "output_type": "display_data",
     "data": {
      "text/html": [
       "<style scoped>\n",
       "  .table-result-container {\n",
       "    max-height: 300px;\n",
       "    overflow: auto;\n",
       "  }\n",
       "  table, th, td {\n",
       "    border: 1px solid black;\n",
       "    border-collapse: collapse;\n",
       "  }\n",
       "  th, td {\n",
       "    padding: 5px;\n",
       "  }\n",
       "  th {\n",
       "    text-align: left;\n",
       "  }\n",
       "</style><div class='table-result-container'><table class='table-result'><thead style='background-color: white'><tr><th>document</th><th>summary</th><th>id</th></tr></thead><tbody><tr><td>The full cost of damage in Newton Stewart, one of the areas worst affected, is still being assessed.\n",
       "Repair work is ongoing in Hawick and many roads in Peeblesshire remain badly affected by standing water.\n",
       "Trains on the west coast mainline face disruption due to damage at the Lamington Viaduct.\n",
       "Many businesses and householders were affected by flooding in Newton Stewart after the River Cree overflowed into the town.\n",
       "First Minister Nicola Sturgeon visited the area to inspect the damage.\n",
       "The waters breached a retaining wall, flooding many commercial properties on Victoria Street - the main shopping thoroughfare.\n",
       "Jeanette Tate, who owns the Cinnamon Cafe which was badly affected, said she could not fault the multi-agency response once the flood hit.\n",
       "However, she said more preventative work could have been carried out to ensure the retaining wall did not fail.\n",
       "\"It is difficult but I do think there is so much publicity for Dumfries and the Nith - and I totally appreciate that - but it is almost like we're neglected or forgotten,\" she said.\n",
       "\"That may not be true but it is perhaps my perspective over the last few days.\n",
       "\"Why were you not ready to help us a bit more when the warning and the alarm alerts had gone out?\"\n",
       "Meanwhile, a flood alert remains in place across the Borders because of the constant rain.\n",
       "Peebles was badly hit by problems, sparking calls to introduce more defences in the area.\n",
       "Scottish Borders Council has put a list on its website of the roads worst affected and drivers have been urged not to ignore closure signs.\n",
       "The Labour Party's deputy Scottish leader Alex Rowley was in Hawick on Monday to see the situation first hand.\n",
       "He said it was important to get the flood protection plan right but backed calls to speed up the process.\n",
       "\"I was quite taken aback by the amount of damage that has been done,\" he said.\n",
       "\"Obviously it is heart-breaking for people who have been forced out of their homes and the impact on businesses.\"\n",
       "He said it was important that \"immediate steps\" were taken to protect the areas most vulnerable and a clear timetable put in place for flood prevention plans.\n",
       "Have you been affected by flooding in Dumfries and Galloway or the Borders? Tell us about your experience of the situation and how it was handled. Email us on selkirk.news@bbc.co.uk or dumfries@bbc.co.uk.</td><td>Clean-up operations are continuing across the Scottish Borders and Dumfries and Galloway after flooding caused by Storm Frank.</td><td>35232142</td></tr><tr><td>A fire alarm went off at the Holiday Inn in Hope Street at about 04:20 BST on Saturday and guests were asked to leave the hotel.\n",
       "As they gathered outside they saw the two buses, parked side-by-side in the car park, engulfed by flames.\n",
       "One of the tour groups is from Germany, the other from China and Taiwan. It was their first night in Northern Ireland.\n",
       "The driver of one of the buses said many of the passengers had left personal belongings on board and these had been destroyed.\n",
       "Both groups have organised replacement coaches and will begin their tour of the north coast later than they had planned.\n",
       "Police have appealed for information about the attack.\n",
       "Insp David Gibson said: \"It appears as though the fire started under one of the buses before spreading to the second.\n",
       "\"While the exact cause is still under investigation, it is thought that the fire was started deliberately.\"</td><td>Two tourist buses have been destroyed by fire in a suspected arson attack in Belfast city centre.</td><td>40143035</td></tr><tr><td>Ferrari appeared in a position to challenge until the final laps, when the Mercedes stretched their legs to go half a second clear of the red cars.\n",
       "Sebastian Vettel will start third ahead of team-mate Kimi Raikkonen.\n",
       "The world champion subsequently escaped punishment for reversing in the pit lane, which could have seen him stripped of pole.\n",
       "But stewards only handed Hamilton a reprimand, after governing body the FIA said \"no clear instruction was given on where he should park\".\n",
       "Belgian Stoffel Vandoorne out-qualified McLaren team-mate Jenson Button on his Formula 1 debut.\n",
       "Vandoorne was 12th and Button 14th, complaining of a handling imbalance on his final lap but admitting the newcomer \"did a good job and I didn't\".\n",
       "Mercedes were wary of Ferrari's pace before qualifying after Vettel and Raikkonen finished one-two in final practice, and their concerns appeared to be well founded as the red cars mixed it with the silver through most of qualifying.\n",
       "After the first runs, Rosberg was ahead, with Vettel and Raikkonen splitting him from Hamilton, who made a mistake at the final corner on his first lap.\n",
       "But Hamilton saved his best for last, fastest in every sector of his final attempt, to beat Rosberg by just 0.077secs after the German had out-paced him throughout practice and in the first qualifying session.\n",
       "Vettel rued a mistake at the final corner on his last lap, but the truth is that with the gap at 0.517secs to Hamilton there was nothing he could have done.\n",
       "The gap suggests Mercedes are favourites for the race, even if Ferrari can be expected to push them.\n",
       "Vettel said: \"Last year we were very strong in the race and I think we are in good shape for tomorrow. We will try to give them a hard time.\"\n",
       "Vandoorne's preparations for his grand prix debut were far from ideal - he only found out he was racing on Thursday when FIA doctors declared Fernando Alonso unfit because of a broken rib sustained in his huge crash at the first race of the season in Australia two weeks ago.\n",
       "The Belgian rookie had to fly overnight from Japan, where he had been testing in the Super Formula car he races there, and arrived in Bahrain only hours before first practice on Friday.\n",
       "He also had a difficult final practice, missing all but the final quarter of the session because of a water leak.\n",
       "Button was quicker in the first qualifying session, but Vandoorne pipped him by 0.064secs when it mattered.\n",
       "The 24-year-old said: \"I knew after yesterday I had quite similar pace to Jenson and I knew if I improved a little bit I could maybe challenge him and even out-qualify him and that is what has happened.\n",
       "\"Jenson is a very good benchmark for me because he is a world champion and he is well known to the team so I am very satisfied with the qualifying.\"\n",
       "Button, who was 0.5secs quicker than Vandoorne in the first session, complained of oversteer on his final run in the second: \"Q1 was what I was expecting. Q2 he did a good job and I didn't. Very, very good job. We knew how quick he was.\"\n",
       "The controversial new elimination qualifying system was retained for this race despite teams voting at the first race in Australia to go back to the 2015 system.\n",
       "FIA president Jean Todt said earlier on Saturday that he \"felt it necessary to give new qualifying one more chance\", adding: \"We live in a world where there is too much over reaction.\"\n",
       "The system worked on the basis of mixing up the grid a little - Force India's Sergio Perez ended up out of position in 18th place after the team miscalculated the timing of his final run, leaving him not enough time to complete it before the elimination clock timed him out.\n",
       "But it will come in for more criticism as a result of lack of track action at the end of each session. There were three minutes at the end of the first session with no cars on the circuit, and the end of the second session was a similar damp squib.\n",
       "Only one car - Nico Hulkenberg's Force India - was out on the track with six minutes to go. The two Williams cars did go out in the final three minutes but were already through to Q3 and so nothing was at stake.\n",
       "The teams are meeting with Todt and F1 commercial boss Bernie Ecclestone on Sunday at noon local time to decide on what to do with qualifying for the rest of the season.\n",
       "Todt said he was \"optimistic\" they would be able to reach unanimous agreement on a change.\n",
       "\"We should listen to the people watching on TV,\" Rosberg said. \"If they are still unhappy, which I am sure they will be, we should change it.\"\n",
       "Red Bull's Daniel Ricciardo was fifth on the grid, ahead of the Williams cars of Valtteri Bottas and Felipe Massa and Force India's Nico Hulkenberg.\n",
       "Ricciardo's team-mate Daniil Kvyat was eliminated during the second session - way below the team's expectation - and the Renault of Brit Jolyon Palmer only managed 19th fastest.\n",
       "German Mercedes protege Pascal Wehrlein managed an excellent 16th in the Manor car.\n",
       "Bahrain GP qualifying results\n",
       "Bahrain GP coverage details</td><td>Lewis Hamilton stormed to pole position at the Bahrain Grand Prix ahead of Mercedes team-mate Nico Rosberg.</td><td>35951548</td></tr><tr><td>John Edward Bates, formerly of Spalding, Lincolnshire, but now living in London, faces a total of 22 charges, including two counts of indecency with a child.\n",
       "The 67-year-old is accused of committing the offences between March 1972 and October 1989.\n",
       "Mr Bates denies all the charges.\n",
       "Grace Hale, prosecuting, told the jury that the allegations of sexual abuse were made by made by four male complainants and related to when Mr Bates was a scout leader in South Lincolnshire and Cambridgeshire.\n",
       "\"The defendant says nothing of that sort happened between himself and all these individuals. He says they are all fabricating their accounts and telling lies,\" said Mrs Hale.\n",
       "The prosecutor claimed Mr Bates invited one 15 year old to his home offering him the chance to look at cine films made at scout camps but then showed him pornographic films.\n",
       "She told the jury that the boy was then sexually abused leaving him confused and frightened.\n",
       "Mrs Hale said: \"The complainant's recollection is that on a number of occasions sexual acts would happen with the defendant either in the defendant's car or in his cottage.\"\n",
       "She told the jury a second boy was taken by Mr Bates for a weekend in London at the age of 13 or 14 and after visiting pubs he was later sexually abused.\n",
       "Mrs Hale said two boys from the Spalding group had also made complaints of being sexually abused.\n",
       "The jury has been told that Mr Bates was in the RAF before serving as a Lincolnshire Police officer between 1976 and 1983.\n",
       "The trial, which is expected to last two weeks, continues.</td><td>A former Lincolnshire Police officer carried out a series of sex attacks on boys, a jury at Lincoln Crown Court was told.</td><td>36266422</td></tr><tr><td>Patients and staff were evacuated from Cerahpasa hospital on Wednesday after a man receiving treatment at the clinic threatened to shoot himself and others.\n",
       "Officers were deployed to negotiate with the man, a young police officer.\n",
       "Earlier reports that the armed man had taken several people hostage proved incorrect.\n",
       "The chief consultant of Cerahpasa hospital, Zekayi Kutlubay, who was evacuated from the facility, said that there had been \"no hostage crises\", adding that the man was \"alone in the room\".\n",
       "Dr Kutlubay said that the man had been receiving psychiatric treatment for the past two years.\n",
       "He said that the hospital had previously submitted a report stating that the man should not be permitted to carry a gun.\n",
       "\"His firearm was taken away,\" Dr Kutlubay said, adding that the gun in the officer's possession on Wednesday was not his issued firearm.\n",
       "The incident comes amid tension in Istanbul following several attacks in crowded areas, including the deadly assault on the Reina nightclub on New Year's Eve which left 39 people dead.</td><td>An armed man who locked himself into a room at a psychiatric hospital in Istanbul has ended his threat to kill himself, Turkish media report.</td><td>38826984</td></tr><tr><td>Simone Favaro got the crucial try with the last move of the game, following earlier touchdowns by Chris Fusaro, Zander Fagerson and Junior Bulumakau.\n",
       "Rynard Landman and Ashton Hewitt got a try in either half for the Dragons.\n",
       "Glasgow showed far superior strength in depth as they took control of a messy match in the second period.\n",
       "Home coach Gregor Townsend gave a debut to powerhouse Fijian-born Wallaby wing Taqele Naiyaravoro, and centre Alex Dunbar returned from long-term injury, while the Dragons gave first starts of the season to wing Aled Brew and hooker Elliot Dee.\n",
       "Glasgow lost hooker Pat McArthur to an early shoulder injury but took advantage of their first pressure when Rory Clegg slotted over a penalty on 12 minutes.\n",
       "It took 24 minutes for a disjointed game to produce a try as Sarel Pretorius sniped from close range and Landman forced his way over for Jason Tovey to convert - although it was the lock's last contribution as he departed with a chest injury shortly afterwards.\n",
       "Glasgow struck back when Fusaro drove over from a rolling maul on 35 minutes for Clegg to convert.\n",
       "But the Dragons levelled at 10-10 before half-time when Naiyaravoro was yellow-carded for an aerial tackle on Brew and Tovey slotted the easy goal.\n",
       "The visitors could not make the most of their one-man advantage after the break as their error count cost them dearly.\n",
       "It was Glasgow's bench experience that showed when Mike Blair's break led to a short-range score from teenage prop Fagerson, converted by Clegg.\n",
       "Debutant Favaro was the second home player to be sin-binned, on 63 minutes, but again the Warriors made light of it as replacement wing Bulumakau, a recruit from the Army, pounced to deftly hack through a bouncing ball for an opportunist try.\n",
       "The Dragons got back within striking range with some excellent combined handling putting Hewitt over unopposed after 72 minutes.\n",
       "However, Favaro became sinner-turned-saint as he got on the end of another effective rolling maul to earn his side the extra point with the last move of the game, Clegg converting.\n",
       "Dragons director of rugby Lyn Jones said: \"We're disappointed to have lost but our performance was a lot better [than against Leinster] and the game could have gone either way.\n",
       "\"Unfortunately too many errors behind the scrum cost us a great deal, though from where we were a fortnight ago in Dublin our workrate and desire was excellent.\n",
       "\"It was simply error count from individuals behind the scrum that cost us field position, it's not rocket science - they were correct in how they played and we had a few errors, that was the difference.\"\n",
       "Glasgow Warriors: Rory Hughes, Taqele Naiyaravoro, Alex Dunbar, Fraser Lyle, Lee Jones, Rory Clegg, Grayson Hart; Alex Allan, Pat MacArthur, Zander Fagerson, Rob Harley (capt), Scott Cummings, Hugh Blake, Chris Fusaro, Adam Ashe.\n",
       "Replacements: Fergus Scott, Jerry Yanuyanutawa, Mike Cusack, Greg Peterson, Simone Favaro, Mike Blair, Gregor Hunter, Junior Bulumakau.\n",
       "Dragons: Carl Meyer, Ashton Hewitt, Ross Wardle, Adam Warren, Aled Brew, Jason Tovey, Sarel Pretorius; Boris Stankovich, Elliot Dee, Brok Harris, Nick Crosswell, Rynard Landman (capt), Lewis Evans, Nic Cudd, Ed Jackson.\n",
       "Replacements: Rhys Buckley, Phil Price, Shaun Knight, Matthew Screech, Ollie Griffiths, Luc Jones, Charlie Davies, Nick Scott.</td><td>Defending Pro12 champions Glasgow Warriors bagged a late bonus-point victory over the Dragons despite a host of absentees and two yellow cards.</td><td>34540833</td></tr><tr><td>Veronica Vanessa Chango-Alverez, 31, was killed and another man injured when an Audi A3 struck them in Streatham High Road at 05:30 GMT on Saturday.\n",
       "Ten minutes before the crash the car was in London Road, Croydon, when a Volkswagen Passat collided with a tree.\n",
       "Police want to trace Nathan Davis, 27, who they say has links to the Audi. The car was abandoned at the scene.\n",
       "Ms Chango-Alverez died from multiple injuries, a post-mortem examination found.\n",
       "No arrests have been made as yet, police said.\n",
       "Ms Chango-Alverez was staying at her mother's home in Streatham High Road.\n",
       "She was born in Ecuador and had lived in London for 13 years, BBC London reporter Gareth Furby said. At the time of the crash, she was on her way to work in a hotel.\n",
       "The remains of the bus stop, which was extensively damaged in the crash, have been removed.\n",
       "Flowers have been left at the site in tribute to the victim.\n",
       "A statement from her brother Kevin Raul Chango-Alverez said: \"My family has had its heart torn out, at this Christmas time, we will never be the same again.\n",
       "\"On Friday night we were together as a family with Veronica meeting her newly born nephew and preparing for Christmas.\n",
       "\"I last saw her alive as she left to go to work on Saturday morning, but moments later I was holding her hand as she passed away in the street.\"\n",
       "Describing the crash as \"horrific\" Det Insp Gordon Wallace, said: \"The family are devastated. The memory of this senseless death will be with them each time they leave their home.\n",
       "\"The driver fled the scene abandoning the grey Audi, which was extensively damaged.\n",
       "\"We are looking to speak to Mr Nathan Davis in relation to this collision.\"\n",
       "The 51-year-old man injured at the bus stop remains in a critical condition in hospital while the condition of the 29-year-old driver of the Volkswagen is now stable.</td><td>A man with links to a car that was involved in a fatal bus stop crash in south London is being sought by police.</td><td>20836172</td></tr><tr><td>Belgian cyclist Demoitie died after a collision with a motorbike during Belgium's Gent-Wevelgem race.\n",
       "The 25-year-old was hit by the motorbike after several riders came down in a crash as the race passed through northern France.\n",
       "\"The main issues come when cars or motorbikes have to pass the peloton and pass riders,\" Team Sky's Rowe said.\n",
       "\"That is the fundamental issue we're looking into.\n",
       "\"There's a lot of motorbikes in and around the race whether it be cameras for TV, photographers or police motorbikes.\n",
       "\"In total there's around 50 motorbikes that work on each race.\n",
       "\"We've got a riders union and we're coming together to think of a few ideas, whether we cap a speed limit on how fast they can overtake us.\n",
       "\"Say we put a 10 kilometres per hour limit on it, if we're going 50kph they're only allowed to pass us 60kph or something like that.\"\n",
       "Demoitie, who was riding for the Wanty-Gobert team, was taken to hospital in Lille but died later.\n",
       "The sport's governing body, the UCI, said it would co-operate with all relevant authorities in an investigation into the incident.\n",
       "The Professional Cyclists' Association (CPA) issued a statement asking what would be done to improve safety.\n",
       "Despite Demoitie's death, attitudes to road racing will stay the same says Rowe, who has been competing in Three Days of De Panne race in Belgium.\n",
       "\"As soon as that element of fear slips into your mind and you start thinking of things that could happen, that's when you're doomed to fail,\" he told BBC Wales Sport.\n",
       "\"If you start thinking about crashes and the consequences and what could potentially happen then you're never going to be at the front of the peloton and you're never going to win any races.\"\n",
       "In a separate incident, another Belgian cyclist, Daan Myngheer, 22, died in hospital after suffering a heart attack during the first stage of the Criterium International in Corsica.</td><td>Welsh cyclist Luke Rowe says changes to the sport must be made following the death of Antoine Demoitie.</td><td>35932467</td></tr><tr><td>Gundogan, 26, told BBC Sport he \"can see the finishing line\" after tearing cruciate knee ligaments in December, but will not rush his return.\n",
       "The German missed the 2014 World Cup following back surgery that kept him out for a year, and sat out Euro 2016 because of a dislocated kneecap.\n",
       "He said: \"It is heavy mentally to accept that.\"\n",
       "Gundogan will not be fit for the start of the Premier League season at Brighton on 12 August but said his recovery time is now being measured in \"weeks\" rather than months.\n",
       "He told BBC Sport: \"It is really hard always to fall and fight your way back. You feel good and feel ready, then you get the next kick.\n",
       "\"The worst part is behind me now. I want to feel ready when I am fully back. I want to feel safe and confident. I don't mind if it is two weeks or six.\"\n",
       "Gundogan made 15 appearances and scored five goals in his debut season for City following his £20m move from Borussia Dortmund.\n",
       "He is eager to get on the field again and was impressed at the club's 4-1 win over Real Madrid in a pre-season game in Los Angeles on Wednesday.\n",
       "Manager Pep Guardiola has made five new signings already this summer and continues to have an interest in Arsenal forward Alexis Sanchez and Monaco's Kylian Mbappe.\n",
       "Gundogan said: \"Optimism for the season is big. It is huge, definitely.\n",
       "\"We felt that last year as well but it was a completely new experience for all of us. We know the Premier League a bit more now and can't wait for the season to start.\"\n",
       "City complete their three-match tour of the United States against Tottenham in Nashville on Saturday.\n",
       "Chelsea manager Antonio Conte said earlier this week he did not feel Tottenham were judged by the same standards as his own side, City and Manchester United.\n",
       "Spurs have had the advantage in their recent meetings with City, winning three and drawing one of their last four Premier League games.\n",
       "And Gundogan thinks they are a major threat.\n",
       "He said: \"Tottenham are a great team. They have the style of football. They have young English players. Our experience last season shows it is really tough to beat them.\n",
       "\"They are really uncomfortable to play against.\n",
       "\"I am pretty sure, even if they will not say it loud, the people who know the Premier League know Tottenham are definitely a competitor for the title.\"</td><td>Manchester City midfielder Ilkay Gundogan says it has been mentally tough to overcome a third major injury.</td><td>40758845</td></tr><tr><td>The crash happened about 07:20 GMT at the junction of the A127 and Progress Road in Leigh-on-Sea, Essex.\n",
       "The man, who police said is aged in his 20s, was treated at the scene for a head injury and suspected multiple fractures, the ambulance service said.\n",
       "He was airlifted to the Royal London Hospital for further treatment.\n",
       "The Southend-bound carriageway of the A127 was closed for about six hours while police conducted their initial inquiries.\n",
       "A spokeswoman for Essex Police said it was not possible comment to further as this time as the \"investigation is now being conducted by the IPCC\".</td><td>A jogger has been hit by an unmarked police car responding to an emergency call, leaving him with \"serious life-changing injuries\".</td><td>30358490</td></tr></tbody></table></div>"
      ]
     },
     "metadata": {
      "application/vnd.databricks.v1+output": {
       "addedWidgets": {},
       "aggData": [],
       "aggError": "",
       "aggOverflow": false,
       "aggSchema": [],
       "aggSeriesLimitReached": false,
       "aggType": "",
       "arguments": {},
       "columnCustomDisplayInfos": {},
       "data": [
        [
         "The full cost of damage in Newton Stewart, one of the areas worst affected, is still being assessed.\nRepair work is ongoing in Hawick and many roads in Peeblesshire remain badly affected by standing water.\nTrains on the west coast mainline face disruption due to damage at the Lamington Viaduct.\nMany businesses and householders were affected by flooding in Newton Stewart after the River Cree overflowed into the town.\nFirst Minister Nicola Sturgeon visited the area to inspect the damage.\nThe waters breached a retaining wall, flooding many commercial properties on Victoria Street - the main shopping thoroughfare.\nJeanette Tate, who owns the Cinnamon Cafe which was badly affected, said she could not fault the multi-agency response once the flood hit.\nHowever, she said more preventative work could have been carried out to ensure the retaining wall did not fail.\n\"It is difficult but I do think there is so much publicity for Dumfries and the Nith - and I totally appreciate that - but it is almost like we're neglected or forgotten,\" she said.\n\"That may not be true but it is perhaps my perspective over the last few days.\n\"Why were you not ready to help us a bit more when the warning and the alarm alerts had gone out?\"\nMeanwhile, a flood alert remains in place across the Borders because of the constant rain.\nPeebles was badly hit by problems, sparking calls to introduce more defences in the area.\nScottish Borders Council has put a list on its website of the roads worst affected and drivers have been urged not to ignore closure signs.\nThe Labour Party's deputy Scottish leader Alex Rowley was in Hawick on Monday to see the situation first hand.\nHe said it was important to get the flood protection plan right but backed calls to speed up the process.\n\"I was quite taken aback by the amount of damage that has been done,\" he said.\n\"Obviously it is heart-breaking for people who have been forced out of their homes and the impact on businesses.\"\nHe said it was important that \"immediate steps\" were taken to protect the areas most vulnerable and a clear timetable put in place for flood prevention plans.\nHave you been affected by flooding in Dumfries and Galloway or the Borders? Tell us about your experience of the situation and how it was handled. Email us on selkirk.news@bbc.co.uk or dumfries@bbc.co.uk.",
         "Clean-up operations are continuing across the Scottish Borders and Dumfries and Galloway after flooding caused by Storm Frank.",
         "35232142"
        ],
        [
         "A fire alarm went off at the Holiday Inn in Hope Street at about 04:20 BST on Saturday and guests were asked to leave the hotel.\nAs they gathered outside they saw the two buses, parked side-by-side in the car park, engulfed by flames.\nOne of the tour groups is from Germany, the other from China and Taiwan. It was their first night in Northern Ireland.\nThe driver of one of the buses said many of the passengers had left personal belongings on board and these had been destroyed.\nBoth groups have organised replacement coaches and will begin their tour of the north coast later than they had planned.\nPolice have appealed for information about the attack.\nInsp David Gibson said: \"It appears as though the fire started under one of the buses before spreading to the second.\n\"While the exact cause is still under investigation, it is thought that the fire was started deliberately.\"",
         "Two tourist buses have been destroyed by fire in a suspected arson attack in Belfast city centre.",
         "40143035"
        ],
        [
         "Ferrari appeared in a position to challenge until the final laps, when the Mercedes stretched their legs to go half a second clear of the red cars.\nSebastian Vettel will start third ahead of team-mate Kimi Raikkonen.\nThe world champion subsequently escaped punishment for reversing in the pit lane, which could have seen him stripped of pole.\nBut stewards only handed Hamilton a reprimand, after governing body the FIA said \"no clear instruction was given on where he should park\".\nBelgian Stoffel Vandoorne out-qualified McLaren team-mate Jenson Button on his Formula 1 debut.\nVandoorne was 12th and Button 14th, complaining of a handling imbalance on his final lap but admitting the newcomer \"did a good job and I didn't\".\nMercedes were wary of Ferrari's pace before qualifying after Vettel and Raikkonen finished one-two in final practice, and their concerns appeared to be well founded as the red cars mixed it with the silver through most of qualifying.\nAfter the first runs, Rosberg was ahead, with Vettel and Raikkonen splitting him from Hamilton, who made a mistake at the final corner on his first lap.\nBut Hamilton saved his best for last, fastest in every sector of his final attempt, to beat Rosberg by just 0.077secs after the German had out-paced him throughout practice and in the first qualifying session.\nVettel rued a mistake at the final corner on his last lap, but the truth is that with the gap at 0.517secs to Hamilton there was nothing he could have done.\nThe gap suggests Mercedes are favourites for the race, even if Ferrari can be expected to push them.\nVettel said: \"Last year we were very strong in the race and I think we are in good shape for tomorrow. We will try to give them a hard time.\"\nVandoorne's preparations for his grand prix debut were far from ideal - he only found out he was racing on Thursday when FIA doctors declared Fernando Alonso unfit because of a broken rib sustained in his huge crash at the first race of the season in Australia two weeks ago.\nThe Belgian rookie had to fly overnight from Japan, where he had been testing in the Super Formula car he races there, and arrived in Bahrain only hours before first practice on Friday.\nHe also had a difficult final practice, missing all but the final quarter of the session because of a water leak.\nButton was quicker in the first qualifying session, but Vandoorne pipped him by 0.064secs when it mattered.\nThe 24-year-old said: \"I knew after yesterday I had quite similar pace to Jenson and I knew if I improved a little bit I could maybe challenge him and even out-qualify him and that is what has happened.\n\"Jenson is a very good benchmark for me because he is a world champion and he is well known to the team so I am very satisfied with the qualifying.\"\nButton, who was 0.5secs quicker than Vandoorne in the first session, complained of oversteer on his final run in the second: \"Q1 was what I was expecting. Q2 he did a good job and I didn't. Very, very good job. We knew how quick he was.\"\nThe controversial new elimination qualifying system was retained for this race despite teams voting at the first race in Australia to go back to the 2015 system.\nFIA president Jean Todt said earlier on Saturday that he \"felt it necessary to give new qualifying one more chance\", adding: \"We live in a world where there is too much over reaction.\"\nThe system worked on the basis of mixing up the grid a little - Force India's Sergio Perez ended up out of position in 18th place after the team miscalculated the timing of his final run, leaving him not enough time to complete it before the elimination clock timed him out.\nBut it will come in for more criticism as a result of lack of track action at the end of each session. There were three minutes at the end of the first session with no cars on the circuit, and the end of the second session was a similar damp squib.\nOnly one car - Nico Hulkenberg's Force India - was out on the track with six minutes to go. The two Williams cars did go out in the final three minutes but were already through to Q3 and so nothing was at stake.\nThe teams are meeting with Todt and F1 commercial boss Bernie Ecclestone on Sunday at noon local time to decide on what to do with qualifying for the rest of the season.\nTodt said he was \"optimistic\" they would be able to reach unanimous agreement on a change.\n\"We should listen to the people watching on TV,\" Rosberg said. \"If they are still unhappy, which I am sure they will be, we should change it.\"\nRed Bull's Daniel Ricciardo was fifth on the grid, ahead of the Williams cars of Valtteri Bottas and Felipe Massa and Force India's Nico Hulkenberg.\nRicciardo's team-mate Daniil Kvyat was eliminated during the second session - way below the team's expectation - and the Renault of Brit Jolyon Palmer only managed 19th fastest.\nGerman Mercedes protege Pascal Wehrlein managed an excellent 16th in the Manor car.\nBahrain GP qualifying results\nBahrain GP coverage details",
         "Lewis Hamilton stormed to pole position at the Bahrain Grand Prix ahead of Mercedes team-mate Nico Rosberg.",
         "35951548"
        ],
        [
         "John Edward Bates, formerly of Spalding, Lincolnshire, but now living in London, faces a total of 22 charges, including two counts of indecency with a child.\nThe 67-year-old is accused of committing the offences between March 1972 and October 1989.\nMr Bates denies all the charges.\nGrace Hale, prosecuting, told the jury that the allegations of sexual abuse were made by made by four male complainants and related to when Mr Bates was a scout leader in South Lincolnshire and Cambridgeshire.\n\"The defendant says nothing of that sort happened between himself and all these individuals. He says they are all fabricating their accounts and telling lies,\" said Mrs Hale.\nThe prosecutor claimed Mr Bates invited one 15 year old to his home offering him the chance to look at cine films made at scout camps but then showed him pornographic films.\nShe told the jury that the boy was then sexually abused leaving him confused and frightened.\nMrs Hale said: \"The complainant's recollection is that on a number of occasions sexual acts would happen with the defendant either in the defendant's car or in his cottage.\"\nShe told the jury a second boy was taken by Mr Bates for a weekend in London at the age of 13 or 14 and after visiting pubs he was later sexually abused.\nMrs Hale said two boys from the Spalding group had also made complaints of being sexually abused.\nThe jury has been told that Mr Bates was in the RAF before serving as a Lincolnshire Police officer between 1976 and 1983.\nThe trial, which is expected to last two weeks, continues.",
         "A former Lincolnshire Police officer carried out a series of sex attacks on boys, a jury at Lincoln Crown Court was told.",
         "36266422"
        ],
        [
         "Patients and staff were evacuated from Cerahpasa hospital on Wednesday after a man receiving treatment at the clinic threatened to shoot himself and others.\nOfficers were deployed to negotiate with the man, a young police officer.\nEarlier reports that the armed man had taken several people hostage proved incorrect.\nThe chief consultant of Cerahpasa hospital, Zekayi Kutlubay, who was evacuated from the facility, said that there had been \"no hostage crises\", adding that the man was \"alone in the room\".\nDr Kutlubay said that the man had been receiving psychiatric treatment for the past two years.\nHe said that the hospital had previously submitted a report stating that the man should not be permitted to carry a gun.\n\"His firearm was taken away,\" Dr Kutlubay said, adding that the gun in the officer's possession on Wednesday was not his issued firearm.\nThe incident comes amid tension in Istanbul following several attacks in crowded areas, including the deadly assault on the Reina nightclub on New Year's Eve which left 39 people dead.",
         "An armed man who locked himself into a room at a psychiatric hospital in Istanbul has ended his threat to kill himself, Turkish media report.",
         "38826984"
        ],
        [
         "Simone Favaro got the crucial try with the last move of the game, following earlier touchdowns by Chris Fusaro, Zander Fagerson and Junior Bulumakau.\nRynard Landman and Ashton Hewitt got a try in either half for the Dragons.\nGlasgow showed far superior strength in depth as they took control of a messy match in the second period.\nHome coach Gregor Townsend gave a debut to powerhouse Fijian-born Wallaby wing Taqele Naiyaravoro, and centre Alex Dunbar returned from long-term injury, while the Dragons gave first starts of the season to wing Aled Brew and hooker Elliot Dee.\nGlasgow lost hooker Pat McArthur to an early shoulder injury but took advantage of their first pressure when Rory Clegg slotted over a penalty on 12 minutes.\nIt took 24 minutes for a disjointed game to produce a try as Sarel Pretorius sniped from close range and Landman forced his way over for Jason Tovey to convert - although it was the lock's last contribution as he departed with a chest injury shortly afterwards.\nGlasgow struck back when Fusaro drove over from a rolling maul on 35 minutes for Clegg to convert.\nBut the Dragons levelled at 10-10 before half-time when Naiyaravoro was yellow-carded for an aerial tackle on Brew and Tovey slotted the easy goal.\nThe visitors could not make the most of their one-man advantage after the break as their error count cost them dearly.\nIt was Glasgow's bench experience that showed when Mike Blair's break led to a short-range score from teenage prop Fagerson, converted by Clegg.\nDebutant Favaro was the second home player to be sin-binned, on 63 minutes, but again the Warriors made light of it as replacement wing Bulumakau, a recruit from the Army, pounced to deftly hack through a bouncing ball for an opportunist try.\nThe Dragons got back within striking range with some excellent combined handling putting Hewitt over unopposed after 72 minutes.\nHowever, Favaro became sinner-turned-saint as he got on the end of another effective rolling maul to earn his side the extra point with the last move of the game, Clegg converting.\nDragons director of rugby Lyn Jones said: \"We're disappointed to have lost but our performance was a lot better [than against Leinster] and the game could have gone either way.\n\"Unfortunately too many errors behind the scrum cost us a great deal, though from where we were a fortnight ago in Dublin our workrate and desire was excellent.\n\"It was simply error count from individuals behind the scrum that cost us field position, it's not rocket science - they were correct in how they played and we had a few errors, that was the difference.\"\nGlasgow Warriors: Rory Hughes, Taqele Naiyaravoro, Alex Dunbar, Fraser Lyle, Lee Jones, Rory Clegg, Grayson Hart; Alex Allan, Pat MacArthur, Zander Fagerson, Rob Harley (capt), Scott Cummings, Hugh Blake, Chris Fusaro, Adam Ashe.\nReplacements: Fergus Scott, Jerry Yanuyanutawa, Mike Cusack, Greg Peterson, Simone Favaro, Mike Blair, Gregor Hunter, Junior Bulumakau.\nDragons: Carl Meyer, Ashton Hewitt, Ross Wardle, Adam Warren, Aled Brew, Jason Tovey, Sarel Pretorius; Boris Stankovich, Elliot Dee, Brok Harris, Nick Crosswell, Rynard Landman (capt), Lewis Evans, Nic Cudd, Ed Jackson.\nReplacements: Rhys Buckley, Phil Price, Shaun Knight, Matthew Screech, Ollie Griffiths, Luc Jones, Charlie Davies, Nick Scott.",
         "Defending Pro12 champions Glasgow Warriors bagged a late bonus-point victory over the Dragons despite a host of absentees and two yellow cards.",
         "34540833"
        ],
        [
         "Veronica Vanessa Chango-Alverez, 31, was killed and another man injured when an Audi A3 struck them in Streatham High Road at 05:30 GMT on Saturday.\nTen minutes before the crash the car was in London Road, Croydon, when a Volkswagen Passat collided with a tree.\nPolice want to trace Nathan Davis, 27, who they say has links to the Audi. The car was abandoned at the scene.\nMs Chango-Alverez died from multiple injuries, a post-mortem examination found.\nNo arrests have been made as yet, police said.\nMs Chango-Alverez was staying at her mother's home in Streatham High Road.\nShe was born in Ecuador and had lived in London for 13 years, BBC London reporter Gareth Furby said. At the time of the crash, she was on her way to work in a hotel.\nThe remains of the bus stop, which was extensively damaged in the crash, have been removed.\nFlowers have been left at the site in tribute to the victim.\nA statement from her brother Kevin Raul Chango-Alverez said: \"My family has had its heart torn out, at this Christmas time, we will never be the same again.\n\"On Friday night we were together as a family with Veronica meeting her newly born nephew and preparing for Christmas.\n\"I last saw her alive as she left to go to work on Saturday morning, but moments later I was holding her hand as she passed away in the street.\"\nDescribing the crash as \"horrific\" Det Insp Gordon Wallace, said: \"The family are devastated. The memory of this senseless death will be with them each time they leave their home.\n\"The driver fled the scene abandoning the grey Audi, which was extensively damaged.\n\"We are looking to speak to Mr Nathan Davis in relation to this collision.\"\nThe 51-year-old man injured at the bus stop remains in a critical condition in hospital while the condition of the 29-year-old driver of the Volkswagen is now stable.",
         "A man with links to a car that was involved in a fatal bus stop crash in south London is being sought by police.",
         "20836172"
        ],
        [
         "Belgian cyclist Demoitie died after a collision with a motorbike during Belgium's Gent-Wevelgem race.\nThe 25-year-old was hit by the motorbike after several riders came down in a crash as the race passed through northern France.\n\"The main issues come when cars or motorbikes have to pass the peloton and pass riders,\" Team Sky's Rowe said.\n\"That is the fundamental issue we're looking into.\n\"There's a lot of motorbikes in and around the race whether it be cameras for TV, photographers or police motorbikes.\n\"In total there's around 50 motorbikes that work on each race.\n\"We've got a riders union and we're coming together to think of a few ideas, whether we cap a speed limit on how fast they can overtake us.\n\"Say we put a 10 kilometres per hour limit on it, if we're going 50kph they're only allowed to pass us 60kph or something like that.\"\nDemoitie, who was riding for the Wanty-Gobert team, was taken to hospital in Lille but died later.\nThe sport's governing body, the UCI, said it would co-operate with all relevant authorities in an investigation into the incident.\nThe Professional Cyclists' Association (CPA) issued a statement asking what would be done to improve safety.\nDespite Demoitie's death, attitudes to road racing will stay the same says Rowe, who has been competing in Three Days of De Panne race in Belgium.\n\"As soon as that element of fear slips into your mind and you start thinking of things that could happen, that's when you're doomed to fail,\" he told BBC Wales Sport.\n\"If you start thinking about crashes and the consequences and what could potentially happen then you're never going to be at the front of the peloton and you're never going to win any races.\"\nIn a separate incident, another Belgian cyclist, Daan Myngheer, 22, died in hospital after suffering a heart attack during the first stage of the Criterium International in Corsica.",
         "Welsh cyclist Luke Rowe says changes to the sport must be made following the death of Antoine Demoitie.",
         "35932467"
        ],
        [
         "Gundogan, 26, told BBC Sport he \"can see the finishing line\" after tearing cruciate knee ligaments in December, but will not rush his return.\nThe German missed the 2014 World Cup following back surgery that kept him out for a year, and sat out Euro 2016 because of a dislocated kneecap.\nHe said: \"It is heavy mentally to accept that.\"\nGundogan will not be fit for the start of the Premier League season at Brighton on 12 August but said his recovery time is now being measured in \"weeks\" rather than months.\nHe told BBC Sport: \"It is really hard always to fall and fight your way back. You feel good and feel ready, then you get the next kick.\n\"The worst part is behind me now. I want to feel ready when I am fully back. I want to feel safe and confident. I don't mind if it is two weeks or six.\"\nGundogan made 15 appearances and scored five goals in his debut season for City following his £20m move from Borussia Dortmund.\nHe is eager to get on the field again and was impressed at the club's 4-1 win over Real Madrid in a pre-season game in Los Angeles on Wednesday.\nManager Pep Guardiola has made five new signings already this summer and continues to have an interest in Arsenal forward Alexis Sanchez and Monaco's Kylian Mbappe.\nGundogan said: \"Optimism for the season is big. It is huge, definitely.\n\"We felt that last year as well but it was a completely new experience for all of us. We know the Premier League a bit more now and can't wait for the season to start.\"\nCity complete their three-match tour of the United States against Tottenham in Nashville on Saturday.\nChelsea manager Antonio Conte said earlier this week he did not feel Tottenham were judged by the same standards as his own side, City and Manchester United.\nSpurs have had the advantage in their recent meetings with City, winning three and drawing one of their last four Premier League games.\nAnd Gundogan thinks they are a major threat.\nHe said: \"Tottenham are a great team. They have the style of football. They have young English players. Our experience last season shows it is really tough to beat them.\n\"They are really uncomfortable to play against.\n\"I am pretty sure, even if they will not say it loud, the people who know the Premier League know Tottenham are definitely a competitor for the title.\"",
         "Manchester City midfielder Ilkay Gundogan says it has been mentally tough to overcome a third major injury.",
         "40758845"
        ],
        [
         "The crash happened about 07:20 GMT at the junction of the A127 and Progress Road in Leigh-on-Sea, Essex.\nThe man, who police said is aged in his 20s, was treated at the scene for a head injury and suspected multiple fractures, the ambulance service said.\nHe was airlifted to the Royal London Hospital for further treatment.\nThe Southend-bound carriageway of the A127 was closed for about six hours while police conducted their initial inquiries.\nA spokeswoman for Essex Police said it was not possible comment to further as this time as the \"investigation is now being conducted by the IPCC\".",
         "A jogger has been hit by an unmarked police car responding to an emergency call, leaving him with \"serious life-changing injuries\".",
         "30358490"
        ]
       ],
       "datasetInfos": [],
       "dbfsResultPath": null,
       "isJsonSchema": true,
       "metadata": {},
       "overflow": false,
       "plotOptions": {
        "customPlotOptions": {},
        "displayType": "table",
        "pivotAggregation": null,
        "pivotColumns": null,
        "xColumns": null,
        "yColumns": null
       },
       "removedWidgets": [],
       "schema": [
        {
         "metadata": "{}",
         "name": "document",
         "type": "\"string\""
        },
        {
         "metadata": "{}",
         "name": "summary",
         "type": "\"string\""
        },
        {
         "metadata": "{}",
         "name": "id",
         "type": "\"string\""
        }
       ],
       "type": "table"
      }
     },
     "output_type": "display_data"
    }
   ],
   "source": [
    "xsum_dataset = load_dataset(\n",
    "    \"xsum\", version=\"1.2.0\", cache_dir=DA.paths.datasets\n",
    ")  # Note: We specify cache_dir to use pre-cached data.\n",
    "xsum_sample = xsum_dataset[\"train\"].select(range(10))\n",
    "display(xsum_sample.to_pandas())"
   ]
  },
  {
   "cell_type": "markdown",
   "metadata": {
    "application/vnd.databricks.v1+cell": {
     "cellMetadata": {},
     "inputWidgets": {},
     "nuid": "722289a2-381a-4811-a9be-b6c764feaa14",
     "showTitle": false,
     "title": ""
    }
   },
   "source": [
    "Later on, when we show Production inference, we will want a dataset saved for it.  See the production section below for more information about Delta, the format we use to save the data here."
   ]
  },
  {
   "cell_type": "code",
   "execution_count": 0,
   "metadata": {
    "application/vnd.databricks.v1+cell": {
     "cellMetadata": {
      "byteLimit": 2048000,
      "rowLimit": 10000
     },
     "inputWidgets": {},
     "nuid": "a692b4a1-356f-4c5d-881f-626f4dfeb964",
     "showTitle": false,
     "title": ""
    }
   },
   "outputs": [],
   "source": [
    "prod_data_path = f\"{DA.paths.working_dir}/m6_prod_data\"\n",
    "test_spark_dataset = spark.createDataFrame(xsum_dataset[\"test\"].to_pandas())\n",
    "test_spark_dataset.write.format(\"delta\").mode(\"overwrite\").save(prod_data_path)"
   ]
  },
  {
   "cell_type": "markdown",
   "metadata": {
    "application/vnd.databricks.v1+cell": {
     "cellMetadata": {},
     "inputWidgets": {},
     "nuid": "884390d5-ae58-409f-879c-25f2b5715269",
     "showTitle": false,
     "title": ""
    }
   },
   "source": [
    "## Develop an LLM pipeline"
   ]
  },
  {
   "cell_type": "markdown",
   "metadata": {
    "application/vnd.databricks.v1+cell": {
     "cellMetadata": {},
     "inputWidgets": {},
     "nuid": "f2c5de2c-56b2-4054-a9c1-ce25ab0e5b5d",
     "showTitle": false,
     "title": ""
    }
   },
   "source": [
    "### Create a Hugging Face pipeline"
   ]
  },
  {
   "cell_type": "code",
   "execution_count": 0,
   "metadata": {
    "application/vnd.databricks.v1+cell": {
     "cellMetadata": {
      "byteLimit": 2048000,
      "rowLimit": 10000
     },
     "inputWidgets": {},
     "nuid": "7630e0ce-3df7-4a2c-b013-4ba7e2e9cf9d",
     "showTitle": false,
     "title": ""
    }
   },
   "outputs": [],
   "source": [
    "from transformers import pipeline\n",
    "\n",
    "# Later, we plan to log all of these parameters to MLflow.\n",
    "# Storing them as variables here will help with that.\n",
    "hf_model_name = \"t5-small\"\n",
    "min_length = 20\n",
    "max_length = 40\n",
    "truncation = True\n",
    "do_sample = True\n",
    "\n",
    "summarizer = pipeline(\n",
    "    task=\"summarization\",\n",
    "    model=hf_model_name,\n",
    "    min_length=min_length,\n",
    "    max_length=max_length,\n",
    "    truncation=truncation,\n",
    "    do_sample=do_sample,\n",
    "    model_kwargs={\"cache_dir\": DA.paths.datasets},\n",
    ")  # Note: We specify cache_dir to use pre-cached models."
   ]
  },
  {
   "cell_type": "markdown",
   "metadata": {
    "application/vnd.databricks.v1+cell": {
     "cellMetadata": {},
     "inputWidgets": {},
     "nuid": "10a5a7ca-7d2a-4420-96c6-8da5f4b261d4",
     "showTitle": false,
     "title": ""
    }
   },
   "source": [
    "We can now examine the `summarizer` pipeline summarizing a document from the `xsum` dataset."
   ]
  },
  {
   "cell_type": "code",
   "execution_count": 0,
   "metadata": {
    "application/vnd.databricks.v1+cell": {
     "cellMetadata": {
      "byteLimit": 2048000,
      "rowLimit": 10000
     },
     "inputWidgets": {},
     "nuid": "8490ae9e-a06e-4f10-9772-9474b6e9c4ab",
     "showTitle": false,
     "title": ""
    }
   },
   "outputs": [
    {
     "output_type": "stream",
     "name": "stderr",
     "output_type": "stream",
     "text": [
      "/databricks/python/lib/python3.10/site-packages/transformers/generation/utils.py:1219: UserWarning: You have modified the pretrained model configuration to control generation. This is a deprecated strategy to control generation and will be removed soon, in a future version. Please use a generation configuration file (see https://huggingface.co/docs/transformers/main_classes/text_generation)\n  warnings.warn(\n"
     ]
    },
    {
     "output_type": "stream",
     "name": "stdout",
     "output_type": "stream",
     "text": [
      "Summary: the full cost of damage in Newton Stewart is still being assessed . the water breached a retaining wall, flooding many commercial properties . a flood alert remains in place across\n===============================================\nOriginal Document: The full cost of damage in Newton Stewart, one of the areas worst affected, is still being assessed.\nRepair work is ongoing in Hawick and many roads in Peeblesshire remain badly affected by standing water.\nTrains on the west coast mainline face disruption due to damage at the Lamington Viaduct.\nMany businesses and householders were affected by flooding in Newton Stewart after the River Cree overflowed into the town.\nFirst Minister Nicola Sturgeon visited the area to inspect the damage.\nThe waters breached a retaining wall, flooding many commercial properties on Victoria Street - the main shopping thoroughfare.\nJeanette Tate, who owns the Cinnamon Cafe which was badly affected, said she could not fault the multi-agency response once the flood hit.\nHowever, she said more preventative work could have been carried out to ensure the retaining wall did not fail.\n\"It is difficult but I do think there is so much publicity for Dumfries and the Nith - and I totally appreciate that - but it is almost like we're neglected or forgotten,\" she said.\n\"That may not be true but it is perhaps my perspective over the last few days.\n\"Why were you not ready to help us a bit more when the warning and the alarm alerts had gone out?\"\nMeanwhile, a flood alert remains in place across the Borders because of the constant rain.\nPeebles was badly hit by problems, sparking calls to introduce more defences in the area.\nScottish Borders Council has put a list on its website of the roads worst affected and drivers have been urged not to ignore closure signs.\nThe Labour Party's deputy Scottish leader Alex Rowley was in Hawick on Monday to see the situation first hand.\nHe said it was important to get the flood protection plan right but backed calls to speed up the process.\n\"I was quite taken aback by the amount of damage that has been done,\" he said.\n\"Obviously it is heart-breaking for people who have been forced out of their homes and the impact on businesses.\"\nHe said it was important that \"immediate steps\" were taken to protect the areas most vulnerable and a clear timetable put in place for flood prevention plans.\nHave you been affected by flooding in Dumfries and Galloway or the Borders? Tell us about your experience of the situation and how it was handled. Email us on selkirk.news@bbc.co.uk or dumfries@bbc.co.uk.\n"
     ]
    }
   ],
   "source": [
    "doc0 = xsum_sample[\"document\"][0]\n",
    "print(f\"Summary: {summarizer(doc0)[0]['summary_text']}\")\n",
    "print(\"===============================================\")\n",
    "print(f\"Original Document: {doc0}\")"
   ]
  },
  {
   "cell_type": "markdown",
   "metadata": {
    "application/vnd.databricks.v1+cell": {
     "cellMetadata": {},
     "inputWidgets": {},
     "nuid": "aa0d692c-d460-4cff-a39c-24865b4d8350",
     "showTitle": false,
     "title": ""
    }
   },
   "source": [
    "### Track LLM development with MLflow\n",
    "\n",
    "[MLflow](https://mlflow.org/) has a Tracking component that helps you to track exactly how models or pipelines are produced during development.  Although we are not fitting (tuning or training) a model here, we can still make use of tracking to:\n",
    "* Track example queries and responses to the LLM pipeline, for later review or analysis\n",
    "* Store the model as an [MLflow Model flavor](https://mlflow.org/docs/latest/models.html#built-in-model-flavors), thus packaging it for simpler deployment"
   ]
  },
  {
   "cell_type": "code",
   "execution_count": 0,
   "metadata": {
    "application/vnd.databricks.v1+cell": {
     "cellMetadata": {
      "byteLimit": 2048000,
      "rowLimit": 10000
     },
     "inputWidgets": {},
     "nuid": "27a1be6f-f9f0-43f1-ab0f-300048dc162e",
     "showTitle": false,
     "title": ""
    }
   },
   "outputs": [
    {
     "output_type": "display_data",
     "data": {
      "application/vnd.databricks.v1+bamboolib_hint": "{\"pd.DataFrames\": [], \"version\": \"0.0.1\"}",
      "text/plain": []
     },
     "metadata": {},
     "output_type": "display_data"
    },
    {
     "output_type": "display_data",
     "data": {
      "text/html": [
       "<style scoped>\n",
       "  .table-result-container {\n",
       "    max-height: 300px;\n",
       "    overflow: auto;\n",
       "  }\n",
       "  table, th, td {\n",
       "    border: 1px solid black;\n",
       "    border-collapse: collapse;\n",
       "  }\n",
       "  th, td {\n",
       "    padding: 5px;\n",
       "  }\n",
       "  th {\n",
       "    text-align: left;\n",
       "  }\n",
       "</style><div class='table-result-container'><table class='table-result'><thead style='background-color: white'><tr><th>summary_text</th></tr></thead><tbody><tr><td>repairs are ongoing in Hawick and many roads in peeblesshire remain badly affected . first minister Nicola Sturgeon visited the area to inspect the damage . the waters breach</td></tr><tr><td>fire alarm went off at the Holiday Inn in Hope Street . guests were asked to leave the hotel as they gathered outside . driver said many of the passengers had left personal belongings</td></tr><tr><td>stewards only handed Hamilton a reprimand after governing body said \"no clear instruction was given on where he should park\" Stoffel Vandoorne</td></tr><tr><td>the 67-year-old is accused of committing the offences between March 1972 and October 1989 . he denies all the charges, including two counts of indecency</td></tr><tr><td>armed man threatened to shoot himself and others . he had been receiving psychiatric treatment for the past two years . the incident comes amid tension in Istanbul following several attacks</td></tr><tr><td>Gregor Townsend gave a debut to powerhouse wing Taqele Naiyaravoro . the dragons gave first starts of the season to wing a</td></tr><tr><td>Veronica Vanessa Chango-Alverez, 31, was killed and another man injured in the crash . police want to trace Nathan Davis, 27, who has links to the Audi .</td></tr><tr><td>the 25-year-old was hit by a motorbike during the Gent-Wevelgem race . he was riding for the Wanty-Gobert team and was taken</td></tr><tr><td>gundogan will not be fit for the start of the premier league season at Brighton on 12 august . the 26-year-old says his recovery time is now being measured in \"week</td></tr><tr><td>the crash happened about 07:20 GMT at the junction of the A127 and Progress Road in leigh-on-Sea, Essex . the man, aged in his 20s</td></tr></tbody></table></div>"
      ]
     },
     "metadata": {
      "application/vnd.databricks.v1+output": {
       "addedWidgets": {},
       "aggData": [],
       "aggError": "",
       "aggOverflow": false,
       "aggSchema": [],
       "aggSeriesLimitReached": false,
       "aggType": "",
       "arguments": {},
       "columnCustomDisplayInfos": {},
       "data": [
        [
         "repairs are ongoing in Hawick and many roads in peeblesshire remain badly affected . first minister Nicola Sturgeon visited the area to inspect the damage . the waters breach"
        ],
        [
         "fire alarm went off at the Holiday Inn in Hope Street . guests were asked to leave the hotel as they gathered outside . driver said many of the passengers had left personal belongings"
        ],
        [
         "stewards only handed Hamilton a reprimand after governing body said \"no clear instruction was given on where he should park\" Stoffel Vandoorne"
        ],
        [
         "the 67-year-old is accused of committing the offences between March 1972 and October 1989 . he denies all the charges, including two counts of indecency"
        ],
        [
         "armed man threatened to shoot himself and others . he had been receiving psychiatric treatment for the past two years . the incident comes amid tension in Istanbul following several attacks"
        ],
        [
         "Gregor Townsend gave a debut to powerhouse wing Taqele Naiyaravoro . the dragons gave first starts of the season to wing a"
        ],
        [
         "Veronica Vanessa Chango-Alverez, 31, was killed and another man injured in the crash . police want to trace Nathan Davis, 27, who has links to the Audi ."
        ],
        [
         "the 25-year-old was hit by a motorbike during the Gent-Wevelgem race . he was riding for the Wanty-Gobert team and was taken"
        ],
        [
         "gundogan will not be fit for the start of the premier league season at Brighton on 12 august . the 26-year-old says his recovery time is now being measured in \"week"
        ],
        [
         "the crash happened about 07:20 GMT at the junction of the A127 and Progress Road in leigh-on-Sea, Essex . the man, aged in his 20s"
        ]
       ],
       "datasetInfos": [],
       "dbfsResultPath": null,
       "isJsonSchema": true,
       "metadata": {},
       "overflow": false,
       "plotOptions": {
        "customPlotOptions": {},
        "displayType": "table",
        "pivotAggregation": null,
        "pivotColumns": null,
        "xColumns": null,
        "yColumns": null
       },
       "removedWidgets": [],
       "schema": [
        {
         "metadata": "{}",
         "name": "summary_text",
         "type": "\"string\""
        }
       ],
       "type": "table"
      }
     },
     "output_type": "display_data"
    }
   ],
   "source": [
    "# Apply to a batch of articles\n",
    "import pandas as pd\n",
    "\n",
    "results = summarizer(xsum_sample[\"document\"])\n",
    "display(pd.DataFrame(results, columns=[\"summary_text\"]))"
   ]
  },
  {
   "cell_type": "markdown",
   "metadata": {
    "application/vnd.databricks.v1+cell": {
     "cellMetadata": {},
     "inputWidgets": {},
     "nuid": "093b71f6-857d-4fd8-857c-e401e25fb89f",
     "showTitle": false,
     "title": ""
    }
   },
   "source": [
    "[MLflow Tracking](https://mlflow.org/docs/latest/tracking.html) is organized hierarchically as follows:\n",
    "* **An [experiment](https://mlflow.org/docs/latest/tracking.html#organizing-runs-in-experiments)** generally corresponds to the creation of 1 primary model or pipeline.  In our case, this is our LLM pipeline.  It contains some number of *runs*.\n",
    "   * **A [run](https://mlflow.org/docs/latest/tracking.html#organizing-runs-in-experiments)** generally corresponds to the creation of 1 sub-model, such as 1 trial during hyperparameter tuning in traditional ML.  In our case, executing this notebook once will only create 1 run, but a second execution of the notebook will create a second run.  This version tracking can be useful during iterative development.  Each run contains some number of logged parameters, metrics, tags, models, artifacts, and other metadata.\n",
    "      * **A [parameter](https://mlflow.org/docs/latest/tracking.html#concepts)** is an input to the model or pipeline, such as a regularization parameter in traditional ML or `max_length` for our LLM pipeline.\n",
    "      * **A [metric](https://mlflow.org/docs/latest/tracking.html#concepts)** is an output of evaluation, such as accuracy or loss.\n",
    "      * **An [artifact](https://mlflow.org/docs/latest/tracking.html#concepts)** is an arbitrary file stored alongside a run's metadata, such as the serialized model itself.\n",
    "      * **A [flavor](https://mlflow.org/docs/latest/models.html#storage-format)** is an MLflow format for serializing models.  This format uses the underlying ML library's format (such as PyTorch, TensorFlow, Hugging Face, or your custom format), plus metadata.\n",
    "\n",
    "MLflow has an API for tracking queries and predictions [`mlflow.llm.log_predictions()`](https://mlflow.org/docs/latest/python_api/mlflow.llm.html), which we will use below.  Note that, as of MLflow 2.3.1 (Apr 28, 2023), this API is Experimental, so it may change in later releases.  See the [LLM Tracking page](https://mlflow.org/docs/latest/llm-tracking.html) for more information.\n",
    "\n",
    "***Tip***: We wrap our model development workflow with a call to `with mlflow.start_run():`.  This context manager syntax starts and ends the MLflow run explicitly, which is a best practice for code which may be moved to production.  See the [API doc](https://mlflow.org/docs/latest/python_api/mlflow.html#mlflow.start_run) for more information."
   ]
  },
  {
   "cell_type": "code",
   "execution_count": 0,
   "metadata": {
    "application/vnd.databricks.v1+cell": {
     "cellMetadata": {
      "byteLimit": 2048000,
      "rowLimit": 10000
     },
     "inputWidgets": {},
     "nuid": "1c6c781a-500e-48a3-889c-583bbe0b984a",
     "showTitle": false,
     "title": ""
    }
   },
   "outputs": [
    {
     "output_type": "stream",
     "name": "stderr",
     "output_type": "stream",
     "text": [
      "2023/10/17 15:45:06 INFO mlflow.tracking.fluent: Experiment with name '/Users/odl_user_1125535@databrickslabs.com/LLM 06 - MLflow experiment' does not exist. Creating a new experiment.\n2023/10/17 15:45:08 INFO mlflow.tracking.llm_utils: Creating a new llm_predictions.csv for run a741a1ea44384f439b90529d933bdfe8.\n"
     ]
    },
    {
     "output_type": "stream",
     "name": "stdout",
     "output_type": "stream",
     "text": [
      "Signature:\ninputs: \n  [string]\noutputs: \n  [string]\n\n\n"
     ]
    },
    {
     "output_type": "display_data",
     "data": {
      "application/vnd.jupyter.widget-view+json": {
       "model_id": "b4d03087560c43a39ef433f92c830789",
       "version_major": 2,
       "version_minor": 0
      },
      "text/plain": [
       "Downloading (…)solve/main/README.md:   0%|          | 0.00/8.47k [00:00<?, ?B/s]"
      ]
     },
     "metadata": {},
     "output_type": "display_data"
    },
    {
     "output_type": "stream",
     "name": "stderr",
     "output_type": "stream",
     "text": [
      "2023/10/17 15:45:11 WARNING mlflow.utils.requirements_utils: Found torch version (1.13.1+cpu) contains a local version label (+cpu). MLflow logged a pip requirement for this package as 'torch==1.13.1' without the local version label to make it installable from PyPI. To specify pip requirements containing local version labels, please use `conda_env` or `pip_requirements`.\n2023/10/17 15:45:11 WARNING mlflow.utils.requirements_utils: Found torchvision version (0.14.1+cpu) contains a local version label (+cpu). MLflow logged a pip requirement for this package as 'torchvision==0.14.1' without the local version label to make it installable from PyPI. To specify pip requirements containing local version labels, please use `conda_env` or `pip_requirements`.\n/databricks/python/lib/python3.10/site-packages/_distutils_hack/__init__.py:33: UserWarning: Setuptools is replacing distutils.\n  warnings.warn(\"Setuptools is replacing distutils.\")\n"
     ]
    }
   ],
   "source": [
    "import mlflow\n",
    "\n",
    "# Tell MLflow Tracking to user this explicit experiment path,\n",
    "# which is in your home directory under the Workspace browser (left-hand sidebar).\n",
    "mlflow.set_experiment(f\"/Users/{DA.username}/LLM 06 - MLflow experiment\")\n",
    "\n",
    "with mlflow.start_run():\n",
    "    # LOG PARAMS\n",
    "    mlflow.log_params(\n",
    "        {\n",
    "            \"hf_model_name\": hf_model_name,\n",
    "            \"min_length\": min_length,\n",
    "            \"max_length\": max_length,\n",
    "            \"truncation\": truncation,\n",
    "            \"do_sample\": do_sample,\n",
    "        }\n",
    "    )\n",
    "\n",
    "    # --------------------------------\n",
    "    # LOG INPUTS (QUERIES) AND OUTPUTS\n",
    "    # Logged `inputs` are expected to be a list of str, or a list of str->str dicts.\n",
    "    results_list = [r[\"summary_text\"] for r in results]\n",
    "\n",
    "    # Our LLM pipeline does not have prompts separate from inputs, so we do not log any prompts.\n",
    "    mlflow.llm.log_predictions(\n",
    "        inputs=xsum_sample[\"document\"],\n",
    "        outputs=results_list,\n",
    "        prompts=[\"\" for _ in results_list],\n",
    "    )\n",
    "\n",
    "    # ---------\n",
    "    # LOG MODEL\n",
    "    # We next log our LLM pipeline as an MLflow model.\n",
    "    # This packages the model with useful metadata, such as the library versions used to create it.\n",
    "    # This metadata makes it much easier to deploy the model downstream.\n",
    "    # Under the hood, the model format is simply the ML library's native format (Hugging Face for us), plus metadata.\n",
    "\n",
    "    # It is valuable to log a \"signature\" with the model telling MLflow the input and output schema for the model.\n",
    "    signature = mlflow.models.infer_signature(\n",
    "        xsum_sample[\"document\"][0],\n",
    "        mlflow.transformers.generate_signature_output(\n",
    "            summarizer, xsum_sample[\"document\"][0]\n",
    "        ),\n",
    "    )\n",
    "    print(f\"Signature:\\n{signature}\\n\")\n",
    "\n",
    "    # For mlflow.transformers, if there are inference-time configurations,\n",
    "    # those need to be saved specially in the log_model call (below).\n",
    "    # This ensures that the pipeline will use these same configurations when re-loaded.\n",
    "    inference_config = {\n",
    "        \"min_length\": min_length,\n",
    "        \"max_length\": max_length,\n",
    "        \"truncation\": truncation,\n",
    "        \"do_sample\": do_sample,\n",
    "    }\n",
    "\n",
    "    # Logging a model returns a handle `model_info` to the model metadata in the tracking server.\n",
    "    # This `model_info` will be useful later in the notebook to retrieve the logged model.\n",
    "    model_info = mlflow.transformers.log_model(\n",
    "        transformers_model=summarizer,\n",
    "        artifact_path=\"summarizer\",\n",
    "        task=\"summarization\",\n",
    "        inference_config=inference_config,\n",
    "        signature=signature,\n",
    "        input_example=\"This is an example of a long news article which this pipeline can summarize for you.\",\n",
    "    )"
   ]
  },
  {
   "cell_type": "markdown",
   "metadata": {
    "application/vnd.databricks.v1+cell": {
     "cellMetadata": {},
     "inputWidgets": {},
     "nuid": "501e777a-e915-40d8-af0e-8f8a9b1f76de",
     "showTitle": false,
     "title": ""
    }
   },
   "source": [
    "### Query the MLflow Tracking server\n",
    "\n",
    "**MLflow Tracking API**: We briefly show how to query the logged model and metadata in the MLflow Tracking server, by loading the logged model.  See the [MLflow API](https://mlflow.org/docs/latest/python_api/mlflow.html) for more information about programmatic access.\n",
    "\n",
    "**MLflow Tracking UI**: You can also use the UI.  In the right-hand sidebar, click the beaker icon to access the MLflow experiments run list, and then click through to access the Tracking server UI.  There, you can see the logged metadata and model.  Note in particular that our LLM inputs and outputs have been logged as a CSV file under model artifacts.\n",
    "\n",
    "GIF of MLflow UI:\n",
    "![GIF of MLflow UI](https://files.training.databricks.com/images/llm/llmops.gif)"
   ]
  },
  {
   "cell_type": "markdown",
   "metadata": {
    "application/vnd.databricks.v1+cell": {
     "cellMetadata": {},
     "inputWidgets": {},
     "nuid": "3d13d150-4e2e-44dc-ac2b-340d6232c253",
     "showTitle": false,
     "title": ""
    }
   },
   "source": [
    "Now, we can load the pipeline back from MLflow as a [pyfunc](https://mlflow.org/docs/latest/python_api/mlflow.pyfunc.html) and use the `.predict()` method to summarize an example document."
   ]
  },
  {
   "cell_type": "code",
   "execution_count": 0,
   "metadata": {
    "application/vnd.databricks.v1+cell": {
     "cellMetadata": {
      "byteLimit": 2048000,
      "rowLimit": 10000
     },
     "inputWidgets": {},
     "nuid": "529ab320-fe7f-4409-a464-5e5eca65e035",
     "showTitle": false,
     "title": ""
    }
   },
   "outputs": [
    {
     "output_type": "execute_result",
     "data": {
      "text/plain": [
       "'the full cost of damage in Newton Stewart is still being assessed . many roads in peeblesshire remain badly affected by standing water . the water breached a retaining'"
      ]
     },
     "execution_count": 21,
     "metadata": {},
     "output_type": "execute_result"
    }
   ],
   "source": [
    "loaded_summarizer = mlflow.pyfunc.load_model(model_uri=model_info.model_uri)\n",
    "loaded_summarizer.predict(xsum_sample[\"document\"][0])"
   ]
  },
  {
   "cell_type": "markdown",
   "metadata": {
    "application/vnd.databricks.v1+cell": {
     "cellMetadata": {},
     "inputWidgets": {},
     "nuid": "1996cce9-eb34-4daa-a1af-7633b4965ccb",
     "showTitle": false,
     "title": ""
    }
   },
   "source": [
    "The `.predict()` method can handle more than one document at a time, below we pass in all the data from `xsum_sample`."
   ]
  },
  {
   "cell_type": "code",
   "execution_count": 0,
   "metadata": {
    "application/vnd.databricks.v1+cell": {
     "cellMetadata": {
      "byteLimit": 2048000,
      "rowLimit": 10000
     },
     "inputWidgets": {},
     "nuid": "e37bd09e-fbea-4a3a-8454-c7e869e3bbc6",
     "showTitle": false,
     "title": ""
    }
   },
   "outputs": [
    {
     "output_type": "display_data",
     "data": {
      "text/html": [
       "<style scoped>\n",
       "  .table-result-container {\n",
       "    max-height: 300px;\n",
       "    overflow: auto;\n",
       "  }\n",
       "  table, th, td {\n",
       "    border: 1px solid black;\n",
       "    border-collapse: collapse;\n",
       "  }\n",
       "  th, td {\n",
       "    padding: 5px;\n",
       "  }\n",
       "  th {\n",
       "    text-align: left;\n",
       "  }\n",
       "</style><div class='table-result-container'><table class='table-result'><thead style='background-color: white'><tr><th>generated_summary</th></tr></thead><tbody><tr><td>many businesses and householders were affected by flooding in Newton Stewart . the water breached a retaining wall, flooding many commercial properties . a flood alert remains in place across</td></tr><tr><td>fire alarm went off at the Holiday Inn in Hope Street at about 04:20 BST on Saturday . guests were asked to leave the hotel . one of the tour groups is from</td></tr><tr><td>Sebastian Vettel will start third ahead of team-mate Kimi Raikkonen . stewards only handed Hamilton a reprimand after governing body said \"n</td></tr><tr><td>the 67-year-old is accused of committing the offences between March 1972 and October 1989 . he denies all the charges, including two counts of indecency</td></tr><tr><td>a man receiving psychiatric treatment at the clinic threatened to shoot himself and others . the man had been receiving treatment for two years, a hospital consultant says .</td></tr><tr><td>Gregor Townsend gave a debut to powerhouse wing Taqele Naiyaravoro . the dragons gave first starts of the season to wing a</td></tr><tr><td>Veronica Vanessa Chango-Alverez, 31, was killed and another man injured in the crash . police want to trace Nathan Davis, 27, who has links to the Audi .</td></tr><tr><td>the 25-year-old was hit by a motorbike during the Gent-Wevelgem race . he was taken to hospital in Lille but died later . the sport</td></tr><tr><td>gundogan says he \"can see the finishing line\" after tearing cruciate knee ligaments . the 26-year-old will not be fit for the start of the</td></tr><tr><td>the crash happened about 07:20 GMT at the junction of the A127 and Progress Road in leigh-on-Sea, Essex . the man, aged in his 20s</td></tr></tbody></table></div>"
      ]
     },
     "metadata": {
      "application/vnd.databricks.v1+output": {
       "addedWidgets": {},
       "aggData": [],
       "aggError": "",
       "aggOverflow": false,
       "aggSchema": [],
       "aggSeriesLimitReached": false,
       "aggType": "",
       "arguments": {},
       "columnCustomDisplayInfos": {},
       "data": [
        [
         "many businesses and householders were affected by flooding in Newton Stewart . the water breached a retaining wall, flooding many commercial properties . a flood alert remains in place across"
        ],
        [
         "fire alarm went off at the Holiday Inn in Hope Street at about 04:20 BST on Saturday . guests were asked to leave the hotel . one of the tour groups is from"
        ],
        [
         "Sebastian Vettel will start third ahead of team-mate Kimi Raikkonen . stewards only handed Hamilton a reprimand after governing body said \"n"
        ],
        [
         "the 67-year-old is accused of committing the offences between March 1972 and October 1989 . he denies all the charges, including two counts of indecency"
        ],
        [
         "a man receiving psychiatric treatment at the clinic threatened to shoot himself and others . the man had been receiving treatment for two years, a hospital consultant says ."
        ],
        [
         "Gregor Townsend gave a debut to powerhouse wing Taqele Naiyaravoro . the dragons gave first starts of the season to wing a"
        ],
        [
         "Veronica Vanessa Chango-Alverez, 31, was killed and another man injured in the crash . police want to trace Nathan Davis, 27, who has links to the Audi ."
        ],
        [
         "the 25-year-old was hit by a motorbike during the Gent-Wevelgem race . he was taken to hospital in Lille but died later . the sport"
        ],
        [
         "gundogan says he \"can see the finishing line\" after tearing cruciate knee ligaments . the 26-year-old will not be fit for the start of the"
        ],
        [
         "the crash happened about 07:20 GMT at the junction of the A127 and Progress Road in leigh-on-Sea, Essex . the man, aged in his 20s"
        ]
       ],
       "datasetInfos": [],
       "dbfsResultPath": null,
       "isJsonSchema": true,
       "metadata": {},
       "overflow": false,
       "plotOptions": {
        "customPlotOptions": {},
        "displayType": "table",
        "pivotAggregation": null,
        "pivotColumns": null,
        "xColumns": null,
        "yColumns": null
       },
       "removedWidgets": [],
       "schema": [
        {
         "metadata": "{}",
         "name": "generated_summary",
         "type": "\"string\""
        }
       ],
       "type": "table"
      }
     },
     "output_type": "display_data"
    }
   ],
   "source": [
    "results = loaded_summarizer.predict(xsum_sample.to_pandas()[\"document\"])\n",
    "display(pd.DataFrame(results, columns=[\"generated_summary\"]))"
   ]
  },
  {
   "cell_type": "markdown",
   "metadata": {
    "application/vnd.databricks.v1+cell": {
     "cellMetadata": {},
     "inputWidgets": {},
     "nuid": "3577804b-b2e6-405d-b104-612ac443a99f",
     "showTitle": false,
     "title": ""
    }
   },
   "source": [
    "We are now ready to move to the staging step of deployment.  To get started, we will register the model in the MLflow Model Registry (more info below)."
   ]
  },
  {
   "cell_type": "code",
   "execution_count": 0,
   "metadata": {
    "application/vnd.databricks.v1+cell": {
     "cellMetadata": {
      "byteLimit": 2048000,
      "rowLimit": 10000
     },
     "inputWidgets": {},
     "nuid": "861cdec9-6d89-4dd6-8113-24271069d97e",
     "showTitle": false,
     "title": ""
    }
   },
   "outputs": [
    {
     "output_type": "stream",
     "name": "stdout",
     "output_type": "stream",
     "text": [
      "summarizer - odl_user_1125535@databrickslabs_com\n"
     ]
    }
   ],
   "source": [
    "# Define the name for the model in the Model Registry.\n",
    "# We filter out some special characters which cannot be used in model names.\n",
    "model_name = f\"summarizer - {DA.username}\"\n",
    "model_name = model_name.replace(\"/\", \"_\").replace(\".\", \"_\").replace(\":\", \"_\")\n",
    "print(model_name)"
   ]
  },
  {
   "cell_type": "code",
   "execution_count": 0,
   "metadata": {
    "application/vnd.databricks.v1+cell": {
     "cellMetadata": {
      "byteLimit": 2048000,
      "rowLimit": 10000
     },
     "inputWidgets": {},
     "nuid": "933ee2ea-1706-4e69-a7b6-b0695385b7e8",
     "showTitle": false,
     "title": ""
    }
   },
   "outputs": [
    {
     "output_type": "stream",
     "name": "stderr",
     "output_type": "stream",
     "text": [
      "Successfully registered model 'summarizer - odl_user_1125535@databrickslabs_com'.\n2023/10/17 15:45:54 INFO mlflow.tracking._model_registry.client: Waiting up to 300 seconds for model version to finish creation. Model name: summarizer - odl_user_1125535@databrickslabs_com, version 1\nCreated version '1' of model 'summarizer - odl_user_1125535@databrickslabs_com'.\n"
     ]
    },
    {
     "output_type": "execute_result",
     "data": {
      "text/plain": [
       "<ModelVersion: aliases=[], creation_timestamp=1697557554898, current_stage='None', description='', last_updated_timestamp=1697557564659, name='summarizer - odl_user_1125535@databrickslabs_com', run_id='a741a1ea44384f439b90529d933bdfe8', run_link='', source='dbfs:/databricks/mlflow-tracking/465486717995591/a741a1ea44384f439b90529d933bdfe8/artifacts/summarizer', status='READY', status_message='', tags={}, user_id='odl_user_1125535@databrickslabs.com', version='1'>"
      ]
     },
     "execution_count": 24,
     "metadata": {},
     "output_type": "execute_result"
    }
   ],
   "source": [
    "# Register a new model under the given name, or a new model version if the name exists already.\n",
    "mlflow.register_model(model_uri=model_info.model_uri, name=model_name)"
   ]
  },
  {
   "cell_type": "markdown",
   "metadata": {
    "application/vnd.databricks.v1+cell": {
     "cellMetadata": {},
     "inputWidgets": {},
     "nuid": "5b2672b7-5a74-43aa-a77d-3a198c90700c",
     "showTitle": false,
     "title": ""
    }
   },
   "source": [
    "## Test the LLM pipeline\n",
    "\n",
    "During the Staging step of development, our goal is to move code and/or models from Development to Production.  In order to do so, we must test the code and/or models to make sure they are ready for Production.\n",
    "\n",
    "We track our progress here using the [MLflow Model Registry](https://mlflow.org/docs/latest/model-registry.html).  This metadata and model store organizes models as follows:\n",
    "* **A registered model** is a named model in the registry, in our case corresponding to our summarization model.  It may have multiple *versions*.\n",
    "   * **A model version** is an instance of a given model.  As you update your model, you will create new versions.  Each version is designated as being in a particular *stage* of deployment.\n",
    "      * **A stage** is a stage of deployment: `None` (development), `Staging`, `Production`, or `Archived`.\n",
    "\n",
    "The model we registered above starts with 1 version in stage `None` (development).\n",
    "\n",
    "In the workflow below, we will programmatically transition the model from development to staging to production.  For more information on the Model Registry API, see the [Model Registry docs](https://mlflow.org/docs/latest/model-registry.html).  Alternatively, you can edit the registry and make model stage transitions via the UI.  To access the UI, click the Experiments menu option in the left-hand sidebar, and search for your model name."
   ]
  },
  {
   "cell_type": "code",
   "execution_count": 0,
   "metadata": {
    "application/vnd.databricks.v1+cell": {
     "cellMetadata": {
      "byteLimit": 2048000,
      "rowLimit": 10000
     },
     "inputWidgets": {},
     "nuid": "db55a995-a234-4b5b-b5f1-7615722162b6",
     "showTitle": false,
     "title": ""
    }
   },
   "outputs": [],
   "source": [
    "from mlflow import MlflowClient\n",
    "\n",
    "client = MlflowClient()"
   ]
  },
  {
   "cell_type": "code",
   "execution_count": 0,
   "metadata": {
    "application/vnd.databricks.v1+cell": {
     "cellMetadata": {
      "byteLimit": 2048000,
      "rowLimit": 10000
     },
     "inputWidgets": {},
     "nuid": "584a6b51-3165-444b-a8e2-f63d3051060a",
     "showTitle": false,
     "title": ""
    }
   },
   "outputs": [
    {
     "output_type": "execute_result",
     "data": {
      "text/plain": [
       "[<RegisteredModel: aliases={}, creation_timestamp=1697557554660, description='', last_updated_timestamp=1697557554898, latest_versions=[<ModelVersion: aliases=[], creation_timestamp=1697557554898, current_stage='None', description='', last_updated_timestamp=1697557564659, name='summarizer - odl_user_1125535@databrickslabs_com', run_id='a741a1ea44384f439b90529d933bdfe8', run_link='', source='dbfs:/databricks/mlflow-tracking/465486717995591/a741a1ea44384f439b90529d933bdfe8/artifacts/summarizer', status='READY', status_message='', tags={}, user_id='odl_user_1125535@databrickslabs.com', version='1'>], name='summarizer - odl_user_1125535@databrickslabs_com', tags={}>]"
      ]
     },
     "execution_count": 26,
     "metadata": {},
     "output_type": "execute_result"
    }
   ],
   "source": [
    "client.search_registered_models(filter_string=f\"name = '{model_name}'\")"
   ]
  },
  {
   "cell_type": "markdown",
   "metadata": {
    "application/vnd.databricks.v1+cell": {
     "cellMetadata": {},
     "inputWidgets": {},
     "nuid": "f52b5f54-5976-4d49-b47f-8c61d7097c62",
     "showTitle": false,
     "title": ""
    }
   },
   "source": [
    "In the metadata above, you can see that the model is currently in stage `None` (development).  In this workflow, we will run manual tests, but it would be reasonable to run both automated evaluation and human evaluation in practice.  Once tests pass, we will promote the model to stage `Production` to mark it ready for user-facing applications.\n",
    "\n",
    "*Model URIs*: Below, we use model URIs to tell MLflow which model and version we are referring to.  Two common URI patterns for the MLflow Model Registry are:\n",
    "* `f\"models:/{model_name}/{model_version}\"` to refer to a specific model version by number\n",
    "* `f\"models:/{model_name}/{model_stage}\"` to refer to the latest model version in a given stage"
   ]
  },
  {
   "cell_type": "code",
   "execution_count": 0,
   "metadata": {
    "application/vnd.databricks.v1+cell": {
     "cellMetadata": {
      "byteLimit": 2048000,
      "rowLimit": 10000
     },
     "inputWidgets": {},
     "nuid": "ae7b9ca9-59cd-43f4-ae76-ed07b61648c8",
     "showTitle": false,
     "title": ""
    }
   },
   "outputs": [
    {
     "output_type": "execute_result",
     "data": {
      "text/plain": [
       "mlflow.pyfunc.loaded_model:\n",
       "  artifact_path: summarizer\n",
       "  flavor: mlflow.transformers\n",
       "  run_id: a741a1ea44384f439b90529d933bdfe8"
      ]
     },
     "execution_count": 27,
     "metadata": {},
     "output_type": "execute_result"
    }
   ],
   "source": [
    "model_version = 1\n",
    "dev_model = mlflow.pyfunc.load_model(model_uri=f\"models:/{model_name}/{model_version}\")\n",
    "dev_model"
   ]
  },
  {
   "cell_type": "markdown",
   "metadata": {
    "application/vnd.databricks.v1+cell": {
     "cellMetadata": {},
     "inputWidgets": {},
     "nuid": "2f999f2f-d611-4a70-aa90-af5a8b24f26b",
     "showTitle": false,
     "title": ""
    }
   },
   "source": [
    "*Note about model dependencies*:\n",
    "When you load the model via MLflow above, you may see warnings about the Python environment.  It is very important to ensure that the environments for development, staging, and production match.\n",
    "* For this demo notebook, everything is done within the same notebook environment, so we do not need to worry about libraries and versions.  However, in the Production section below, we demonstrate how to pass the `env_manager` argument to the method for loading the saved MLflow model, which tells MLflow what tooling to use to recreate the environment.\n",
    "* To create a genuine production job, make sure to install the needed libraries.  MLflow saves these libraries and versions alongside the logged model; see the [MLflow docs on model storage](https://mlflow.org/docs/latest/models.html#storage-format) for more information.  While using Databricks for this course, you can also generate an example inference notebook which includes code for setting up the environment; see [the model inference docs](https://docs.databricks.com/machine-learning/manage-model-lifecycle/index.html#use-model-for-inference) for batch or streaming inference for more information."
   ]
  },
  {
   "cell_type": "markdown",
   "metadata": {
    "application/vnd.databricks.v1+cell": {
     "cellMetadata": {},
     "inputWidgets": {},
     "nuid": "3828a7fe-2954-4078-a592-69f4eb091839",
     "showTitle": false,
     "title": ""
    }
   },
   "source": [
    "### Transition to Staging\n",
    "\n",
    "We will move the model to stage `Staging` to indicate that we are actively testing it."
   ]
  },
  {
   "cell_type": "code",
   "execution_count": 0,
   "metadata": {
    "application/vnd.databricks.v1+cell": {
     "cellMetadata": {
      "byteLimit": 2048000,
      "rowLimit": 10000
     },
     "inputWidgets": {},
     "nuid": "09f8ae07-dffa-40a7-b98b-04bc4cfba823",
     "showTitle": false,
     "title": ""
    }
   },
   "outputs": [
    {
     "output_type": "execute_result",
     "data": {
      "text/plain": [
       "<ModelVersion: aliases=[], creation_timestamp=1697557554898, current_stage='Staging', description='', last_updated_timestamp=1697557579231, name='summarizer - odl_user_1125535@databrickslabs_com', run_id='a741a1ea44384f439b90529d933bdfe8', run_link='', source='dbfs:/databricks/mlflow-tracking/465486717995591/a741a1ea44384f439b90529d933bdfe8/artifacts/summarizer', status='READY', status_message='', tags={}, user_id='8830702406365998', version='1'>"
      ]
     },
     "execution_count": 28,
     "metadata": {},
     "output_type": "execute_result"
    }
   ],
   "source": [
    "client.transition_model_version_stage(model_name, model_version, \"staging\")"
   ]
  },
  {
   "cell_type": "code",
   "execution_count": 0,
   "metadata": {
    "application/vnd.databricks.v1+cell": {
     "cellMetadata": {
      "byteLimit": 2048000,
      "rowLimit": 10000
     },
     "inputWidgets": {},
     "nuid": "69c79a5f-46d1-4ddc-a90a-2f6544490df7",
     "showTitle": false,
     "title": ""
    }
   },
   "outputs": [],
   "source": [
    "staging_model = dev_model\n",
    "\n",
    "# An actual CI/CD workflow might load the `staging_model` programmatically.  For example:\n",
    "#   mlflow.pyfunc.load_model(model_uri=f\"models:/{model_name}/{Staging}\")\n",
    "# or\n",
    "#   mlflow.pyfunc.load_model(model_uri=f\"models:/{model_name}/{model_version}\")"
   ]
  },
  {
   "cell_type": "markdown",
   "metadata": {
    "application/vnd.databricks.v1+cell": {
     "cellMetadata": {},
     "inputWidgets": {},
     "nuid": "61824ed1-4af6-4a67-ba01-43c4cf6dba0b",
     "showTitle": false,
     "title": ""
    }
   },
   "source": [
    "We now \"test\" the model manually on sample data. Here, we simply print out results and compare them with the original data.  In a more realistic setting, we might use a set of human evaluators to decide whether the model outperformed the previous model or system."
   ]
  },
  {
   "cell_type": "code",
   "execution_count": 0,
   "metadata": {
    "application/vnd.databricks.v1+cell": {
     "cellMetadata": {
      "byteLimit": 2048000,
      "rowLimit": 10000
     },
     "inputWidgets": {},
     "nuid": "ebda74c0-c404-46cd-b54a-52251bcd7427",
     "showTitle": false,
     "title": ""
    }
   },
   "outputs": [
    {
     "output_type": "display_data",
     "data": {
      "text/html": [
       "<style scoped>\n",
       "  .table-result-container {\n",
       "    max-height: 300px;\n",
       "    overflow: auto;\n",
       "  }\n",
       "  table, th, td {\n",
       "    border: 1px solid black;\n",
       "    border-collapse: collapse;\n",
       "  }\n",
       "  th, td {\n",
       "    padding: 5px;\n",
       "  }\n",
       "  th {\n",
       "    text-align: left;\n",
       "  }\n",
       "</style><div class='table-result-container'><table class='table-result'><thead style='background-color: white'><tr><th>generated_summary</th></tr></thead><tbody><tr><td>a flood alert remains in place across the borders because of constant rain . many roads in peeblesshire remain badly affected by standing water . the full cost of damage is</td></tr><tr><td>fire alarm went off at the Holiday Inn in Hope Street on Saturday . one of the tour groups is from Germany, the other from china and Taiwan . police have appealed for</td></tr><tr><td>stewards only handed Hamilton a reprimand for reversing in the pit lane . the FIA said \"no clear instruction was given on where</td></tr><tr><td>the 67-year-old is accused of committing the offences between March 1972 and October 1989 . he denies all the charges, including two counts of indecency</td></tr><tr><td>a man receiving treatment at the clinic threatened to shoot himself and others . the incident comes amid tension in Istanbul following several attacks on the reina nightclub .</td></tr><tr><td>greg Townsend gave a debut to powerhouse wing Taqele Naiyaravoro . the dragons gave first starts of the season to wing a</td></tr><tr><td>Veronica Vanessa Chango-Alverez, 31, was killed and another man injured in the crash . police want to trace Nathan Davis, 27, who has links to the Audi .</td></tr><tr><td>the 25-year-old was hit by a motorbike during the Gent-Wevelgem race . the sport's governing body said it would co-operate</td></tr><tr><td>gundogan says he can see the finishing line after tearing cruciate knee ligaments . the 26-year-old will not be fit for the start of the premier league</td></tr><tr><td>the crash happened about 07:20 GMT at the junction of the A127 and Progress Road . the man, aged in his 20s, was treated at the scene for a head injury</td></tr></tbody></table></div>"
      ]
     },
     "metadata": {
      "application/vnd.databricks.v1+output": {
       "addedWidgets": {},
       "aggData": [],
       "aggError": "",
       "aggOverflow": false,
       "aggSchema": [],
       "aggSeriesLimitReached": false,
       "aggType": "",
       "arguments": {},
       "columnCustomDisplayInfos": {},
       "data": [
        [
         "a flood alert remains in place across the borders because of constant rain . many roads in peeblesshire remain badly affected by standing water . the full cost of damage is"
        ],
        [
         "fire alarm went off at the Holiday Inn in Hope Street on Saturday . one of the tour groups is from Germany, the other from china and Taiwan . police have appealed for"
        ],
        [
         "stewards only handed Hamilton a reprimand for reversing in the pit lane . the FIA said \"no clear instruction was given on where"
        ],
        [
         "the 67-year-old is accused of committing the offences between March 1972 and October 1989 . he denies all the charges, including two counts of indecency"
        ],
        [
         "a man receiving treatment at the clinic threatened to shoot himself and others . the incident comes amid tension in Istanbul following several attacks on the reina nightclub ."
        ],
        [
         "greg Townsend gave a debut to powerhouse wing Taqele Naiyaravoro . the dragons gave first starts of the season to wing a"
        ],
        [
         "Veronica Vanessa Chango-Alverez, 31, was killed and another man injured in the crash . police want to trace Nathan Davis, 27, who has links to the Audi ."
        ],
        [
         "the 25-year-old was hit by a motorbike during the Gent-Wevelgem race . the sport's governing body said it would co-operate"
        ],
        [
         "gundogan says he can see the finishing line after tearing cruciate knee ligaments . the 26-year-old will not be fit for the start of the premier league"
        ],
        [
         "the crash happened about 07:20 GMT at the junction of the A127 and Progress Road . the man, aged in his 20s, was treated at the scene for a head injury"
        ]
       ],
       "datasetInfos": [],
       "dbfsResultPath": null,
       "isJsonSchema": true,
       "metadata": {},
       "overflow": false,
       "plotOptions": {
        "customPlotOptions": {},
        "displayType": "table",
        "pivotAggregation": null,
        "pivotColumns": null,
        "xColumns": null,
        "yColumns": null
       },
       "removedWidgets": [],
       "schema": [
        {
         "metadata": "{}",
         "name": "generated_summary",
         "type": "\"string\""
        }
       ],
       "type": "table"
      }
     },
     "output_type": "display_data"
    }
   ],
   "source": [
    "results = staging_model.predict(xsum_sample.to_pandas()[\"document\"])\n",
    "display(pd.DataFrame(results, columns=[\"generated_summary\"]))"
   ]
  },
  {
   "cell_type": "markdown",
   "metadata": {
    "application/vnd.databricks.v1+cell": {
     "cellMetadata": {},
     "inputWidgets": {},
     "nuid": "fce4aaf5-ecf4-43dc-8c7a-fa666c3f4120",
     "showTitle": false,
     "title": ""
    }
   },
   "source": [
    "### Transition to Production\n",
    "\n",
    "The results look great!  :) Let's transition the model to Production."
   ]
  },
  {
   "cell_type": "code",
   "execution_count": 0,
   "metadata": {
    "application/vnd.databricks.v1+cell": {
     "cellMetadata": {
      "byteLimit": 2048000,
      "rowLimit": 10000
     },
     "inputWidgets": {},
     "nuid": "1d4e1f58-adf2-4c21-b81a-31c86ca2c888",
     "showTitle": false,
     "title": ""
    }
   },
   "outputs": [
    {
     "output_type": "execute_result",
     "data": {
      "text/plain": [
       "<ModelVersion: aliases=[], creation_timestamp=1697557554898, current_stage='Production', description='', last_updated_timestamp=1697557592147, name='summarizer - odl_user_1125535@databrickslabs_com', run_id='a741a1ea44384f439b90529d933bdfe8', run_link='', source='dbfs:/databricks/mlflow-tracking/465486717995591/a741a1ea44384f439b90529d933bdfe8/artifacts/summarizer', status='READY', status_message='', tags={}, user_id='8830702406365998', version='1'>"
      ]
     },
     "execution_count": 31,
     "metadata": {},
     "output_type": "execute_result"
    }
   ],
   "source": [
    "client.transition_model_version_stage(model_name, model_version, \"production\")"
   ]
  },
  {
   "cell_type": "markdown",
   "metadata": {
    "application/vnd.databricks.v1+cell": {
     "cellMetadata": {},
     "inputWidgets": {},
     "nuid": "863a6fb4-7223-40a9-ba80-41a9ffd22f58",
     "showTitle": false,
     "title": ""
    }
   },
   "source": [
    "## Create a production workflow for batch inference\n",
    "\n",
    "Once the LLM pipeline is in Production, it may be used by one or more production jobs or serving endpoints.  Common deployment locations are:\n",
    "* Batch or streaming inference jobs\n",
    "* Model serving endpoints\n",
    "* Edge devices\n",
    "\n",
    "Here, we will show batch inference using Apache Spark DataFrames, with Delta Lake format.  Spark allows simple scale-out inference for high-throughput, low-cost jobs, and Delta allows us to append to and modify inference result tables with ACID transactions.  See the [Apache Spark page](https://spark.apache.org/) and the [Delta Lake page](https://delta.io/) more more information on these technologies."
   ]
  },
  {
   "cell_type": "code",
   "execution_count": 0,
   "metadata": {
    "application/vnd.databricks.v1+cell": {
     "cellMetadata": {
      "byteLimit": 2048000,
      "rowLimit": 10000
     },
     "inputWidgets": {},
     "nuid": "6a51b6c1-069b-455f-92bd-81c1e9ca9d22",
     "showTitle": false,
     "title": ""
    }
   },
   "outputs": [
    {
     "output_type": "display_data",
     "data": {
      "text/html": [
       "<style scoped>\n",
       "  .table-result-container {\n",
       "    max-height: 300px;\n",
       "    overflow: auto;\n",
       "  }\n",
       "  table, th, td {\n",
       "    border: 1px solid black;\n",
       "    border-collapse: collapse;\n",
       "  }\n",
       "  th, td {\n",
       "    padding: 5px;\n",
       "  }\n",
       "  th {\n",
       "    text-align: left;\n",
       "  }\n",
       "</style><div class='table-result-container'><table class='table-result'><thead style='background-color: white'><tr><th>document</th><th>summary</th><th>id</th></tr></thead><tbody><tr><td>Prison Link Cymru had 1,099 referrals in 2015-16 and said some ex-offenders were living rough for up to a year before finding suitable accommodation.\n",
       "Workers at the charity claim investment in housing would be cheaper than jailing homeless repeat offenders.\n",
       "The Welsh Government said more people than ever were getting help to address housing problems.\n",
       "Changes to the Housing Act in Wales, introduced in 2015, removed the right for prison leavers to be given priority for accommodation.\n",
       "Prison Link Cymru, which helps people find accommodation after their release, said things were generally good for women because issues such as children or domestic violence were now considered.\n",
       "However, the same could not be said for men, the charity said, because issues which often affect them, such as post traumatic stress disorder or drug dependency, were often viewed as less of a priority.\n",
       "Andrew Stevens, who works in Welsh prisons trying to secure housing for prison leavers, said the need for accommodation was \"chronic\".\n",
       "\"There's a desperate need for it, finding suitable accommodation for those leaving prison there is just a lack of it everywhere,\" he said.\n",
       "\"It could take six months to a year, without a lot of help they could be on the streets for six months.\n",
       "\"When you think of the consequences of either being on the street, especially with the cold weather at the moment or you may have a roof over your head, sometimes there is only one choice.\"\n",
       "Mr Stevens believes building more one-bedroom flats could help ease the problem.\n",
       "\"The average price is a hundred pounds a week to keep someone in a rented flat, prison is a lot more than that so I would imagine it would save the public purse quite a few pounds,\" he said.\n",
       "Official figures show 830 one-bedroom properties were built in the year to March 2016, of an overall total of 6,900 new properties in Wales.\n",
       "Marc, 50, who has been in and out of prison for the past 20 years for burglary offences, said he struggled to find accommodation each time he was released.\n",
       "He said he would ask himself: \"Where am I going to stay? Where am I going to live? Have I got somewhere where I can see my daughter.\"\n",
       "\"You're put out among the same sort of people doing the same sort of thing, and it's difficult, it's difficult to get away from it. It's like every man for himself, there's nothing.\"\n",
       "Marc has now found stable accommodation with homeless charity Emmaus and said it had been life changing.\n",
       "\"You feel safe, you got hot food, you've got company of people in similar situations to yourself but all dealing with different issues. It's a constructive, helpful atmosphere,\" he said.\n",
       "Tom Clarke, chief executive of Emmaus South Wales, agreed there was not enough support available.\n",
       "\"We do still see [people] homeless on the streets, so clearly they haven't got accommodation and haven't got provision,\" he said.\n",
       "\"I think the key is connecting people with the services they need. I don't delude myself that Emmaus can offer a one size fits all for everyone, we can't.\n",
       "\"But there must be other opportunities and given suitable encouragement I believe that can and should happen.\"\n",
       "A Welsh Government spokesman said the national pathway for homeless services to children, young people and adults in the secure estate had prevented many people from losing their home whilst serving their prison sentence.\n",
       "It added there were already significant demands for one-bedroom flats across the public and private sector and it was providing 20,000 new affordable homes in the next five years.</td><td>There is a \"chronic\" need for more housing for prison leavers in Wales, according to a charity.</td><td>38264402</td></tr><tr><td>Officers searched properties in the Waterfront Park and Colonsay View areas of the city on Wednesday.\n",
       "Detectives said three firearms, ammunition and a five-figure sum of money were recovered.\n",
       "A 26-year-old man who was arrested and charged appeared at Edinburgh Sheriff Court on Thursday.</td><td>A man has appeared in court after firearms, ammunition and cash were seized by police in Edinburgh.</td><td>34227252</td></tr><tr><td>Jordan Hill, Brittany Covington and Tesfaye Cooper, all 18, and Tanishia Covington, 24, appeared in a Chicago court on Friday.\n",
       "The four have been charged with hate crimes and aggravated kidnapping and battery, among other things.\n",
       "An online fundraiser for their victim has collected $51,000 (Â£42,500) so far.\n",
       "Denying the four suspects bail, Judge Maria Kuriakos Ciesil asked: \"Where was your sense of decency?\"\n",
       "Prosecutors told the court the beating started in a van and continued at a house, where the suspects allegedly forced the 18-year-old white victim, who suffers from schizophrenia and attention deficit disorder, to drink toilet water and kiss the floor.\n",
       "Police allege the van was earlier stolen by Mr Hill, who is also accused of demanding $300 from the victim's mother while they held him captive, according to the Chicago Tribune.\n",
       "The court was also told the suspects stuffed a sock into his mouth, taped his mouth shut and bound his hands with a belt.\n",
       "In a video made for Facebook Live which was watched millions of times, the assailants can be heard making derogatory statements against white people and Donald Trump.\n",
       "The victim had been dropped off at a McDonalds to meet Mr Hill - who was one of his friends - on 31 December.\n",
       "He was found by a police officer on Tuesday, 3 January, a day after he was reported missing by his parents.\n",
       "Prosecutors say the suspects each face two hate crimes counts, one because of the victim's race and the other because of his disabilities.</td><td>Four people accused of kidnapping and torturing a mentally disabled man in a \"racially motivated\" attack streamed on Facebook have been denied bail.</td><td>38537698</td></tr><tr><td>The 48-year-old former Arsenal goalkeeper played for the Royals for four years.\n",
       "He was appointed youth academy director in 2000 and has been director of football since 2003.\n",
       "A West Brom statement said: \"He played a key role in the Championship club twice winning promotion to the Premier League in 2006 and 2012.\"</td><td>West Brom have appointed Nicky Hammond as technical director, ending his 20-year association with Reading.</td><td>36175342</td></tr><tr><td>Restoring the function of the organ - which helps control blood sugar levels - reversed symptoms of diabetes in animal experiments.\n",
       "The study, published in the journal Cell, says the diet reboots the body.\n",
       "Experts said the findings were \"potentially very exciting\" as they could become a new treatment for the disease.\n",
       "The experiments were on mice put on a modified form of the \"fasting-mimicking diet\".\n",
       "When people go on it they spend five days on a low calorie, low protein, low carbohydrate but high unsaturated-fat diet.\n",
       "It resembles a vegan diet with nuts and soups, but with around 800 to 1,100 calories a day.\n",
       "Then they have 25 days eating what they want - so overall it mimics periods of feast and famine.\n",
       "Previous research has suggested it can slow the pace of ageing.\n",
       "But animal experiments showed the diet regenerated a special type of cell in the pancreas called a beta cell.\n",
       "These are the cells that detect sugar in the blood and release the hormone insulin if it gets too high.\n",
       "Dr Valter Longo, from the University of Southern California, said: \"Our conclusion is that by pushing the mice into an extreme state and then bringing them back - by starving them and then feeding them again - the cells in the pancreas are triggered to use some kind of developmental reprogramming that rebuilds the part of the organ that's no longer functioning.\"\n",
       "There were benefits in both type 1 and type 2 diabetes in the mouse experiments.\n",
       "Type 1 is caused by the immune system destroying beta cells and type 2 is largely caused by lifestyle and the body no longer responding to insulin.\n",
       "Further tests on tissue samples from people with type 1 diabetes produced similar effects.\n",
       "Dr Longo said: \"Medically, these findings have the potential to be very important because we've shown - at least in mouse models - that you can use diet to reverse the symptoms of diabetes.\n",
       "\"Scientifically, the findings are perhaps even more important because we've shown that you can use diet to reprogram cells without having to make any genetic alterations.\"\n",
       "BBC reporter Peter Bowes took part in a separate trial with Dr Valter Longo.\n",
       "He said: \"During each five-day fasting cycle, when I ate about a quarter of the average person's diet, I lost between 2kg and 4kg (4.4-8.8lbs).\n",
       "\"But before the next cycle came round, 25 days of eating normally had returned me almost to my original weight.\n",
       "\"But not all consequences of the diet faded so quickly.\"\n",
       "His blood pressure was lower as was a hormone called IGF-1, which is linked to some cancers.\n",
       "He said: \"The very small meals I was given during the five-day fast were far from gourmet cooking, but I was glad to have something to eat\"\n",
       "Peter Bowes: Fasting for science\n",
       "Peter Bowes: Intermittent fasting and the good things it did to my body\n",
       "Separate trials of the diet in people have been shown to improve blood sugar levels. The latest findings help to explain why.\n",
       "However, Dr Longo said people should not rush off and crash diet.\n",
       "He told the BBC: \"It boils down to do not try this at home, this is so much more sophisticated than people realise.\"\n",
       "He said people could \"get into trouble\" with their health if it was done without medical guidance.\n",
       "Dr Emily Burns, research communications manager at Diabetes UK, said: \"This is potentially very exciting news, but we need to see if the results hold true in humans before we'll know more about what it means for people with diabetes.\n",
       "\"People with type-1 and type-2 diabetes would benefit immensely from treatments that can repair or regenerate insulin-producing cells in the pancreas.\"\n",
       "Follow James on Twitter.</td><td>The pancreas can be triggered to regenerate itself through a type of fasting diet, say US researchers.</td><td>39070183</td></tr><tr><td>But there certainly should be.\n",
       "These are two of the biggest firms in the lucrative international business of making spectacles. France's Essilor is the world's number one manufacturer of lenses and contact lenses, while Italy's Luxottica is the leading frame manufacturer.\n",
       "It is not obvious that the merger is in the public interest, though the two firms certainly think it is.\n",
       "\"The parties' activities are highly complementary and the deal would generate significant synergies and innovation and would be beneficial to customers,\" says Essilor.\n",
       "But there seems to be growing disquiet in the industry.\n",
       "Gordon Ilett, of the Association of Optometrists, says: \"This now allows the [enlarged] group to control all aspects of supply of product - from manufacture to the end user.\n",
       "\"Those businesses who remain as their customers will be indirectly controlled by the terms and conditions imposed by them.\n",
       "\"Whether their UK market share, following this merger, is sufficient for examination by the competition authorities is open to debate, but the effect of it will be reduced choice for the consumer, and will most likely result in reduced quality products longer term,\" Mr Ilett adds.\n",
       "If the deal goes through later this year the new company, to be called EssilorLuxottica, will become a behemoth of the industry.\n",
       "It will sell not only lenses and frames around the world but will also be stocking its own optician's shops as well, such as Sunglass Hut, and LensCrafters in the US and Australia, both currently owned by Luxottica.\n",
       "One long-standing independent UK wholesaler, who asked to remain anonymous, says the merged firm would be so powerful it would probably squeeze out some competitors.\n",
       "\"If those two companies merged there would be a branded frame supplier offering you high-end branded frames, and also offering UK opticians a lens and glazing deal, to suit, so they will control almost everything [they offer] to both independent retailers in the High Street and even the chains,\" he argues.\n",
       "In his view this would amount, almost, to a stranglehold on the supply of high-end glasses, with some rivals giving up.\n",
       "\"I imagine it would knock out quite a few glazing houses in the UK, and it would probably knock out other fashion frame houses,\" he adds.\n",
       "Unless you know about the eyewear business, or take an interest in investing in big European companies (they both have stock market listings) the names of the two big firms will probably have passed you by.\n",
       "But if you have been inside an optician's shop you will certainly have heard of the brands they own and make. For instance, the leading varifocal lens brand, Varilux, is made by Essilor.\n",
       "Just a year ago, in presenting its 2015 financial results to investors, Essilor boasted that it was \"an undisputed leader with only 25% market share\" of the combined world market for prescription lenses, sunglasses lenses and lenses for reading glasses.\n",
       "When it comes to just the prescription lenses, it has a 41% share of the world market.\n",
       "For its part, Luxottica owns several of its own brand names such as Ray-Ban and Oakley, and it also makes, under licence, spectacle frames which carry high-fashion names such as Armani, Burberry, Bulgari, Chanel, Prada, Ralph Lauren and Versace.\n",
       "In 2015 the Italian firm made almost 10% of the 954 million frames that were sold worldwide that year, and claims that about half a billion of its frames are currently perched on people's noses.\n",
       "The overall industry internationally is in fact quite fragmented with hundreds of other smaller manufacturers and related businesses such as glazing laboratories.\n",
       "Market research firm GFK describes the optical industry as \"a complex and extremely competitive market-space\".\n",
       "Even so, with the two firms having a combined turnover of more than 15bn euros (Â£12.8bn), of which 3.5bn euros were in Europe, on the grounds of size alone the proposed merger easily meets the requirements of the European Commission for a formal review.\n",
       "These are:\n",
       "An inquiry would see if the merged firm threatened to be too dominant, thus reducing competition and leading to higher prices for the customers.\n",
       "A Luxottica spokesman told the BBC that the firm was confident that any scrutiny would not hinder the deal.\n",
       "\"The transaction is subject to mandatory submission to a number of anti-monopoly authorities including the European one, as is customary in transactions of this size and nature,\" he said.\n",
       "\"We are confident that the transaction does not raise anti-monopoly issues and will fully co-operate with the anti-monopoly authorities to obtain the required clearance,\" he added.\n",
       "The EU itself says it currently has no comment to make and it has not yet been formally notified of the merger deal under the requirements of its own rules.\n",
       "But the leading chain of opticians, Specsavers, views the impending deal with caution.\n",
       "\"Mergers are a continuing trend in optics, but this is a significant development which will result in huge supply chain and retail implications for the industry and consumers worldwide,\" the firm says.\n",
       "\"It is unlikely that the impact of the merger will be felt by consumers straight away but we will watch with great interest how the new organisation will arrange itself.\"\n",
       "If you have ever bought a pair of spectacles with anything other than the most basic frame and lenses, you may have gulped at the price, possibly coming to several hundred pounds.\n",
       "Of course, not all spectacles are expensive and not all of the sale price goes to the manufacturers.\n",
       "Opticians and the wholesalers that supply them are businesses that seek to make a profit.\n",
       "They also need to cover the costs of staff, equipment, shop and office space, stock and all that advertising.\n",
       "But for the manufacturers such as Essilor and Luxottica, it is a stonkingly profitable business.\n",
       "On worldwide sales of 6.7bn euros in 2015, Essilor made operating profits of 1.2bn euros.\n",
       "For the same year, Luxottica sold goods worth 8.8bn euros and made operating profits of 1.4bn euros.\n",
       "With cost-cutting at a merged business projected to save between 400m and 600m euros per year, profits could be boosted even further.\n",
       "Will customers benefit as well?</td><td>Since their impending merger was announced in January, there has been remarkably little comment about the huge proposed deal to combine Essilor and Luxottica.</td><td>38899892</td></tr><tr><td>Media playback is not supported on this device\n",
       "The Olympic silver medallist accused the organisation of \"ageism\" and having \"zero regard\" for her welfare.\n",
       "She is the latest high-profile cyclist to come forward after Jess Varnish, Nicole Cooke and Emma Pooley criticised the World Class programme.\n",
       "Houvenaghel told the BBC she felt \"vindicated\" by a leaked draft report detailing British Cycling's failures.\n",
       "The report said British Cycling \"sanitised\" its own investigation into claims former technical director Shane Sutton used sexist language towards Varnish, who went public last April about her treatment.\n",
       "British Cycling subsequently admitted it did not pay \"sufficient care and attention\" to the wellbeing of staff and athletes at the expense of winning medals, an approach Houvenaghel attested to in her BBC interview.\n",
       "Both Sutton and predecessor Sir Dave Brailsford have now left British Cycling.\n",
       "Houvenaghel, 42, spoke to BBC Sport during its State of Sport week, which on Thursday examines the issue of athlete welfare versus a win-at-all-costs culture.\n",
       "A government-commissioned review, headed by 11-time Paralympic champion Baroness Grey-Thompson, into safety and wellbeing in British sport, is due to be published imminently.\n",
       "It is expected to recommend significant reforms designed to improve the way athletes are treated by governing bodies.\n",
       "Houvenaghel claimed:\n",
       "British Cycling said it \"has acknowledged and takes very seriously previous cultural and governance failings in the World Class Programme\".\n",
       "It said it has accepted the draft report's findings and already put into a place a 39-point action plan to \"systematically address the cultural and behavioural shortcomings\".\n",
       "The statement added: \"Our new chair Jonathan Browning has apologised for instances where we have fallen short in our commitment to athlete welfare and has offered to meet with anyone who can help improve British Cycling.\"\n",
       "Who else has spoken out?\n",
       "Houvenaghel won silver in the individual pursuit at the Beijing Olympics in 2008, and gold in the World Championship team pursuit in 2008, 2009 and 2011.\n",
       "She retired in 2014, aged 39, after withdrawing from the Commonwealth Games in Glasgow with a back injury.\n",
       "Houvenaghel was critical of both Sutton and her team-mates in the aftermath of the London 2012 Olympics, where she was left out of all three team pursuit races as Dani King, Laura Trott and Joanna Rowsell-Shand won gold in a world record time.\n",
       "Speaking to BBC Sport this week, the Northern Irish rider said that experience was \"very traumatic\" and she felt \"torment\" at having \"no explanation\" for her last-minute omission.\n",
       "At the time, Brailsford, then performance director, defended the selection saying they had to \"take the personal element out of it, and look at the data and be professional\".\n",
       "He added: \"I think when a team steps up and makes six world records on the trot and a gold medal, then I don't think you can argue with that.\"\n",
       "British Cycling reiterated that point on Thursday, adding it was \"proud to support Wendy in what was a wonderfully successful cycling career\" and she was \"part of a pioneering generation of riders who set new standards of excellence\", but was dropped in London 2012 \"based on her performance\".\n",
       "Other elite cyclists, including King and Roswell-Shand have praised the leadership at British Cycling.\n",
       "Asked whether she was simply not good enough for the 2012 team, Houvenaghel replied: \"It was definitely not about performance. I don't think the fastest team on the day were permitted to race.\n",
       "\"There are certain chosen riders on the team who will not have experienced the culture of fear and will not have been on the receiving end of that - the bullying, the harassment, being frozen out of opportunities.\n",
       "\"It was horrid - it was not the training environment I expected. There was no choice. If you rocked the boat, you were out. There was no alternative.\n",
       "\"Medals at any cost, that's how it was whenever I was there, certainly in 2012.\"\n",
       "Houvenaghel said she also witnessed the sexism that has been highlighted by other female riders, and also claims she was discriminated against because of her age.\n",
       "\"I can certainly relate to the bullying,\" she said. \"For me personally, I felt it was more ageism - being a little bit older than my team-mates, it didn't seem to be something that the staff necessarily wanted for our team in 2012.\n",
       "\"They didn't care about what happened to me afterwards. I never heard another thing from them.\n",
       "\"After six years of constantly medalling at World Cups, World Championships, nationals, both on the track and on the road, they discarded me in a very undignified way from the team, which I don't feel was right.\"\n",
       "Fourteen-time Paralympic gold medallist Dame Sarah Storey told BBC Sport that elite level sport in Britain is \"cut-throat\" but there are \"no excuses for crossing that line\" into bullying.\n",
       "Asked about the balance between winning and athlete welfare, the 39-year-old replied: \"It's a really difficult question because you have to be a human being, you have to allow for people to make mistakes. But the currency is race wins, the currency is gold medals.\n",
       "\"It's not an excuse but you have to have a thick skin in sport, you have to be able to take the rough with the smooth because of the racing that you go through.\n",
       "\"But there are no excuses for crossing that line, and if those lines have been crossed they will be found out and they'll be dealt with.\"</td><td>A \"medal at any cost\" approach created a \"culture of fear\" at British Cycling, says former rider Wendy Houvenaghel.</td><td>39339718</td></tr><tr><td>It's no joke. But Kareem Badr says people did laugh in 2009 when he and two friends paid $20,000 (Â£13,000) for the Hideout in Austin, when it wasn't making money and the previous owner decided not to renew the lease.\n",
       "\"We took over a sinking ship and each brought a bucket to bail it out,\" says Mr Badr.\n",
       "\"None of us had any experience of running a business. But we loved what we were doing enough that it carried us through.\"\n",
       "Three years ago he was able to quit his day job and draw a salary from the club.\n",
       "Mr Badr says it's still not as much as he used to make as a programmer (about $80,000 a year), but he now employs around 25 part time and contract workers.\n",
       "And he recently expanded the premises, taking over the adjoining coffee house which sells alcohol, and leasing more theatre space.\n",
       "Mr Badr says: \"I think my background in computer science helped because I can take a big problem, break it up into small chunks, and figure out how to make it better and more efficient.\n",
       "\"That's basically what we did for every aspect of the business. And by doing that it naturally started to improve.\"\n",
       "Mr Badr may have been helped by national trends, which imply a growing enthusiasm for comedy clubs in the US.\n",
       "An industry report from data firm Ibis World expects total US annual comedy club revenue to grow by 1.8% over the next five years to $344.6m in 2020.\n",
       "\"When the Hideout first opened it was the only improv theatre in Austin,\" says Mr Badr.\n",
       "\"But now there are five [comedy] schools and four theatres. We were at the right place at the right time.\"\n",
       "While the Ibis World report showed that dozens of US comedy clubs were forced to close in the wake of the 2008 recession, when fewer people had disposable income to spend on live entertainment, Stephen Rosenfield, director of the American Comedy Institute in New York, says stand-up comedy is now entering a new golden age.\n",
       "\"The US has comedy clubs all over the country, not just in big cities, and they require talent,\" he says.\n",
       "\"In any field there are those at the top who make dynastic fortunes. But because of the significance of the local comedy club, there is a career and a living to be made by good comedians who are not superstars.\"\n",
       "Mr Rosenfield says the growing popularity of stand-up comedy is fuelled in part by younger audiences, who view humorous TV hosts such as Jon Stewart, Jay Leno and Steve Colbert as their primary source for news.\n",
       "\"It's not just entertaining them, it's also informing them,\" he says. \"There's a new immediacy to stand-up that makes it much more appealing to a generation that's on social media, tweeting, face booking and blogging.\"\n",
       "But clubs don't only make money from entertainers. Alcohol alone can bring in as much as 40% of the night's takings, and many clubs demand that audiences buy a minimum number of drinks per person.\n",
       "\"A club really has three businesses going on,\" says Mr Rosenfield.\n",
       "\"It's an entertainment entity, a restaurant and a bar. They make money from selling drinks and dinners, and they make money from the cover charge.\n",
       "\"There are usually three people on the bill. The opening act is the new comedian. They do about 20 minutes and introduce the other comics.\n",
       "The middle act does about half an hour, and then there's the headliner. They almost always have TV credits, and are the ones people are coming to see. That headliner could be making six figures a year.\"\n",
       "Top-tier performers make much more. According to Forbes, Canadian comedian Russell Peters grossed $19m with 64 shows in 2013, while industry veteran Jerry Seinfeld is the highest paid comedian in the US, set to earn $36m this year.\n",
       "Steve Byrne, 41, is a veteran stand-up comedian based in LA, and star of his own television show Sullivan and Son, which ran for three seasons.\n",
       "He describes himself as a successful mid-level comedian who makes an annual six figure salary mainly from touring.\n",
       "And although he was close to hitting a million dollars a year before his show was cancelled in 2014, he says most comedians make money at clubs and do television to boost their brand rather than their income.\n",
       "Mr Bryne says: \"Gigs vary because it depends what you're contracted at.\n",
       "\"If it's somebody starting off in the business it could be $1,500 a show. For somebody who's had some TV credits you could go from $4,500 to $7,500.\n",
       "\"And if you're just a knock out comic, then you're coming in and getting a door deal. You're taking all the tickets, and the club gets the concessions.\"\n",
       "Mr Byrne says hard work is the key to success. There is no magic short cut, and few lucky breaks.\n",
       "\"The one single thing that an aspiring comedian should do is write, write, write. What is it that makes you laugh?\n",
       "\"Your voice should resonate with your audience. So find your voice and you will find your audience.\"\n",
       "While the music and film industries have been impacted by the internet, such as illegal downloads and reduced album sales, Mr Rosenfield says the online world has actually given live comedy a boost.\n",
       "\"The format of comedy, particularly stand-up, lends itself to digital media like nothing else. One terrific joke can get a million hits,\" he says.\n",
       "\"It's become a new metric for a club manager. If a booker sees that a comic has 500,000 online followers - they'll book him almost sight unseen. That's it.\n",
       "\"Digital is gigantically important and has been for a while.\"\n",
       "But in the end, the success of comedy comes down to a very simple fact - people need to laugh.\n",
       "Back in 2001 Steve Byrne was a comedian in New York when terrorists flew two planes into the World Trade Centre on 11 September.\n",
       "He says: \"We all thought 'who's going to come to a comedy club? The dream's over, I've got to get a real job now'.\n",
       "\"But after a week, I forget which club was the first one to open its doors, but it was packed. People needed an outlet.\n",
       "\"And I remember for months on end those clubs in New York City were just jam packed. That was the thing that told me that this was a profession that is foolproof.\"</td><td>Have you heard the one about the computer programmer who bought a failing comedy club in Texas and turned it into a million dollar a year business?</td><td>34571446</td></tr><tr><td>Relieved that the giant telecoms company would not be broken up, they piled into the shares, sending them up 3% in early trading.\n",
       "BT dodged a bullet - and, as the chief executive of Ofcom, Sharon White, admitted, it was for prosaic reasons.\n",
       "She said complications with land deals and BT's giant pension scheme meant there were \"practical obstacles\" to a break-up that would delay the process several years.\n",
       "It's the pension scheme that probably most influenced Ofcom's thinking. BT's retirement scheme, inherited from its time as a state-owned utility, has assets of about Â£40bn and a deficit, on some measures, of about Â£10bn, even though BT has poured in billions of pounds in recent years to redress the gap.\n",
       "Senior sources at the company say that about 80% of the scheme relates to Openreach, the internet infrastructure provider that BT's rivals would like to see spun off.\n",
       "Separating the pension as part of a break-up would be a costly headache - and there is the small matter of a government guarantee on part of the scheme, something that BT fought in the courts to preserve and won.\n",
       "Creating two new pension schemes, with the risk of weakening the financial resources of one or the other, might be too hot a political potato, even in the pursuit of faster broadband.\n",
       "BT's share price reaction might turn out to be overdone. Ms White plans to enforce the separation by introducing not only a new board to run Openreach, but also new articles of association that will give directors a duty to serve customers of the network as much as the company's owners.\n",
       "This holds out an obvious prospect of conflicts to come, and runs counter to the normal assumption that in private companies, the shareholder is king.\n",
       "It also carries an echo of the \"golden shares\" held by the government in Rolls-Royce and BAE Systems, two companies judged important for the defence of the realm. In each case, the golden share is actually enshrined by specific articles of association that give directors and the government powers beyond those normally enjoyed by company boards.\n",
       "BT's chief executive, Gavin Patterson, said he thought he could reach a compromise with Ofcom, but admitted they would need to see the detail of the new articles.\n",
       "If they prove too much at odds with BT's own desire to control Openreach - which it will still own - get ready for a court battle and perhaps, eventually, a full break-up.</td><td>The reaction from BT's investors told us much about media regulator Ofcom's ruling on the fate of Openreach, the BT subsidiary that provides much of the UK's broadband infrastructure.</td><td>36892983</td></tr><tr><td>\"I'm really looking forward to it - the home of Scottish football,\" said Rodgers ahead of his maiden visit.\n",
       "\"I hear the pitch is good, a nice big pitch suits the speed in our team and our intensity.\n",
       "\"The technical area goes right out to the end of the pitch, but you might need a taxi to get back to your staff.\"\n",
       "This will be Rodgers' second taste of the Old Firm derby and his experience of the fixture got off to a great start with a 5-1 league victory at Celtic Park last month.\n",
       "\"It was a brilliant performance by the players in every aspect,\" he recalled. \"Obviously this one is on a neutral ground, but we'll be looking to have a similar performance.\n",
       "\"We'll be prepared and focused. We know it's going to be a tough game. We anticipated that the last time.\"\n",
       "Rodgers is also aware Celtic's visit to Hampden last season in the Scottish Cup semi-final against Rangers ended in defeat.\n",
       "\"The last experience there wasn't so good for Celtic,\" he said. \"But it's a different team with a different mentality and we'll look to take that mentality into the game.\"\n",
       "Rodgers lost two semi-finals in his time at Liverpool and is aiming to make it third time lucky at the club he joined in the summer.\n",
       "\"You have to perform - that's what's important and if you get little bit of luck along the way then hopefully you'll get the result that you want.\" said the Northern Irishman.\n",
       "\"So, for us, it's really looking at our performance level, which in the main has been at a really high level.\n",
       "\"My focus is always on my own team and, if we impose our style of play, it can give a lot of problems to opponents.\"\n",
       "Unlike predecessor Ronny Deila, Rodgers would not be drawn on this semi-final being a step on the way to a potential domestic treble.\n",
       "\"It's very, very difficult to achieve,\" he said. \"There's been great managers here in the past that haven't achieved that.\n",
       "\"But it's the first competition where we've a chance to win a trophy and I've always said that it's a priority for us because it's the first one.\n",
       "\"Our idea was to qualify for the Champions League, which we did, to make a good start in the league, which we've done, and then look to get to the League Cup final.\n",
       "\"Unless you can do that then you don't have the chance to win the trophies.\"</td><td>Manager Brendan Rodgers is sure Celtic can exploit the wide open spaces of Hampden when they meet Rangers in Sunday's League Cup semi-final.</td><td>37732028</td></tr></tbody></table></div>"
      ]
     },
     "metadata": {
      "application/vnd.databricks.v1+output": {
       "addedWidgets": {},
       "aggData": [],
       "aggError": "",
       "aggOverflow": false,
       "aggSchema": [],
       "aggSeriesLimitReached": false,
       "aggType": "",
       "arguments": {},
       "columnCustomDisplayInfos": {},
       "data": [
        [
         "Prison Link Cymru had 1,099 referrals in 2015-16 and said some ex-offenders were living rough for up to a year before finding suitable accommodation.\nWorkers at the charity claim investment in housing would be cheaper than jailing homeless repeat offenders.\nThe Welsh Government said more people than ever were getting help to address housing problems.\nChanges to the Housing Act in Wales, introduced in 2015, removed the right for prison leavers to be given priority for accommodation.\nPrison Link Cymru, which helps people find accommodation after their release, said things were generally good for women because issues such as children or domestic violence were now considered.\nHowever, the same could not be said for men, the charity said, because issues which often affect them, such as post traumatic stress disorder or drug dependency, were often viewed as less of a priority.\nAndrew Stevens, who works in Welsh prisons trying to secure housing for prison leavers, said the need for accommodation was \"chronic\".\n\"There's a desperate need for it, finding suitable accommodation for those leaving prison there is just a lack of it everywhere,\" he said.\n\"It could take six months to a year, without a lot of help they could be on the streets for six months.\n\"When you think of the consequences of either being on the street, especially with the cold weather at the moment or you may have a roof over your head, sometimes there is only one choice.\"\nMr Stevens believes building more one-bedroom flats could help ease the problem.\n\"The average price is a hundred pounds a week to keep someone in a rented flat, prison is a lot more than that so I would imagine it would save the public purse quite a few pounds,\" he said.\nOfficial figures show 830 one-bedroom properties were built in the year to March 2016, of an overall total of 6,900 new properties in Wales.\nMarc, 50, who has been in and out of prison for the past 20 years for burglary offences, said he struggled to find accommodation each time he was released.\nHe said he would ask himself: \"Where am I going to stay? Where am I going to live? Have I got somewhere where I can see my daughter.\"\n\"You're put out among the same sort of people doing the same sort of thing, and it's difficult, it's difficult to get away from it. It's like every man for himself, there's nothing.\"\nMarc has now found stable accommodation with homeless charity Emmaus and said it had been life changing.\n\"You feel safe, you got hot food, you've got company of people in similar situations to yourself but all dealing with different issues. It's a constructive, helpful atmosphere,\" he said.\nTom Clarke, chief executive of Emmaus South Wales, agreed there was not enough support available.\n\"We do still see [people] homeless on the streets, so clearly they haven't got accommodation and haven't got provision,\" he said.\n\"I think the key is connecting people with the services they need. I don't delude myself that Emmaus can offer a one size fits all for everyone, we can't.\n\"But there must be other opportunities and given suitable encouragement I believe that can and should happen.\"\nA Welsh Government spokesman said the national pathway for homeless services to children, young people and adults in the secure estate had prevented many people from losing their home whilst serving their prison sentence.\nIt added there were already significant demands for one-bedroom flats across the public and private sector and it was providing 20,000 new affordable homes in the next five years.",
         "There is a \"chronic\" need for more housing for prison leavers in Wales, according to a charity.",
         "38264402"
        ],
        [
         "Officers searched properties in the Waterfront Park and Colonsay View areas of the city on Wednesday.\nDetectives said three firearms, ammunition and a five-figure sum of money were recovered.\nA 26-year-old man who was arrested and charged appeared at Edinburgh Sheriff Court on Thursday.",
         "A man has appeared in court after firearms, ammunition and cash were seized by police in Edinburgh.",
         "34227252"
        ],
        [
         "Jordan Hill, Brittany Covington and Tesfaye Cooper, all 18, and Tanishia Covington, 24, appeared in a Chicago court on Friday.\nThe four have been charged with hate crimes and aggravated kidnapping and battery, among other things.\nAn online fundraiser for their victim has collected $51,000 (Â£42,500) so far.\nDenying the four suspects bail, Judge Maria Kuriakos Ciesil asked: \"Where was your sense of decency?\"\nProsecutors told the court the beating started in a van and continued at a house, where the suspects allegedly forced the 18-year-old white victim, who suffers from schizophrenia and attention deficit disorder, to drink toilet water and kiss the floor.\nPolice allege the van was earlier stolen by Mr Hill, who is also accused of demanding $300 from the victim's mother while they held him captive, according to the Chicago Tribune.\nThe court was also told the suspects stuffed a sock into his mouth, taped his mouth shut and bound his hands with a belt.\nIn a video made for Facebook Live which was watched millions of times, the assailants can be heard making derogatory statements against white people and Donald Trump.\nThe victim had been dropped off at a McDonalds to meet Mr Hill - who was one of his friends - on 31 December.\nHe was found by a police officer on Tuesday, 3 January, a day after he was reported missing by his parents.\nProsecutors say the suspects each face two hate crimes counts, one because of the victim's race and the other because of his disabilities.",
         "Four people accused of kidnapping and torturing a mentally disabled man in a \"racially motivated\" attack streamed on Facebook have been denied bail.",
         "38537698"
        ],
        [
         "The 48-year-old former Arsenal goalkeeper played for the Royals for four years.\nHe was appointed youth academy director in 2000 and has been director of football since 2003.\nA West Brom statement said: \"He played a key role in the Championship club twice winning promotion to the Premier League in 2006 and 2012.\"",
         "West Brom have appointed Nicky Hammond as technical director, ending his 20-year association with Reading.",
         "36175342"
        ],
        [
         "Restoring the function of the organ - which helps control blood sugar levels - reversed symptoms of diabetes in animal experiments.\nThe study, published in the journal Cell, says the diet reboots the body.\nExperts said the findings were \"potentially very exciting\" as they could become a new treatment for the disease.\nThe experiments were on mice put on a modified form of the \"fasting-mimicking diet\".\nWhen people go on it they spend five days on a low calorie, low protein, low carbohydrate but high unsaturated-fat diet.\nIt resembles a vegan diet with nuts and soups, but with around 800 to 1,100 calories a day.\nThen they have 25 days eating what they want - so overall it mimics periods of feast and famine.\nPrevious research has suggested it can slow the pace of ageing.\nBut animal experiments showed the diet regenerated a special type of cell in the pancreas called a beta cell.\nThese are the cells that detect sugar in the blood and release the hormone insulin if it gets too high.\nDr Valter Longo, from the University of Southern California, said: \"Our conclusion is that by pushing the mice into an extreme state and then bringing them back - by starving them and then feeding them again - the cells in the pancreas are triggered to use some kind of developmental reprogramming that rebuilds the part of the organ that's no longer functioning.\"\nThere were benefits in both type 1 and type 2 diabetes in the mouse experiments.\nType 1 is caused by the immune system destroying beta cells and type 2 is largely caused by lifestyle and the body no longer responding to insulin.\nFurther tests on tissue samples from people with type 1 diabetes produced similar effects.\nDr Longo said: \"Medically, these findings have the potential to be very important because we've shown - at least in mouse models - that you can use diet to reverse the symptoms of diabetes.\n\"Scientifically, the findings are perhaps even more important because we've shown that you can use diet to reprogram cells without having to make any genetic alterations.\"\nBBC reporter Peter Bowes took part in a separate trial with Dr Valter Longo.\nHe said: \"During each five-day fasting cycle, when I ate about a quarter of the average person's diet, I lost between 2kg and 4kg (4.4-8.8lbs).\n\"But before the next cycle came round, 25 days of eating normally had returned me almost to my original weight.\n\"But not all consequences of the diet faded so quickly.\"\nHis blood pressure was lower as was a hormone called IGF-1, which is linked to some cancers.\nHe said: \"The very small meals I was given during the five-day fast were far from gourmet cooking, but I was glad to have something to eat\"\nPeter Bowes: Fasting for science\nPeter Bowes: Intermittent fasting and the good things it did to my body\nSeparate trials of the diet in people have been shown to improve blood sugar levels. The latest findings help to explain why.\nHowever, Dr Longo said people should not rush off and crash diet.\nHe told the BBC: \"It boils down to do not try this at home, this is so much more sophisticated than people realise.\"\nHe said people could \"get into trouble\" with their health if it was done without medical guidance.\nDr Emily Burns, research communications manager at Diabetes UK, said: \"This is potentially very exciting news, but we need to see if the results hold true in humans before we'll know more about what it means for people with diabetes.\n\"People with type-1 and type-2 diabetes would benefit immensely from treatments that can repair or regenerate insulin-producing cells in the pancreas.\"\nFollow James on Twitter.",
         "The pancreas can be triggered to regenerate itself through a type of fasting diet, say US researchers.",
         "39070183"
        ],
        [
         "But there certainly should be.\nThese are two of the biggest firms in the lucrative international business of making spectacles. France's Essilor is the world's number one manufacturer of lenses and contact lenses, while Italy's Luxottica is the leading frame manufacturer.\nIt is not obvious that the merger is in the public interest, though the two firms certainly think it is.\n\"The parties' activities are highly complementary and the deal would generate significant synergies and innovation and would be beneficial to customers,\" says Essilor.\nBut there seems to be growing disquiet in the industry.\nGordon Ilett, of the Association of Optometrists, says: \"This now allows the [enlarged] group to control all aspects of supply of product - from manufacture to the end user.\n\"Those businesses who remain as their customers will be indirectly controlled by the terms and conditions imposed by them.\n\"Whether their UK market share, following this merger, is sufficient for examination by the competition authorities is open to debate, but the effect of it will be reduced choice for the consumer, and will most likely result in reduced quality products longer term,\" Mr Ilett adds.\nIf the deal goes through later this year the new company, to be called EssilorLuxottica, will become a behemoth of the industry.\nIt will sell not only lenses and frames around the world but will also be stocking its own optician's shops as well, such as Sunglass Hut, and LensCrafters in the US and Australia, both currently owned by Luxottica.\nOne long-standing independent UK wholesaler, who asked to remain anonymous, says the merged firm would be so powerful it would probably squeeze out some competitors.\n\"If those two companies merged there would be a branded frame supplier offering you high-end branded frames, and also offering UK opticians a lens and glazing deal, to suit, so they will control almost everything [they offer] to both independent retailers in the High Street and even the chains,\" he argues.\nIn his view this would amount, almost, to a stranglehold on the supply of high-end glasses, with some rivals giving up.\n\"I imagine it would knock out quite a few glazing houses in the UK, and it would probably knock out other fashion frame houses,\" he adds.\nUnless you know about the eyewear business, or take an interest in investing in big European companies (they both have stock market listings) the names of the two big firms will probably have passed you by.\nBut if you have been inside an optician's shop you will certainly have heard of the brands they own and make. For instance, the leading varifocal lens brand, Varilux, is made by Essilor.\nJust a year ago, in presenting its 2015 financial results to investors, Essilor boasted that it was \"an undisputed leader with only 25% market share\" of the combined world market for prescription lenses, sunglasses lenses and lenses for reading glasses.\nWhen it comes to just the prescription lenses, it has a 41% share of the world market.\nFor its part, Luxottica owns several of its own brand names such as Ray-Ban and Oakley, and it also makes, under licence, spectacle frames which carry high-fashion names such as Armani, Burberry, Bulgari, Chanel, Prada, Ralph Lauren and Versace.\nIn 2015 the Italian firm made almost 10% of the 954 million frames that were sold worldwide that year, and claims that about half a billion of its frames are currently perched on people's noses.\nThe overall industry internationally is in fact quite fragmented with hundreds of other smaller manufacturers and related businesses such as glazing laboratories.\nMarket research firm GFK describes the optical industry as \"a complex and extremely competitive market-space\".\nEven so, with the two firms having a combined turnover of more than 15bn euros (Â£12.8bn), of which 3.5bn euros were in Europe, on the grounds of size alone the proposed merger easily meets the requirements of the European Commission for a formal review.\nThese are:\nAn inquiry would see if the merged firm threatened to be too dominant, thus reducing competition and leading to higher prices for the customers.\nA Luxottica spokesman told the BBC that the firm was confident that any scrutiny would not hinder the deal.\n\"The transaction is subject to mandatory submission to a number of anti-monopoly authorities including the European one, as is customary in transactions of this size and nature,\" he said.\n\"We are confident that the transaction does not raise anti-monopoly issues and will fully co-operate with the anti-monopoly authorities to obtain the required clearance,\" he added.\nThe EU itself says it currently has no comment to make and it has not yet been formally notified of the merger deal under the requirements of its own rules.\nBut the leading chain of opticians, Specsavers, views the impending deal with caution.\n\"Mergers are a continuing trend in optics, but this is a significant development which will result in huge supply chain and retail implications for the industry and consumers worldwide,\" the firm says.\n\"It is unlikely that the impact of the merger will be felt by consumers straight away but we will watch with great interest how the new organisation will arrange itself.\"\nIf you have ever bought a pair of spectacles with anything other than the most basic frame and lenses, you may have gulped at the price, possibly coming to several hundred pounds.\nOf course, not all spectacles are expensive and not all of the sale price goes to the manufacturers.\nOpticians and the wholesalers that supply them are businesses that seek to make a profit.\nThey also need to cover the costs of staff, equipment, shop and office space, stock and all that advertising.\nBut for the manufacturers such as Essilor and Luxottica, it is a stonkingly profitable business.\nOn worldwide sales of 6.7bn euros in 2015, Essilor made operating profits of 1.2bn euros.\nFor the same year, Luxottica sold goods worth 8.8bn euros and made operating profits of 1.4bn euros.\nWith cost-cutting at a merged business projected to save between 400m and 600m euros per year, profits could be boosted even further.\nWill customers benefit as well?",
         "Since their impending merger was announced in January, there has been remarkably little comment about the huge proposed deal to combine Essilor and Luxottica.",
         "38899892"
        ],
        [
         "Media playback is not supported on this device\nThe Olympic silver medallist accused the organisation of \"ageism\" and having \"zero regard\" for her welfare.\nShe is the latest high-profile cyclist to come forward after Jess Varnish, Nicole Cooke and Emma Pooley criticised the World Class programme.\nHouvenaghel told the BBC she felt \"vindicated\" by a leaked draft report detailing British Cycling's failures.\nThe report said British Cycling \"sanitised\" its own investigation into claims former technical director Shane Sutton used sexist language towards Varnish, who went public last April about her treatment.\nBritish Cycling subsequently admitted it did not pay \"sufficient care and attention\" to the wellbeing of staff and athletes at the expense of winning medals, an approach Houvenaghel attested to in her BBC interview.\nBoth Sutton and predecessor Sir Dave Brailsford have now left British Cycling.\nHouvenaghel, 42, spoke to BBC Sport during its State of Sport week, which on Thursday examines the issue of athlete welfare versus a win-at-all-costs culture.\nA government-commissioned review, headed by 11-time Paralympic champion Baroness Grey-Thompson, into safety and wellbeing in British sport, is due to be published imminently.\nIt is expected to recommend significant reforms designed to improve the way athletes are treated by governing bodies.\nHouvenaghel claimed:\nBritish Cycling said it \"has acknowledged and takes very seriously previous cultural and governance failings in the World Class Programme\".\nIt said it has accepted the draft report's findings and already put into a place a 39-point action plan to \"systematically address the cultural and behavioural shortcomings\".\nThe statement added: \"Our new chair Jonathan Browning has apologised for instances where we have fallen short in our commitment to athlete welfare and has offered to meet with anyone who can help improve British Cycling.\"\nWho else has spoken out?\nHouvenaghel won silver in the individual pursuit at the Beijing Olympics in 2008, and gold in the World Championship team pursuit in 2008, 2009 and 2011.\nShe retired in 2014, aged 39, after withdrawing from the Commonwealth Games in Glasgow with a back injury.\nHouvenaghel was critical of both Sutton and her team-mates in the aftermath of the London 2012 Olympics, where she was left out of all three team pursuit races as Dani King, Laura Trott and Joanna Rowsell-Shand won gold in a world record time.\nSpeaking to BBC Sport this week, the Northern Irish rider said that experience was \"very traumatic\" and she felt \"torment\" at having \"no explanation\" for her last-minute omission.\nAt the time, Brailsford, then performance director, defended the selection saying they had to \"take the personal element out of it, and look at the data and be professional\".\nHe added: \"I think when a team steps up and makes six world records on the trot and a gold medal, then I don't think you can argue with that.\"\nBritish Cycling reiterated that point on Thursday, adding it was \"proud to support Wendy in what was a wonderfully successful cycling career\" and she was \"part of a pioneering generation of riders who set new standards of excellence\", but was dropped in London 2012 \"based on her performance\".\nOther elite cyclists, including King and Roswell-Shand have praised the leadership at British Cycling.\nAsked whether she was simply not good enough for the 2012 team, Houvenaghel replied: \"It was definitely not about performance. I don't think the fastest team on the day were permitted to race.\n\"There are certain chosen riders on the team who will not have experienced the culture of fear and will not have been on the receiving end of that - the bullying, the harassment, being frozen out of opportunities.\n\"It was horrid - it was not the training environment I expected. There was no choice. If you rocked the boat, you were out. There was no alternative.\n\"Medals at any cost, that's how it was whenever I was there, certainly in 2012.\"\nHouvenaghel said she also witnessed the sexism that has been highlighted by other female riders, and also claims she was discriminated against because of her age.\n\"I can certainly relate to the bullying,\" she said. \"For me personally, I felt it was more ageism - being a little bit older than my team-mates, it didn't seem to be something that the staff necessarily wanted for our team in 2012.\n\"They didn't care about what happened to me afterwards. I never heard another thing from them.\n\"After six years of constantly medalling at World Cups, World Championships, nationals, both on the track and on the road, they discarded me in a very undignified way from the team, which I don't feel was right.\"\nFourteen-time Paralympic gold medallist Dame Sarah Storey told BBC Sport that elite level sport in Britain is \"cut-throat\" but there are \"no excuses for crossing that line\" into bullying.\nAsked about the balance between winning and athlete welfare, the 39-year-old replied: \"It's a really difficult question because you have to be a human being, you have to allow for people to make mistakes. But the currency is race wins, the currency is gold medals.\n\"It's not an excuse but you have to have a thick skin in sport, you have to be able to take the rough with the smooth because of the racing that you go through.\n\"But there are no excuses for crossing that line, and if those lines have been crossed they will be found out and they'll be dealt with.\"",
         "A \"medal at any cost\" approach created a \"culture of fear\" at British Cycling, says former rider Wendy Houvenaghel.",
         "39339718"
        ],
        [
         "It's no joke. But Kareem Badr says people did laugh in 2009 when he and two friends paid $20,000 (Â£13,000) for the Hideout in Austin, when it wasn't making money and the previous owner decided not to renew the lease.\n\"We took over a sinking ship and each brought a bucket to bail it out,\" says Mr Badr.\n\"None of us had any experience of running a business. But we loved what we were doing enough that it carried us through.\"\nThree years ago he was able to quit his day job and draw a salary from the club.\nMr Badr says it's still not as much as he used to make as a programmer (about $80,000 a year), but he now employs around 25 part time and contract workers.\nAnd he recently expanded the premises, taking over the adjoining coffee house which sells alcohol, and leasing more theatre space.\nMr Badr says: \"I think my background in computer science helped because I can take a big problem, break it up into small chunks, and figure out how to make it better and more efficient.\n\"That's basically what we did for every aspect of the business. And by doing that it naturally started to improve.\"\nMr Badr may have been helped by national trends, which imply a growing enthusiasm for comedy clubs in the US.\nAn industry report from data firm Ibis World expects total US annual comedy club revenue to grow by 1.8% over the next five years to $344.6m in 2020.\n\"When the Hideout first opened it was the only improv theatre in Austin,\" says Mr Badr.\n\"But now there are five [comedy] schools and four theatres. We were at the right place at the right time.\"\nWhile the Ibis World report showed that dozens of US comedy clubs were forced to close in the wake of the 2008 recession, when fewer people had disposable income to spend on live entertainment, Stephen Rosenfield, director of the American Comedy Institute in New York, says stand-up comedy is now entering a new golden age.\n\"The US has comedy clubs all over the country, not just in big cities, and they require talent,\" he says.\n\"In any field there are those at the top who make dynastic fortunes. But because of the significance of the local comedy club, there is a career and a living to be made by good comedians who are not superstars.\"\nMr Rosenfield says the growing popularity of stand-up comedy is fuelled in part by younger audiences, who view humorous TV hosts such as Jon Stewart, Jay Leno and Steve Colbert as their primary source for news.\n\"It's not just entertaining them, it's also informing them,\" he says. \"There's a new immediacy to stand-up that makes it much more appealing to a generation that's on social media, tweeting, face booking and blogging.\"\nBut clubs don't only make money from entertainers. Alcohol alone can bring in as much as 40% of the night's takings, and many clubs demand that audiences buy a minimum number of drinks per person.\n\"A club really has three businesses going on,\" says Mr Rosenfield.\n\"It's an entertainment entity, a restaurant and a bar. They make money from selling drinks and dinners, and they make money from the cover charge.\n\"There are usually three people on the bill. The opening act is the new comedian. They do about 20 minutes and introduce the other comics.\nThe middle act does about half an hour, and then there's the headliner. They almost always have TV credits, and are the ones people are coming to see. That headliner could be making six figures a year.\"\nTop-tier performers make much more. According to Forbes, Canadian comedian Russell Peters grossed $19m with 64 shows in 2013, while industry veteran Jerry Seinfeld is the highest paid comedian in the US, set to earn $36m this year.\nSteve Byrne, 41, is a veteran stand-up comedian based in LA, and star of his own television show Sullivan and Son, which ran for three seasons.\nHe describes himself as a successful mid-level comedian who makes an annual six figure salary mainly from touring.\nAnd although he was close to hitting a million dollars a year before his show was cancelled in 2014, he says most comedians make money at clubs and do television to boost their brand rather than their income.\nMr Bryne says: \"Gigs vary because it depends what you're contracted at.\n\"If it's somebody starting off in the business it could be $1,500 a show. For somebody who's had some TV credits you could go from $4,500 to $7,500.\n\"And if you're just a knock out comic, then you're coming in and getting a door deal. You're taking all the tickets, and the club gets the concessions.\"\nMr Byrne says hard work is the key to success. There is no magic short cut, and few lucky breaks.\n\"The one single thing that an aspiring comedian should do is write, write, write. What is it that makes you laugh?\n\"Your voice should resonate with your audience. So find your voice and you will find your audience.\"\nWhile the music and film industries have been impacted by the internet, such as illegal downloads and reduced album sales, Mr Rosenfield says the online world has actually given live comedy a boost.\n\"The format of comedy, particularly stand-up, lends itself to digital media like nothing else. One terrific joke can get a million hits,\" he says.\n\"It's become a new metric for a club manager. If a booker sees that a comic has 500,000 online followers - they'll book him almost sight unseen. That's it.\n\"Digital is gigantically important and has been for a while.\"\nBut in the end, the success of comedy comes down to a very simple fact - people need to laugh.\nBack in 2001 Steve Byrne was a comedian in New York when terrorists flew two planes into the World Trade Centre on 11 September.\nHe says: \"We all thought 'who's going to come to a comedy club? The dream's over, I've got to get a real job now'.\n\"But after a week, I forget which club was the first one to open its doors, but it was packed. People needed an outlet.\n\"And I remember for months on end those clubs in New York City were just jam packed. That was the thing that told me that this was a profession that is foolproof.\"",
         "Have you heard the one about the computer programmer who bought a failing comedy club in Texas and turned it into a million dollar a year business?",
         "34571446"
        ],
        [
         "Relieved that the giant telecoms company would not be broken up, they piled into the shares, sending them up 3% in early trading.\nBT dodged a bullet - and, as the chief executive of Ofcom, Sharon White, admitted, it was for prosaic reasons.\nShe said complications with land deals and BT's giant pension scheme meant there were \"practical obstacles\" to a break-up that would delay the process several years.\nIt's the pension scheme that probably most influenced Ofcom's thinking. BT's retirement scheme, inherited from its time as a state-owned utility, has assets of about Â£40bn and a deficit, on some measures, of about Â£10bn, even though BT has poured in billions of pounds in recent years to redress the gap.\nSenior sources at the company say that about 80% of the scheme relates to Openreach, the internet infrastructure provider that BT's rivals would like to see spun off.\nSeparating the pension as part of a break-up would be a costly headache - and there is the small matter of a government guarantee on part of the scheme, something that BT fought in the courts to preserve and won.\nCreating two new pension schemes, with the risk of weakening the financial resources of one or the other, might be too hot a political potato, even in the pursuit of faster broadband.\nBT's share price reaction might turn out to be overdone. Ms White plans to enforce the separation by introducing not only a new board to run Openreach, but also new articles of association that will give directors a duty to serve customers of the network as much as the company's owners.\nThis holds out an obvious prospect of conflicts to come, and runs counter to the normal assumption that in private companies, the shareholder is king.\nIt also carries an echo of the \"golden shares\" held by the government in Rolls-Royce and BAE Systems, two companies judged important for the defence of the realm. In each case, the golden share is actually enshrined by specific articles of association that give directors and the government powers beyond those normally enjoyed by company boards.\nBT's chief executive, Gavin Patterson, said he thought he could reach a compromise with Ofcom, but admitted they would need to see the detail of the new articles.\nIf they prove too much at odds with BT's own desire to control Openreach - which it will still own - get ready for a court battle and perhaps, eventually, a full break-up.",
         "The reaction from BT's investors told us much about media regulator Ofcom's ruling on the fate of Openreach, the BT subsidiary that provides much of the UK's broadband infrastructure.",
         "36892983"
        ],
        [
         "\"I'm really looking forward to it - the home of Scottish football,\" said Rodgers ahead of his maiden visit.\n\"I hear the pitch is good, a nice big pitch suits the speed in our team and our intensity.\n\"The technical area goes right out to the end of the pitch, but you might need a taxi to get back to your staff.\"\nThis will be Rodgers' second taste of the Old Firm derby and his experience of the fixture got off to a great start with a 5-1 league victory at Celtic Park last month.\n\"It was a brilliant performance by the players in every aspect,\" he recalled. \"Obviously this one is on a neutral ground, but we'll be looking to have a similar performance.\n\"We'll be prepared and focused. We know it's going to be a tough game. We anticipated that the last time.\"\nRodgers is also aware Celtic's visit to Hampden last season in the Scottish Cup semi-final against Rangers ended in defeat.\n\"The last experience there wasn't so good for Celtic,\" he said. \"But it's a different team with a different mentality and we'll look to take that mentality into the game.\"\nRodgers lost two semi-finals in his time at Liverpool and is aiming to make it third time lucky at the club he joined in the summer.\n\"You have to perform - that's what's important and if you get little bit of luck along the way then hopefully you'll get the result that you want.\" said the Northern Irishman.\n\"So, for us, it's really looking at our performance level, which in the main has been at a really high level.\n\"My focus is always on my own team and, if we impose our style of play, it can give a lot of problems to opponents.\"\nUnlike predecessor Ronny Deila, Rodgers would not be drawn on this semi-final being a step on the way to a potential domestic treble.\n\"It's very, very difficult to achieve,\" he said. \"There's been great managers here in the past that haven't achieved that.\n\"But it's the first competition where we've a chance to win a trophy and I've always said that it's a priority for us because it's the first one.\n\"Our idea was to qualify for the Champions League, which we did, to make a good start in the league, which we've done, and then look to get to the League Cup final.\n\"Unless you can do that then you don't have the chance to win the trophies.\"",
         "Manager Brendan Rodgers is sure Celtic can exploit the wide open spaces of Hampden when they meet Rangers in Sunday's League Cup semi-final.",
         "37732028"
        ]
       ],
       "datasetInfos": [],
       "dbfsResultPath": null,
       "isJsonSchema": true,
       "metadata": {},
       "overflow": false,
       "plotOptions": {
        "customPlotOptions": {},
        "displayType": "table",
        "pivotAggregation": null,
        "pivotColumns": null,
        "xColumns": null,
        "yColumns": null
       },
       "removedWidgets": [],
       "schema": [
        {
         "metadata": "{}",
         "name": "document",
         "type": "\"string\""
        },
        {
         "metadata": "{}",
         "name": "summary",
         "type": "\"string\""
        },
        {
         "metadata": "{}",
         "name": "id",
         "type": "\"string\""
        }
       ],
       "type": "table"
      }
     },
     "output_type": "display_data"
    }
   ],
   "source": [
    "# Load our data as a Spark DataFrame.\n",
    "# Recall that we saved this as Delta at the start of the notebook.\n",
    "# Also note that it has a ground-truth summary column.\n",
    "prod_data = spark.read.format(\"delta\").load(prod_data_path).limit(10)\n",
    "display(prod_data)"
   ]
  },
  {
   "cell_type": "markdown",
   "metadata": {
    "application/vnd.databricks.v1+cell": {
     "cellMetadata": {},
     "inputWidgets": {},
     "nuid": "57dd8351-f92a-4a3e-bcda-97f7a2269427",
     "showTitle": false,
     "title": ""
    }
   },
   "source": [
    "Below, we load the model using `mlflow.pyfunc.spark_udf`.  This returns the model as a Spark User Defined Function which can be applied efficiently to big data.  *Note that the deployment code is library-agnostic: it never references that the model is a Hugging Face pipeline.*  This simplified deployment is possible because MLflow logs environment metadata and \"knows\" how to load the model and run it."
   ]
  },
  {
   "cell_type": "code",
   "execution_count": 0,
   "metadata": {
    "application/vnd.databricks.v1+cell": {
     "cellMetadata": {
      "byteLimit": 2048000,
      "rowLimit": 10000
     },
     "inputWidgets": {},
     "nuid": "325a1d08-68c6-4e85-8e6a-11d5571c861a",
     "showTitle": false,
     "title": ""
    }
   },
   "outputs": [
    {
     "output_type": "stream",
     "name": "stderr",
     "output_type": "stream",
     "text": [
      "2023/10/17 15:46:43 WARNING mlflow.pyfunc: Calling `spark_udf()` with `env_manager=\"local\"` does not recreate the same environment that was used during training, which may lead to errors or inaccurate predictions. We recommend specifying `env_manager=\"conda\"`, which automatically recreates the environment that was used to train the model and performs inference in the recreated environment.\n2023/10/17 15:46:43 INFO mlflow.models.flavor_backend_registry: Selected backend for flavor 'python_function'\n"
     ]
    }
   ],
   "source": [
    "# MLflow lets you grab the latest model version in a given stage.  Here, we grab the latest Production version.\n",
    "prod_model_udf = mlflow.pyfunc.spark_udf(\n",
    "    spark,\n",
    "    model_uri=f\"models:/{model_name}/Production\",\n",
    "    env_manager=\"local\",\n",
    "    result_type=\"string\",\n",
    ")"
   ]
  },
  {
   "cell_type": "code",
   "execution_count": 0,
   "metadata": {
    "application/vnd.databricks.v1+cell": {
     "cellMetadata": {
      "byteLimit": 2048000,
      "rowLimit": 10000
     },
     "inputWidgets": {},
     "nuid": "b7852616-f31e-41b7-8b50-b245ed0d69d6",
     "showTitle": false,
     "title": ""
    }
   },
   "outputs": [
    {
     "output_type": "display_data",
     "data": {
      "text/html": [
       "<style scoped>\n",
       "  .table-result-container {\n",
       "    max-height: 300px;\n",
       "    overflow: auto;\n",
       "  }\n",
       "  table, th, td {\n",
       "    border: 1px solid black;\n",
       "    border-collapse: collapse;\n",
       "  }\n",
       "  th, td {\n",
       "    padding: 5px;\n",
       "  }\n",
       "  th {\n",
       "    text-align: left;\n",
       "  }\n",
       "</style><div class='table-result-container'><table class='table-result'><thead style='background-color: white'><tr><th>document</th><th>summary</th><th>id</th><th>generated_summary</th></tr></thead><tbody><tr><td>Prison Link Cymru had 1,099 referrals in 2015-16 and said some ex-offenders were living rough for up to a year before finding suitable accommodation.\n",
       "Workers at the charity claim investment in housing would be cheaper than jailing homeless repeat offenders.\n",
       "The Welsh Government said more people than ever were getting help to address housing problems.\n",
       "Changes to the Housing Act in Wales, introduced in 2015, removed the right for prison leavers to be given priority for accommodation.\n",
       "Prison Link Cymru, which helps people find accommodation after their release, said things were generally good for women because issues such as children or domestic violence were now considered.\n",
       "However, the same could not be said for men, the charity said, because issues which often affect them, such as post traumatic stress disorder or drug dependency, were often viewed as less of a priority.\n",
       "Andrew Stevens, who works in Welsh prisons trying to secure housing for prison leavers, said the need for accommodation was \"chronic\".\n",
       "\"There's a desperate need for it, finding suitable accommodation for those leaving prison there is just a lack of it everywhere,\" he said.\n",
       "\"It could take six months to a year, without a lot of help they could be on the streets for six months.\n",
       "\"When you think of the consequences of either being on the street, especially with the cold weather at the moment or you may have a roof over your head, sometimes there is only one choice.\"\n",
       "Mr Stevens believes building more one-bedroom flats could help ease the problem.\n",
       "\"The average price is a hundred pounds a week to keep someone in a rented flat, prison is a lot more than that so I would imagine it would save the public purse quite a few pounds,\" he said.\n",
       "Official figures show 830 one-bedroom properties were built in the year to March 2016, of an overall total of 6,900 new properties in Wales.\n",
       "Marc, 50, who has been in and out of prison for the past 20 years for burglary offences, said he struggled to find accommodation each time he was released.\n",
       "He said he would ask himself: \"Where am I going to stay? Where am I going to live? Have I got somewhere where I can see my daughter.\"\n",
       "\"You're put out among the same sort of people doing the same sort of thing, and it's difficult, it's difficult to get away from it. It's like every man for himself, there's nothing.\"\n",
       "Marc has now found stable accommodation with homeless charity Emmaus and said it had been life changing.\n",
       "\"You feel safe, you got hot food, you've got company of people in similar situations to yourself but all dealing with different issues. It's a constructive, helpful atmosphere,\" he said.\n",
       "Tom Clarke, chief executive of Emmaus South Wales, agreed there was not enough support available.\n",
       "\"We do still see [people] homeless on the streets, so clearly they haven't got accommodation and haven't got provision,\" he said.\n",
       "\"I think the key is connecting people with the services they need. I don't delude myself that Emmaus can offer a one size fits all for everyone, we can't.\n",
       "\"But there must be other opportunities and given suitable encouragement I believe that can and should happen.\"\n",
       "A Welsh Government spokesman said the national pathway for homeless services to children, young people and adults in the secure estate had prevented many people from losing their home whilst serving their prison sentence.\n",
       "It added there were already significant demands for one-bedroom flats across the public and private sector and it was providing 20,000 new affordable homes in the next five years.</td><td>There is a \"chronic\" need for more housing for prison leavers in Wales, according to a charity.</td><td>38264402</td><td>prison link Cymru says some ex-offenders lived rough for up to a year before finding suitable accommodation . the housing act in Wales removed the right for prison leavers</td></tr><tr><td>Officers searched properties in the Waterfront Park and Colonsay View areas of the city on Wednesday.\n",
       "Detectives said three firearms, ammunition and a five-figure sum of money were recovered.\n",
       "A 26-year-old man who was arrested and charged appeared at Edinburgh Sheriff Court on Thursday.</td><td>A man has appeared in court after firearms, ammunition and cash were seized by police in Edinburgh.</td><td>34227252</td><td>three firearms, ammunition and a five-figure sum of money were recovered . a 26-year-old man was arrested and charged on friday .</td></tr><tr><td>Jordan Hill, Brittany Covington and Tesfaye Cooper, all 18, and Tanishia Covington, 24, appeared in a Chicago court on Friday.\n",
       "The four have been charged with hate crimes and aggravated kidnapping and battery, among other things.\n",
       "An online fundraiser for their victim has collected $51,000 (Â£42,500) so far.\n",
       "Denying the four suspects bail, Judge Maria Kuriakos Ciesil asked: \"Where was your sense of decency?\"\n",
       "Prosecutors told the court the beating started in a van and continued at a house, where the suspects allegedly forced the 18-year-old white victim, who suffers from schizophrenia and attention deficit disorder, to drink toilet water and kiss the floor.\n",
       "Police allege the van was earlier stolen by Mr Hill, who is also accused of demanding $300 from the victim's mother while they held him captive, according to the Chicago Tribune.\n",
       "The court was also told the suspects stuffed a sock into his mouth, taped his mouth shut and bound his hands with a belt.\n",
       "In a video made for Facebook Live which was watched millions of times, the assailants can be heard making derogatory statements against white people and Donald Trump.\n",
       "The victim had been dropped off at a McDonalds to meet Mr Hill - who was one of his friends - on 31 December.\n",
       "He was found by a police officer on Tuesday, 3 January, a day after he was reported missing by his parents.\n",
       "Prosecutors say the suspects each face two hate crimes counts, one because of the victim's race and the other because of his disabilities.</td><td>Four people accused of kidnapping and torturing a mentally disabled man in a \"racially motivated\" attack streamed on Facebook have been denied bail.</td><td>38537698</td><td>the suspects have been charged with hate crimes and aggravated kidnapping . a fundraiser for their victim has collected $51,000 (£42,500) so far .</td></tr><tr><td>The 48-year-old former Arsenal goalkeeper played for the Royals for four years.\n",
       "He was appointed youth academy director in 2000 and has been director of football since 2003.\n",
       "A West Brom statement said: \"He played a key role in the Championship club twice winning promotion to the Premier League in 2006 and 2012.\"</td><td>West Brom have appointed Nicky Hammond as technical director, ending his 20-year association with Reading.</td><td>36175342</td><td>former arsenal goalkeeper played for the Royals for four years . he was appointed youth academy director in 2000 . the 48-year-old has been director of football since 2003</td></tr><tr><td>Restoring the function of the organ - which helps control blood sugar levels - reversed symptoms of diabetes in animal experiments.\n",
       "The study, published in the journal Cell, says the diet reboots the body.\n",
       "Experts said the findings were \"potentially very exciting\" as they could become a new treatment for the disease.\n",
       "The experiments were on mice put on a modified form of the \"fasting-mimicking diet\".\n",
       "When people go on it they spend five days on a low calorie, low protein, low carbohydrate but high unsaturated-fat diet.\n",
       "It resembles a vegan diet with nuts and soups, but with around 800 to 1,100 calories a day.\n",
       "Then they have 25 days eating what they want - so overall it mimics periods of feast and famine.\n",
       "Previous research has suggested it can slow the pace of ageing.\n",
       "But animal experiments showed the diet regenerated a special type of cell in the pancreas called a beta cell.\n",
       "These are the cells that detect sugar in the blood and release the hormone insulin if it gets too high.\n",
       "Dr Valter Longo, from the University of Southern California, said: \"Our conclusion is that by pushing the mice into an extreme state and then bringing them back - by starving them and then feeding them again - the cells in the pancreas are triggered to use some kind of developmental reprogramming that rebuilds the part of the organ that's no longer functioning.\"\n",
       "There were benefits in both type 1 and type 2 diabetes in the mouse experiments.\n",
       "Type 1 is caused by the immune system destroying beta cells and type 2 is largely caused by lifestyle and the body no longer responding to insulin.\n",
       "Further tests on tissue samples from people with type 1 diabetes produced similar effects.\n",
       "Dr Longo said: \"Medically, these findings have the potential to be very important because we've shown - at least in mouse models - that you can use diet to reverse the symptoms of diabetes.\n",
       "\"Scientifically, the findings are perhaps even more important because we've shown that you can use diet to reprogram cells without having to make any genetic alterations.\"\n",
       "BBC reporter Peter Bowes took part in a separate trial with Dr Valter Longo.\n",
       "He said: \"During each five-day fasting cycle, when I ate about a quarter of the average person's diet, I lost between 2kg and 4kg (4.4-8.8lbs).\n",
       "\"But before the next cycle came round, 25 days of eating normally had returned me almost to my original weight.\n",
       "\"But not all consequences of the diet faded so quickly.\"\n",
       "His blood pressure was lower as was a hormone called IGF-1, which is linked to some cancers.\n",
       "He said: \"The very small meals I was given during the five-day fast were far from gourmet cooking, but I was glad to have something to eat\"\n",
       "Peter Bowes: Fasting for science\n",
       "Peter Bowes: Intermittent fasting and the good things it did to my body\n",
       "Separate trials of the diet in people have been shown to improve blood sugar levels. The latest findings help to explain why.\n",
       "However, Dr Longo said people should not rush off and crash diet.\n",
       "He told the BBC: \"It boils down to do not try this at home, this is so much more sophisticated than people realise.\"\n",
       "He said people could \"get into trouble\" with their health if it was done without medical guidance.\n",
       "Dr Emily Burns, research communications manager at Diabetes UK, said: \"This is potentially very exciting news, but we need to see if the results hold true in humans before we'll know more about what it means for people with diabetes.\n",
       "\"People with type-1 and type-2 diabetes would benefit immensely from treatments that can repair or regenerate insulin-producing cells in the pancreas.\"\n",
       "Follow James on Twitter.</td><td>The pancreas can be triggered to regenerate itself through a type of fasting diet, say US researchers.</td><td>39070183</td><td>experts say the findings are \"potentially very exciting\" as they could become a new treatment for diabetes . mice put on a modified diet, called the \"fasting-m</td></tr><tr><td>But there certainly should be.\n",
       "These are two of the biggest firms in the lucrative international business of making spectacles. France's Essilor is the world's number one manufacturer of lenses and contact lenses, while Italy's Luxottica is the leading frame manufacturer.\n",
       "It is not obvious that the merger is in the public interest, though the two firms certainly think it is.\n",
       "\"The parties' activities are highly complementary and the deal would generate significant synergies and innovation and would be beneficial to customers,\" says Essilor.\n",
       "But there seems to be growing disquiet in the industry.\n",
       "Gordon Ilett, of the Association of Optometrists, says: \"This now allows the [enlarged] group to control all aspects of supply of product - from manufacture to the end user.\n",
       "\"Those businesses who remain as their customers will be indirectly controlled by the terms and conditions imposed by them.\n",
       "\"Whether their UK market share, following this merger, is sufficient for examination by the competition authorities is open to debate, but the effect of it will be reduced choice for the consumer, and will most likely result in reduced quality products longer term,\" Mr Ilett adds.\n",
       "If the deal goes through later this year the new company, to be called EssilorLuxottica, will become a behemoth of the industry.\n",
       "It will sell not only lenses and frames around the world but will also be stocking its own optician's shops as well, such as Sunglass Hut, and LensCrafters in the US and Australia, both currently owned by Luxottica.\n",
       "One long-standing independent UK wholesaler, who asked to remain anonymous, says the merged firm would be so powerful it would probably squeeze out some competitors.\n",
       "\"If those two companies merged there would be a branded frame supplier offering you high-end branded frames, and also offering UK opticians a lens and glazing deal, to suit, so they will control almost everything [they offer] to both independent retailers in the High Street and even the chains,\" he argues.\n",
       "In his view this would amount, almost, to a stranglehold on the supply of high-end glasses, with some rivals giving up.\n",
       "\"I imagine it would knock out quite a few glazing houses in the UK, and it would probably knock out other fashion frame houses,\" he adds.\n",
       "Unless you know about the eyewear business, or take an interest in investing in big European companies (they both have stock market listings) the names of the two big firms will probably have passed you by.\n",
       "But if you have been inside an optician's shop you will certainly have heard of the brands they own and make. For instance, the leading varifocal lens brand, Varilux, is made by Essilor.\n",
       "Just a year ago, in presenting its 2015 financial results to investors, Essilor boasted that it was \"an undisputed leader with only 25% market share\" of the combined world market for prescription lenses, sunglasses lenses and lenses for reading glasses.\n",
       "When it comes to just the prescription lenses, it has a 41% share of the world market.\n",
       "For its part, Luxottica owns several of its own brand names such as Ray-Ban and Oakley, and it also makes, under licence, spectacle frames which carry high-fashion names such as Armani, Burberry, Bulgari, Chanel, Prada, Ralph Lauren and Versace.\n",
       "In 2015 the Italian firm made almost 10% of the 954 million frames that were sold worldwide that year, and claims that about half a billion of its frames are currently perched on people's noses.\n",
       "The overall industry internationally is in fact quite fragmented with hundreds of other smaller manufacturers and related businesses such as glazing laboratories.\n",
       "Market research firm GFK describes the optical industry as \"a complex and extremely competitive market-space\".\n",
       "Even so, with the two firms having a combined turnover of more than 15bn euros (Â£12.8bn), of which 3.5bn euros were in Europe, on the grounds of size alone the proposed merger easily meets the requirements of the European Commission for a formal review.\n",
       "These are:\n",
       "An inquiry would see if the merged firm threatened to be too dominant, thus reducing competition and leading to higher prices for the customers.\n",
       "A Luxottica spokesman told the BBC that the firm was confident that any scrutiny would not hinder the deal.\n",
       "\"The transaction is subject to mandatory submission to a number of anti-monopoly authorities including the European one, as is customary in transactions of this size and nature,\" he said.\n",
       "\"We are confident that the transaction does not raise anti-monopoly issues and will fully co-operate with the anti-monopoly authorities to obtain the required clearance,\" he added.\n",
       "The EU itself says it currently has no comment to make and it has not yet been formally notified of the merger deal under the requirements of its own rules.\n",
       "But the leading chain of opticians, Specsavers, views the impending deal with caution.\n",
       "\"Mergers are a continuing trend in optics, but this is a significant development which will result in huge supply chain and retail implications for the industry and consumers worldwide,\" the firm says.\n",
       "\"It is unlikely that the impact of the merger will be felt by consumers straight away but we will watch with great interest how the new organisation will arrange itself.\"\n",
       "If you have ever bought a pair of spectacles with anything other than the most basic frame and lenses, you may have gulped at the price, possibly coming to several hundred pounds.\n",
       "Of course, not all spectacles are expensive and not all of the sale price goes to the manufacturers.\n",
       "Opticians and the wholesalers that supply them are businesses that seek to make a profit.\n",
       "They also need to cover the costs of staff, equipment, shop and office space, stock and all that advertising.\n",
       "But for the manufacturers such as Essilor and Luxottica, it is a stonkingly profitable business.\n",
       "On worldwide sales of 6.7bn euros in 2015, Essilor made operating profits of 1.2bn euros.\n",
       "For the same year, Luxottica sold goods worth 8.8bn euros and made operating profits of 1.4bn euros.\n",
       "With cost-cutting at a merged business projected to save between 400m and 600m euros per year, profits could be boosted even further.\n",
       "Will customers benefit as well?</td><td>Since their impending merger was announced in January, there has been remarkably little comment about the huge proposed deal to combine Essilor and Luxottica.</td><td>38899892</td><td>two of the biggest firms in the lucrative international business of making spectacles . it is not obvious that the merger is in the public interest . but there seems to be growing disquie</td></tr><tr><td>Media playback is not supported on this device\n",
       "The Olympic silver medallist accused the organisation of \"ageism\" and having \"zero regard\" for her welfare.\n",
       "She is the latest high-profile cyclist to come forward after Jess Varnish, Nicole Cooke and Emma Pooley criticised the World Class programme.\n",
       "Houvenaghel told the BBC she felt \"vindicated\" by a leaked draft report detailing British Cycling's failures.\n",
       "The report said British Cycling \"sanitised\" its own investigation into claims former technical director Shane Sutton used sexist language towards Varnish, who went public last April about her treatment.\n",
       "British Cycling subsequently admitted it did not pay \"sufficient care and attention\" to the wellbeing of staff and athletes at the expense of winning medals, an approach Houvenaghel attested to in her BBC interview.\n",
       "Both Sutton and predecessor Sir Dave Brailsford have now left British Cycling.\n",
       "Houvenaghel, 42, spoke to BBC Sport during its State of Sport week, which on Thursday examines the issue of athlete welfare versus a win-at-all-costs culture.\n",
       "A government-commissioned review, headed by 11-time Paralympic champion Baroness Grey-Thompson, into safety and wellbeing in British sport, is due to be published imminently.\n",
       "It is expected to recommend significant reforms designed to improve the way athletes are treated by governing bodies.\n",
       "Houvenaghel claimed:\n",
       "British Cycling said it \"has acknowledged and takes very seriously previous cultural and governance failings in the World Class Programme\".\n",
       "It said it has accepted the draft report's findings and already put into a place a 39-point action plan to \"systematically address the cultural and behavioural shortcomings\".\n",
       "The statement added: \"Our new chair Jonathan Browning has apologised for instances where we have fallen short in our commitment to athlete welfare and has offered to meet with anyone who can help improve British Cycling.\"\n",
       "Who else has spoken out?\n",
       "Houvenaghel won silver in the individual pursuit at the Beijing Olympics in 2008, and gold in the World Championship team pursuit in 2008, 2009 and 2011.\n",
       "She retired in 2014, aged 39, after withdrawing from the Commonwealth Games in Glasgow with a back injury.\n",
       "Houvenaghel was critical of both Sutton and her team-mates in the aftermath of the London 2012 Olympics, where she was left out of all three team pursuit races as Dani King, Laura Trott and Joanna Rowsell-Shand won gold in a world record time.\n",
       "Speaking to BBC Sport this week, the Northern Irish rider said that experience was \"very traumatic\" and she felt \"torment\" at having \"no explanation\" for her last-minute omission.\n",
       "At the time, Brailsford, then performance director, defended the selection saying they had to \"take the personal element out of it, and look at the data and be professional\".\n",
       "He added: \"I think when a team steps up and makes six world records on the trot and a gold medal, then I don't think you can argue with that.\"\n",
       "British Cycling reiterated that point on Thursday, adding it was \"proud to support Wendy in what was a wonderfully successful cycling career\" and she was \"part of a pioneering generation of riders who set new standards of excellence\", but was dropped in London 2012 \"based on her performance\".\n",
       "Other elite cyclists, including King and Roswell-Shand have praised the leadership at British Cycling.\n",
       "Asked whether she was simply not good enough for the 2012 team, Houvenaghel replied: \"It was definitely not about performance. I don't think the fastest team on the day were permitted to race.\n",
       "\"There are certain chosen riders on the team who will not have experienced the culture of fear and will not have been on the receiving end of that - the bullying, the harassment, being frozen out of opportunities.\n",
       "\"It was horrid - it was not the training environment I expected. There was no choice. If you rocked the boat, you were out. There was no alternative.\n",
       "\"Medals at any cost, that's how it was whenever I was there, certainly in 2012.\"\n",
       "Houvenaghel said she also witnessed the sexism that has been highlighted by other female riders, and also claims she was discriminated against because of her age.\n",
       "\"I can certainly relate to the bullying,\" she said. \"For me personally, I felt it was more ageism - being a little bit older than my team-mates, it didn't seem to be something that the staff necessarily wanted for our team in 2012.\n",
       "\"They didn't care about what happened to me afterwards. I never heard another thing from them.\n",
       "\"After six years of constantly medalling at World Cups, World Championships, nationals, both on the track and on the road, they discarded me in a very undignified way from the team, which I don't feel was right.\"\n",
       "Fourteen-time Paralympic gold medallist Dame Sarah Storey told BBC Sport that elite level sport in Britain is \"cut-throat\" but there are \"no excuses for crossing that line\" into bullying.\n",
       "Asked about the balance between winning and athlete welfare, the 39-year-old replied: \"It's a really difficult question because you have to be a human being, you have to allow for people to make mistakes. But the currency is race wins, the currency is gold medals.\n",
       "\"It's not an excuse but you have to have a thick skin in sport, you have to be able to take the rough with the smooth because of the racing that you go through.\n",
       "\"But there are no excuses for crossing that line, and if those lines have been crossed they will be found out and they'll be dealt with.\"</td><td>A \"medal at any cost\" approach created a \"culture of fear\" at British Cycling, says former rider Wendy Houvenaghel.</td><td>39339718</td><td>the 42-year-old says she felt \"vindicated\" by a leaked draft report . the report says former technical director Shane Sutton used sexist language</td></tr><tr><td>It's no joke. But Kareem Badr says people did laugh in 2009 when he and two friends paid $20,000 (Â£13,000) for the Hideout in Austin, when it wasn't making money and the previous owner decided not to renew the lease.\n",
       "\"We took over a sinking ship and each brought a bucket to bail it out,\" says Mr Badr.\n",
       "\"None of us had any experience of running a business. But we loved what we were doing enough that it carried us through.\"\n",
       "Three years ago he was able to quit his day job and draw a salary from the club.\n",
       "Mr Badr says it's still not as much as he used to make as a programmer (about $80,000 a year), but he now employs around 25 part time and contract workers.\n",
       "And he recently expanded the premises, taking over the adjoining coffee house which sells alcohol, and leasing more theatre space.\n",
       "Mr Badr says: \"I think my background in computer science helped because I can take a big problem, break it up into small chunks, and figure out how to make it better and more efficient.\n",
       "\"That's basically what we did for every aspect of the business. And by doing that it naturally started to improve.\"\n",
       "Mr Badr may have been helped by national trends, which imply a growing enthusiasm for comedy clubs in the US.\n",
       "An industry report from data firm Ibis World expects total US annual comedy club revenue to grow by 1.8% over the next five years to $344.6m in 2020.\n",
       "\"When the Hideout first opened it was the only improv theatre in Austin,\" says Mr Badr.\n",
       "\"But now there are five [comedy] schools and four theatres. We were at the right place at the right time.\"\n",
       "While the Ibis World report showed that dozens of US comedy clubs were forced to close in the wake of the 2008 recession, when fewer people had disposable income to spend on live entertainment, Stephen Rosenfield, director of the American Comedy Institute in New York, says stand-up comedy is now entering a new golden age.\n",
       "\"The US has comedy clubs all over the country, not just in big cities, and they require talent,\" he says.\n",
       "\"In any field there are those at the top who make dynastic fortunes. But because of the significance of the local comedy club, there is a career and a living to be made by good comedians who are not superstars.\"\n",
       "Mr Rosenfield says the growing popularity of stand-up comedy is fuelled in part by younger audiences, who view humorous TV hosts such as Jon Stewart, Jay Leno and Steve Colbert as their primary source for news.\n",
       "\"It's not just entertaining them, it's also informing them,\" he says. \"There's a new immediacy to stand-up that makes it much more appealing to a generation that's on social media, tweeting, face booking and blogging.\"\n",
       "But clubs don't only make money from entertainers. Alcohol alone can bring in as much as 40% of the night's takings, and many clubs demand that audiences buy a minimum number of drinks per person.\n",
       "\"A club really has three businesses going on,\" says Mr Rosenfield.\n",
       "\"It's an entertainment entity, a restaurant and a bar. They make money from selling drinks and dinners, and they make money from the cover charge.\n",
       "\"There are usually three people on the bill. The opening act is the new comedian. They do about 20 minutes and introduce the other comics.\n",
       "The middle act does about half an hour, and then there's the headliner. They almost always have TV credits, and are the ones people are coming to see. That headliner could be making six figures a year.\"\n",
       "Top-tier performers make much more. According to Forbes, Canadian comedian Russell Peters grossed $19m with 64 shows in 2013, while industry veteran Jerry Seinfeld is the highest paid comedian in the US, set to earn $36m this year.\n",
       "Steve Byrne, 41, is a veteran stand-up comedian based in LA, and star of his own television show Sullivan and Son, which ran for three seasons.\n",
       "He describes himself as a successful mid-level comedian who makes an annual six figure salary mainly from touring.\n",
       "And although he was close to hitting a million dollars a year before his show was cancelled in 2014, he says most comedians make money at clubs and do television to boost their brand rather than their income.\n",
       "Mr Bryne says: \"Gigs vary because it depends what you're contracted at.\n",
       "\"If it's somebody starting off in the business it could be $1,500 a show. For somebody who's had some TV credits you could go from $4,500 to $7,500.\n",
       "\"And if you're just a knock out comic, then you're coming in and getting a door deal. You're taking all the tickets, and the club gets the concessions.\"\n",
       "Mr Byrne says hard work is the key to success. There is no magic short cut, and few lucky breaks.\n",
       "\"The one single thing that an aspiring comedian should do is write, write, write. What is it that makes you laugh?\n",
       "\"Your voice should resonate with your audience. So find your voice and you will find your audience.\"\n",
       "While the music and film industries have been impacted by the internet, such as illegal downloads and reduced album sales, Mr Rosenfield says the online world has actually given live comedy a boost.\n",
       "\"The format of comedy, particularly stand-up, lends itself to digital media like nothing else. One terrific joke can get a million hits,\" he says.\n",
       "\"It's become a new metric for a club manager. If a booker sees that a comic has 500,000 online followers - they'll book him almost sight unseen. That's it.\n",
       "\"Digital is gigantically important and has been for a while.\"\n",
       "But in the end, the success of comedy comes down to a very simple fact - people need to laugh.\n",
       "Back in 2001 Steve Byrne was a comedian in New York when terrorists flew two planes into the World Trade Centre on 11 September.\n",
       "He says: \"We all thought 'who's going to come to a comedy club? The dream's over, I've got to get a real job now'.\n",
       "\"But after a week, I forget which club was the first one to open its doors, but it was packed. People needed an outlet.\n",
       "\"And I remember for months on end those clubs in New York City were just jam packed. That was the thing that told me that this was a profession that is foolproof.\"</td><td>Have you heard the one about the computer programmer who bought a failing comedy club in Texas and turned it into a million dollar a year business?</td><td>34571446</td><td>dozens of comedy clubs were forced to close in the wake of the 2008 recession . a report from data firm Ibis World expects total comedy club revenue to grow by 1.8%</td></tr><tr><td>Relieved that the giant telecoms company would not be broken up, they piled into the shares, sending them up 3% in early trading.\n",
       "BT dodged a bullet - and, as the chief executive of Ofcom, Sharon White, admitted, it was for prosaic reasons.\n",
       "She said complications with land deals and BT's giant pension scheme meant there were \"practical obstacles\" to a break-up that would delay the process several years.\n",
       "It's the pension scheme that probably most influenced Ofcom's thinking. BT's retirement scheme, inherited from its time as a state-owned utility, has assets of about Â£40bn and a deficit, on some measures, of about Â£10bn, even though BT has poured in billions of pounds in recent years to redress the gap.\n",
       "Senior sources at the company say that about 80% of the scheme relates to Openreach, the internet infrastructure provider that BT's rivals would like to see spun off.\n",
       "Separating the pension as part of a break-up would be a costly headache - and there is the small matter of a government guarantee on part of the scheme, something that BT fought in the courts to preserve and won.\n",
       "Creating two new pension schemes, with the risk of weakening the financial resources of one or the other, might be too hot a political potato, even in the pursuit of faster broadband.\n",
       "BT's share price reaction might turn out to be overdone. Ms White plans to enforce the separation by introducing not only a new board to run Openreach, but also new articles of association that will give directors a duty to serve customers of the network as much as the company's owners.\n",
       "This holds out an obvious prospect of conflicts to come, and runs counter to the normal assumption that in private companies, the shareholder is king.\n",
       "It also carries an echo of the \"golden shares\" held by the government in Rolls-Royce and BAE Systems, two companies judged important for the defence of the realm. In each case, the golden share is actually enshrined by specific articles of association that give directors and the government powers beyond those normally enjoyed by company boards.\n",
       "BT's chief executive, Gavin Patterson, said he thought he could reach a compromise with Ofcom, but admitted they would need to see the detail of the new articles.\n",
       "If they prove too much at odds with BT's own desire to control Openreach - which it will still own - get ready for a court battle and perhaps, eventually, a full break-up.</td><td>The reaction from BT's investors told us much about media regulator Ofcom's ruling on the fate of Openreach, the BT subsidiary that provides much of the UK's broadband infrastructure.</td><td>36892983</td><td>BT's pension scheme has assets of about £40bn and a deficit on measures . 80% of the scheme relates to openreach, the internet infrastructure</td></tr><tr><td>\"I'm really looking forward to it - the home of Scottish football,\" said Rodgers ahead of his maiden visit.\n",
       "\"I hear the pitch is good, a nice big pitch suits the speed in our team and our intensity.\n",
       "\"The technical area goes right out to the end of the pitch, but you might need a taxi to get back to your staff.\"\n",
       "This will be Rodgers' second taste of the Old Firm derby and his experience of the fixture got off to a great start with a 5-1 league victory at Celtic Park last month.\n",
       "\"It was a brilliant performance by the players in every aspect,\" he recalled. \"Obviously this one is on a neutral ground, but we'll be looking to have a similar performance.\n",
       "\"We'll be prepared and focused. We know it's going to be a tough game. We anticipated that the last time.\"\n",
       "Rodgers is also aware Celtic's visit to Hampden last season in the Scottish Cup semi-final against Rangers ended in defeat.\n",
       "\"The last experience there wasn't so good for Celtic,\" he said. \"But it's a different team with a different mentality and we'll look to take that mentality into the game.\"\n",
       "Rodgers lost two semi-finals in his time at Liverpool and is aiming to make it third time lucky at the club he joined in the summer.\n",
       "\"You have to perform - that's what's important and if you get little bit of luck along the way then hopefully you'll get the result that you want.\" said the Northern Irishman.\n",
       "\"So, for us, it's really looking at our performance level, which in the main has been at a really high level.\n",
       "\"My focus is always on my own team and, if we impose our style of play, it can give a lot of problems to opponents.\"\n",
       "Unlike predecessor Ronny Deila, Rodgers would not be drawn on this semi-final being a step on the way to a potential domestic treble.\n",
       "\"It's very, very difficult to achieve,\" he said. \"There's been great managers here in the past that haven't achieved that.\n",
       "\"But it's the first competition where we've a chance to win a trophy and I've always said that it's a priority for us because it's the first one.\n",
       "\"Our idea was to qualify for the Champions League, which we did, to make a good start in the league, which we've done, and then look to get to the League Cup final.\n",
       "\"Unless you can do that then you don't have the chance to win the trophies.\"</td><td>Manager Brendan Rodgers is sure Celtic can exploit the wide open spaces of Hampden when they meet Rangers in Sunday's League Cup semi-final.</td><td>37732028</td><td>rodgers says he's looking forward to the home of scotland football . the northern irishman says the game will be a \"tough game</td></tr></tbody></table></div>"
      ]
     },
     "metadata": {
      "application/vnd.databricks.v1+output": {
       "addedWidgets": {},
       "aggData": [],
       "aggError": "",
       "aggOverflow": false,
       "aggSchema": [],
       "aggSeriesLimitReached": false,
       "aggType": "",
       "arguments": {},
       "columnCustomDisplayInfos": {},
       "data": [
        [
         "Prison Link Cymru had 1,099 referrals in 2015-16 and said some ex-offenders were living rough for up to a year before finding suitable accommodation.\nWorkers at the charity claim investment in housing would be cheaper than jailing homeless repeat offenders.\nThe Welsh Government said more people than ever were getting help to address housing problems.\nChanges to the Housing Act in Wales, introduced in 2015, removed the right for prison leavers to be given priority for accommodation.\nPrison Link Cymru, which helps people find accommodation after their release, said things were generally good for women because issues such as children or domestic violence were now considered.\nHowever, the same could not be said for men, the charity said, because issues which often affect them, such as post traumatic stress disorder or drug dependency, were often viewed as less of a priority.\nAndrew Stevens, who works in Welsh prisons trying to secure housing for prison leavers, said the need for accommodation was \"chronic\".\n\"There's a desperate need for it, finding suitable accommodation for those leaving prison there is just a lack of it everywhere,\" he said.\n\"It could take six months to a year, without a lot of help they could be on the streets for six months.\n\"When you think of the consequences of either being on the street, especially with the cold weather at the moment or you may have a roof over your head, sometimes there is only one choice.\"\nMr Stevens believes building more one-bedroom flats could help ease the problem.\n\"The average price is a hundred pounds a week to keep someone in a rented flat, prison is a lot more than that so I would imagine it would save the public purse quite a few pounds,\" he said.\nOfficial figures show 830 one-bedroom properties were built in the year to March 2016, of an overall total of 6,900 new properties in Wales.\nMarc, 50, who has been in and out of prison for the past 20 years for burglary offences, said he struggled to find accommodation each time he was released.\nHe said he would ask himself: \"Where am I going to stay? Where am I going to live? Have I got somewhere where I can see my daughter.\"\n\"You're put out among the same sort of people doing the same sort of thing, and it's difficult, it's difficult to get away from it. It's like every man for himself, there's nothing.\"\nMarc has now found stable accommodation with homeless charity Emmaus and said it had been life changing.\n\"You feel safe, you got hot food, you've got company of people in similar situations to yourself but all dealing with different issues. It's a constructive, helpful atmosphere,\" he said.\nTom Clarke, chief executive of Emmaus South Wales, agreed there was not enough support available.\n\"We do still see [people] homeless on the streets, so clearly they haven't got accommodation and haven't got provision,\" he said.\n\"I think the key is connecting people with the services they need. I don't delude myself that Emmaus can offer a one size fits all for everyone, we can't.\n\"But there must be other opportunities and given suitable encouragement I believe that can and should happen.\"\nA Welsh Government spokesman said the national pathway for homeless services to children, young people and adults in the secure estate had prevented many people from losing their home whilst serving their prison sentence.\nIt added there were already significant demands for one-bedroom flats across the public and private sector and it was providing 20,000 new affordable homes in the next five years.",
         "There is a \"chronic\" need for more housing for prison leavers in Wales, according to a charity.",
         "38264402",
         "prison link Cymru says some ex-offenders lived rough for up to a year before finding suitable accommodation . the housing act in Wales removed the right for prison leavers"
        ],
        [
         "Officers searched properties in the Waterfront Park and Colonsay View areas of the city on Wednesday.\nDetectives said three firearms, ammunition and a five-figure sum of money were recovered.\nA 26-year-old man who was arrested and charged appeared at Edinburgh Sheriff Court on Thursday.",
         "A man has appeared in court after firearms, ammunition and cash were seized by police in Edinburgh.",
         "34227252",
         "three firearms, ammunition and a five-figure sum of money were recovered . a 26-year-old man was arrested and charged on friday ."
        ],
        [
         "Jordan Hill, Brittany Covington and Tesfaye Cooper, all 18, and Tanishia Covington, 24, appeared in a Chicago court on Friday.\nThe four have been charged with hate crimes and aggravated kidnapping and battery, among other things.\nAn online fundraiser for their victim has collected $51,000 (Â£42,500) so far.\nDenying the four suspects bail, Judge Maria Kuriakos Ciesil asked: \"Where was your sense of decency?\"\nProsecutors told the court the beating started in a van and continued at a house, where the suspects allegedly forced the 18-year-old white victim, who suffers from schizophrenia and attention deficit disorder, to drink toilet water and kiss the floor.\nPolice allege the van was earlier stolen by Mr Hill, who is also accused of demanding $300 from the victim's mother while they held him captive, according to the Chicago Tribune.\nThe court was also told the suspects stuffed a sock into his mouth, taped his mouth shut and bound his hands with a belt.\nIn a video made for Facebook Live which was watched millions of times, the assailants can be heard making derogatory statements against white people and Donald Trump.\nThe victim had been dropped off at a McDonalds to meet Mr Hill - who was one of his friends - on 31 December.\nHe was found by a police officer on Tuesday, 3 January, a day after he was reported missing by his parents.\nProsecutors say the suspects each face two hate crimes counts, one because of the victim's race and the other because of his disabilities.",
         "Four people accused of kidnapping and torturing a mentally disabled man in a \"racially motivated\" attack streamed on Facebook have been denied bail.",
         "38537698",
         "the suspects have been charged with hate crimes and aggravated kidnapping . a fundraiser for their victim has collected $51,000 (£42,500) so far ."
        ],
        [
         "The 48-year-old former Arsenal goalkeeper played for the Royals for four years.\nHe was appointed youth academy director in 2000 and has been director of football since 2003.\nA West Brom statement said: \"He played a key role in the Championship club twice winning promotion to the Premier League in 2006 and 2012.\"",
         "West Brom have appointed Nicky Hammond as technical director, ending his 20-year association with Reading.",
         "36175342",
         "former arsenal goalkeeper played for the Royals for four years . he was appointed youth academy director in 2000 . the 48-year-old has been director of football since 2003"
        ],
        [
         "Restoring the function of the organ - which helps control blood sugar levels - reversed symptoms of diabetes in animal experiments.\nThe study, published in the journal Cell, says the diet reboots the body.\nExperts said the findings were \"potentially very exciting\" as they could become a new treatment for the disease.\nThe experiments were on mice put on a modified form of the \"fasting-mimicking diet\".\nWhen people go on it they spend five days on a low calorie, low protein, low carbohydrate but high unsaturated-fat diet.\nIt resembles a vegan diet with nuts and soups, but with around 800 to 1,100 calories a day.\nThen they have 25 days eating what they want - so overall it mimics periods of feast and famine.\nPrevious research has suggested it can slow the pace of ageing.\nBut animal experiments showed the diet regenerated a special type of cell in the pancreas called a beta cell.\nThese are the cells that detect sugar in the blood and release the hormone insulin if it gets too high.\nDr Valter Longo, from the University of Southern California, said: \"Our conclusion is that by pushing the mice into an extreme state and then bringing them back - by starving them and then feeding them again - the cells in the pancreas are triggered to use some kind of developmental reprogramming that rebuilds the part of the organ that's no longer functioning.\"\nThere were benefits in both type 1 and type 2 diabetes in the mouse experiments.\nType 1 is caused by the immune system destroying beta cells and type 2 is largely caused by lifestyle and the body no longer responding to insulin.\nFurther tests on tissue samples from people with type 1 diabetes produced similar effects.\nDr Longo said: \"Medically, these findings have the potential to be very important because we've shown - at least in mouse models - that you can use diet to reverse the symptoms of diabetes.\n\"Scientifically, the findings are perhaps even more important because we've shown that you can use diet to reprogram cells without having to make any genetic alterations.\"\nBBC reporter Peter Bowes took part in a separate trial with Dr Valter Longo.\nHe said: \"During each five-day fasting cycle, when I ate about a quarter of the average person's diet, I lost between 2kg and 4kg (4.4-8.8lbs).\n\"But before the next cycle came round, 25 days of eating normally had returned me almost to my original weight.\n\"But not all consequences of the diet faded so quickly.\"\nHis blood pressure was lower as was a hormone called IGF-1, which is linked to some cancers.\nHe said: \"The very small meals I was given during the five-day fast were far from gourmet cooking, but I was glad to have something to eat\"\nPeter Bowes: Fasting for science\nPeter Bowes: Intermittent fasting and the good things it did to my body\nSeparate trials of the diet in people have been shown to improve blood sugar levels. The latest findings help to explain why.\nHowever, Dr Longo said people should not rush off and crash diet.\nHe told the BBC: \"It boils down to do not try this at home, this is so much more sophisticated than people realise.\"\nHe said people could \"get into trouble\" with their health if it was done without medical guidance.\nDr Emily Burns, research communications manager at Diabetes UK, said: \"This is potentially very exciting news, but we need to see if the results hold true in humans before we'll know more about what it means for people with diabetes.\n\"People with type-1 and type-2 diabetes would benefit immensely from treatments that can repair or regenerate insulin-producing cells in the pancreas.\"\nFollow James on Twitter.",
         "The pancreas can be triggered to regenerate itself through a type of fasting diet, say US researchers.",
         "39070183",
         "experts say the findings are \"potentially very exciting\" as they could become a new treatment for diabetes . mice put on a modified diet, called the \"fasting-m"
        ],
        [
         "But there certainly should be.\nThese are two of the biggest firms in the lucrative international business of making spectacles. France's Essilor is the world's number one manufacturer of lenses and contact lenses, while Italy's Luxottica is the leading frame manufacturer.\nIt is not obvious that the merger is in the public interest, though the two firms certainly think it is.\n\"The parties' activities are highly complementary and the deal would generate significant synergies and innovation and would be beneficial to customers,\" says Essilor.\nBut there seems to be growing disquiet in the industry.\nGordon Ilett, of the Association of Optometrists, says: \"This now allows the [enlarged] group to control all aspects of supply of product - from manufacture to the end user.\n\"Those businesses who remain as their customers will be indirectly controlled by the terms and conditions imposed by them.\n\"Whether their UK market share, following this merger, is sufficient for examination by the competition authorities is open to debate, but the effect of it will be reduced choice for the consumer, and will most likely result in reduced quality products longer term,\" Mr Ilett adds.\nIf the deal goes through later this year the new company, to be called EssilorLuxottica, will become a behemoth of the industry.\nIt will sell not only lenses and frames around the world but will also be stocking its own optician's shops as well, such as Sunglass Hut, and LensCrafters in the US and Australia, both currently owned by Luxottica.\nOne long-standing independent UK wholesaler, who asked to remain anonymous, says the merged firm would be so powerful it would probably squeeze out some competitors.\n\"If those two companies merged there would be a branded frame supplier offering you high-end branded frames, and also offering UK opticians a lens and glazing deal, to suit, so they will control almost everything [they offer] to both independent retailers in the High Street and even the chains,\" he argues.\nIn his view this would amount, almost, to a stranglehold on the supply of high-end glasses, with some rivals giving up.\n\"I imagine it would knock out quite a few glazing houses in the UK, and it would probably knock out other fashion frame houses,\" he adds.\nUnless you know about the eyewear business, or take an interest in investing in big European companies (they both have stock market listings) the names of the two big firms will probably have passed you by.\nBut if you have been inside an optician's shop you will certainly have heard of the brands they own and make. For instance, the leading varifocal lens brand, Varilux, is made by Essilor.\nJust a year ago, in presenting its 2015 financial results to investors, Essilor boasted that it was \"an undisputed leader with only 25% market share\" of the combined world market for prescription lenses, sunglasses lenses and lenses for reading glasses.\nWhen it comes to just the prescription lenses, it has a 41% share of the world market.\nFor its part, Luxottica owns several of its own brand names such as Ray-Ban and Oakley, and it also makes, under licence, spectacle frames which carry high-fashion names such as Armani, Burberry, Bulgari, Chanel, Prada, Ralph Lauren and Versace.\nIn 2015 the Italian firm made almost 10% of the 954 million frames that were sold worldwide that year, and claims that about half a billion of its frames are currently perched on people's noses.\nThe overall industry internationally is in fact quite fragmented with hundreds of other smaller manufacturers and related businesses such as glazing laboratories.\nMarket research firm GFK describes the optical industry as \"a complex and extremely competitive market-space\".\nEven so, with the two firms having a combined turnover of more than 15bn euros (Â£12.8bn), of which 3.5bn euros were in Europe, on the grounds of size alone the proposed merger easily meets the requirements of the European Commission for a formal review.\nThese are:\nAn inquiry would see if the merged firm threatened to be too dominant, thus reducing competition and leading to higher prices for the customers.\nA Luxottica spokesman told the BBC that the firm was confident that any scrutiny would not hinder the deal.\n\"The transaction is subject to mandatory submission to a number of anti-monopoly authorities including the European one, as is customary in transactions of this size and nature,\" he said.\n\"We are confident that the transaction does not raise anti-monopoly issues and will fully co-operate with the anti-monopoly authorities to obtain the required clearance,\" he added.\nThe EU itself says it currently has no comment to make and it has not yet been formally notified of the merger deal under the requirements of its own rules.\nBut the leading chain of opticians, Specsavers, views the impending deal with caution.\n\"Mergers are a continuing trend in optics, but this is a significant development which will result in huge supply chain and retail implications for the industry and consumers worldwide,\" the firm says.\n\"It is unlikely that the impact of the merger will be felt by consumers straight away but we will watch with great interest how the new organisation will arrange itself.\"\nIf you have ever bought a pair of spectacles with anything other than the most basic frame and lenses, you may have gulped at the price, possibly coming to several hundred pounds.\nOf course, not all spectacles are expensive and not all of the sale price goes to the manufacturers.\nOpticians and the wholesalers that supply them are businesses that seek to make a profit.\nThey also need to cover the costs of staff, equipment, shop and office space, stock and all that advertising.\nBut for the manufacturers such as Essilor and Luxottica, it is a stonkingly profitable business.\nOn worldwide sales of 6.7bn euros in 2015, Essilor made operating profits of 1.2bn euros.\nFor the same year, Luxottica sold goods worth 8.8bn euros and made operating profits of 1.4bn euros.\nWith cost-cutting at a merged business projected to save between 400m and 600m euros per year, profits could be boosted even further.\nWill customers benefit as well?",
         "Since their impending merger was announced in January, there has been remarkably little comment about the huge proposed deal to combine Essilor and Luxottica.",
         "38899892",
         "two of the biggest firms in the lucrative international business of making spectacles . it is not obvious that the merger is in the public interest . but there seems to be growing disquie"
        ],
        [
         "Media playback is not supported on this device\nThe Olympic silver medallist accused the organisation of \"ageism\" and having \"zero regard\" for her welfare.\nShe is the latest high-profile cyclist to come forward after Jess Varnish, Nicole Cooke and Emma Pooley criticised the World Class programme.\nHouvenaghel told the BBC she felt \"vindicated\" by a leaked draft report detailing British Cycling's failures.\nThe report said British Cycling \"sanitised\" its own investigation into claims former technical director Shane Sutton used sexist language towards Varnish, who went public last April about her treatment.\nBritish Cycling subsequently admitted it did not pay \"sufficient care and attention\" to the wellbeing of staff and athletes at the expense of winning medals, an approach Houvenaghel attested to in her BBC interview.\nBoth Sutton and predecessor Sir Dave Brailsford have now left British Cycling.\nHouvenaghel, 42, spoke to BBC Sport during its State of Sport week, which on Thursday examines the issue of athlete welfare versus a win-at-all-costs culture.\nA government-commissioned review, headed by 11-time Paralympic champion Baroness Grey-Thompson, into safety and wellbeing in British sport, is due to be published imminently.\nIt is expected to recommend significant reforms designed to improve the way athletes are treated by governing bodies.\nHouvenaghel claimed:\nBritish Cycling said it \"has acknowledged and takes very seriously previous cultural and governance failings in the World Class Programme\".\nIt said it has accepted the draft report's findings and already put into a place a 39-point action plan to \"systematically address the cultural and behavioural shortcomings\".\nThe statement added: \"Our new chair Jonathan Browning has apologised for instances where we have fallen short in our commitment to athlete welfare and has offered to meet with anyone who can help improve British Cycling.\"\nWho else has spoken out?\nHouvenaghel won silver in the individual pursuit at the Beijing Olympics in 2008, and gold in the World Championship team pursuit in 2008, 2009 and 2011.\nShe retired in 2014, aged 39, after withdrawing from the Commonwealth Games in Glasgow with a back injury.\nHouvenaghel was critical of both Sutton and her team-mates in the aftermath of the London 2012 Olympics, where she was left out of all three team pursuit races as Dani King, Laura Trott and Joanna Rowsell-Shand won gold in a world record time.\nSpeaking to BBC Sport this week, the Northern Irish rider said that experience was \"very traumatic\" and she felt \"torment\" at having \"no explanation\" for her last-minute omission.\nAt the time, Brailsford, then performance director, defended the selection saying they had to \"take the personal element out of it, and look at the data and be professional\".\nHe added: \"I think when a team steps up and makes six world records on the trot and a gold medal, then I don't think you can argue with that.\"\nBritish Cycling reiterated that point on Thursday, adding it was \"proud to support Wendy in what was a wonderfully successful cycling career\" and she was \"part of a pioneering generation of riders who set new standards of excellence\", but was dropped in London 2012 \"based on her performance\".\nOther elite cyclists, including King and Roswell-Shand have praised the leadership at British Cycling.\nAsked whether she was simply not good enough for the 2012 team, Houvenaghel replied: \"It was definitely not about performance. I don't think the fastest team on the day were permitted to race.\n\"There are certain chosen riders on the team who will not have experienced the culture of fear and will not have been on the receiving end of that - the bullying, the harassment, being frozen out of opportunities.\n\"It was horrid - it was not the training environment I expected. There was no choice. If you rocked the boat, you were out. There was no alternative.\n\"Medals at any cost, that's how it was whenever I was there, certainly in 2012.\"\nHouvenaghel said she also witnessed the sexism that has been highlighted by other female riders, and also claims she was discriminated against because of her age.\n\"I can certainly relate to the bullying,\" she said. \"For me personally, I felt it was more ageism - being a little bit older than my team-mates, it didn't seem to be something that the staff necessarily wanted for our team in 2012.\n\"They didn't care about what happened to me afterwards. I never heard another thing from them.\n\"After six years of constantly medalling at World Cups, World Championships, nationals, both on the track and on the road, they discarded me in a very undignified way from the team, which I don't feel was right.\"\nFourteen-time Paralympic gold medallist Dame Sarah Storey told BBC Sport that elite level sport in Britain is \"cut-throat\" but there are \"no excuses for crossing that line\" into bullying.\nAsked about the balance between winning and athlete welfare, the 39-year-old replied: \"It's a really difficult question because you have to be a human being, you have to allow for people to make mistakes. But the currency is race wins, the currency is gold medals.\n\"It's not an excuse but you have to have a thick skin in sport, you have to be able to take the rough with the smooth because of the racing that you go through.\n\"But there are no excuses for crossing that line, and if those lines have been crossed they will be found out and they'll be dealt with.\"",
         "A \"medal at any cost\" approach created a \"culture of fear\" at British Cycling, says former rider Wendy Houvenaghel.",
         "39339718",
         "the 42-year-old says she felt \"vindicated\" by a leaked draft report . the report says former technical director Shane Sutton used sexist language"
        ],
        [
         "It's no joke. But Kareem Badr says people did laugh in 2009 when he and two friends paid $20,000 (Â£13,000) for the Hideout in Austin, when it wasn't making money and the previous owner decided not to renew the lease.\n\"We took over a sinking ship and each brought a bucket to bail it out,\" says Mr Badr.\n\"None of us had any experience of running a business. But we loved what we were doing enough that it carried us through.\"\nThree years ago he was able to quit his day job and draw a salary from the club.\nMr Badr says it's still not as much as he used to make as a programmer (about $80,000 a year), but he now employs around 25 part time and contract workers.\nAnd he recently expanded the premises, taking over the adjoining coffee house which sells alcohol, and leasing more theatre space.\nMr Badr says: \"I think my background in computer science helped because I can take a big problem, break it up into small chunks, and figure out how to make it better and more efficient.\n\"That's basically what we did for every aspect of the business. And by doing that it naturally started to improve.\"\nMr Badr may have been helped by national trends, which imply a growing enthusiasm for comedy clubs in the US.\nAn industry report from data firm Ibis World expects total US annual comedy club revenue to grow by 1.8% over the next five years to $344.6m in 2020.\n\"When the Hideout first opened it was the only improv theatre in Austin,\" says Mr Badr.\n\"But now there are five [comedy] schools and four theatres. We were at the right place at the right time.\"\nWhile the Ibis World report showed that dozens of US comedy clubs were forced to close in the wake of the 2008 recession, when fewer people had disposable income to spend on live entertainment, Stephen Rosenfield, director of the American Comedy Institute in New York, says stand-up comedy is now entering a new golden age.\n\"The US has comedy clubs all over the country, not just in big cities, and they require talent,\" he says.\n\"In any field there are those at the top who make dynastic fortunes. But because of the significance of the local comedy club, there is a career and a living to be made by good comedians who are not superstars.\"\nMr Rosenfield says the growing popularity of stand-up comedy is fuelled in part by younger audiences, who view humorous TV hosts such as Jon Stewart, Jay Leno and Steve Colbert as their primary source for news.\n\"It's not just entertaining them, it's also informing them,\" he says. \"There's a new immediacy to stand-up that makes it much more appealing to a generation that's on social media, tweeting, face booking and blogging.\"\nBut clubs don't only make money from entertainers. Alcohol alone can bring in as much as 40% of the night's takings, and many clubs demand that audiences buy a minimum number of drinks per person.\n\"A club really has three businesses going on,\" says Mr Rosenfield.\n\"It's an entertainment entity, a restaurant and a bar. They make money from selling drinks and dinners, and they make money from the cover charge.\n\"There are usually three people on the bill. The opening act is the new comedian. They do about 20 minutes and introduce the other comics.\nThe middle act does about half an hour, and then there's the headliner. They almost always have TV credits, and are the ones people are coming to see. That headliner could be making six figures a year.\"\nTop-tier performers make much more. According to Forbes, Canadian comedian Russell Peters grossed $19m with 64 shows in 2013, while industry veteran Jerry Seinfeld is the highest paid comedian in the US, set to earn $36m this year.\nSteve Byrne, 41, is a veteran stand-up comedian based in LA, and star of his own television show Sullivan and Son, which ran for three seasons.\nHe describes himself as a successful mid-level comedian who makes an annual six figure salary mainly from touring.\nAnd although he was close to hitting a million dollars a year before his show was cancelled in 2014, he says most comedians make money at clubs and do television to boost their brand rather than their income.\nMr Bryne says: \"Gigs vary because it depends what you're contracted at.\n\"If it's somebody starting off in the business it could be $1,500 a show. For somebody who's had some TV credits you could go from $4,500 to $7,500.\n\"And if you're just a knock out comic, then you're coming in and getting a door deal. You're taking all the tickets, and the club gets the concessions.\"\nMr Byrne says hard work is the key to success. There is no magic short cut, and few lucky breaks.\n\"The one single thing that an aspiring comedian should do is write, write, write. What is it that makes you laugh?\n\"Your voice should resonate with your audience. So find your voice and you will find your audience.\"\nWhile the music and film industries have been impacted by the internet, such as illegal downloads and reduced album sales, Mr Rosenfield says the online world has actually given live comedy a boost.\n\"The format of comedy, particularly stand-up, lends itself to digital media like nothing else. One terrific joke can get a million hits,\" he says.\n\"It's become a new metric for a club manager. If a booker sees that a comic has 500,000 online followers - they'll book him almost sight unseen. That's it.\n\"Digital is gigantically important and has been for a while.\"\nBut in the end, the success of comedy comes down to a very simple fact - people need to laugh.\nBack in 2001 Steve Byrne was a comedian in New York when terrorists flew two planes into the World Trade Centre on 11 September.\nHe says: \"We all thought 'who's going to come to a comedy club? The dream's over, I've got to get a real job now'.\n\"But after a week, I forget which club was the first one to open its doors, but it was packed. People needed an outlet.\n\"And I remember for months on end those clubs in New York City were just jam packed. That was the thing that told me that this was a profession that is foolproof.\"",
         "Have you heard the one about the computer programmer who bought a failing comedy club in Texas and turned it into a million dollar a year business?",
         "34571446",
         "dozens of comedy clubs were forced to close in the wake of the 2008 recession . a report from data firm Ibis World expects total comedy club revenue to grow by 1.8%"
        ],
        [
         "Relieved that the giant telecoms company would not be broken up, they piled into the shares, sending them up 3% in early trading.\nBT dodged a bullet - and, as the chief executive of Ofcom, Sharon White, admitted, it was for prosaic reasons.\nShe said complications with land deals and BT's giant pension scheme meant there were \"practical obstacles\" to a break-up that would delay the process several years.\nIt's the pension scheme that probably most influenced Ofcom's thinking. BT's retirement scheme, inherited from its time as a state-owned utility, has assets of about Â£40bn and a deficit, on some measures, of about Â£10bn, even though BT has poured in billions of pounds in recent years to redress the gap.\nSenior sources at the company say that about 80% of the scheme relates to Openreach, the internet infrastructure provider that BT's rivals would like to see spun off.\nSeparating the pension as part of a break-up would be a costly headache - and there is the small matter of a government guarantee on part of the scheme, something that BT fought in the courts to preserve and won.\nCreating two new pension schemes, with the risk of weakening the financial resources of one or the other, might be too hot a political potato, even in the pursuit of faster broadband.\nBT's share price reaction might turn out to be overdone. Ms White plans to enforce the separation by introducing not only a new board to run Openreach, but also new articles of association that will give directors a duty to serve customers of the network as much as the company's owners.\nThis holds out an obvious prospect of conflicts to come, and runs counter to the normal assumption that in private companies, the shareholder is king.\nIt also carries an echo of the \"golden shares\" held by the government in Rolls-Royce and BAE Systems, two companies judged important for the defence of the realm. In each case, the golden share is actually enshrined by specific articles of association that give directors and the government powers beyond those normally enjoyed by company boards.\nBT's chief executive, Gavin Patterson, said he thought he could reach a compromise with Ofcom, but admitted they would need to see the detail of the new articles.\nIf they prove too much at odds with BT's own desire to control Openreach - which it will still own - get ready for a court battle and perhaps, eventually, a full break-up.",
         "The reaction from BT's investors told us much about media regulator Ofcom's ruling on the fate of Openreach, the BT subsidiary that provides much of the UK's broadband infrastructure.",
         "36892983",
         "BT's pension scheme has assets of about £40bn and a deficit on measures . 80% of the scheme relates to openreach, the internet infrastructure"
        ],
        [
         "\"I'm really looking forward to it - the home of Scottish football,\" said Rodgers ahead of his maiden visit.\n\"I hear the pitch is good, a nice big pitch suits the speed in our team and our intensity.\n\"The technical area goes right out to the end of the pitch, but you might need a taxi to get back to your staff.\"\nThis will be Rodgers' second taste of the Old Firm derby and his experience of the fixture got off to a great start with a 5-1 league victory at Celtic Park last month.\n\"It was a brilliant performance by the players in every aspect,\" he recalled. \"Obviously this one is on a neutral ground, but we'll be looking to have a similar performance.\n\"We'll be prepared and focused. We know it's going to be a tough game. We anticipated that the last time.\"\nRodgers is also aware Celtic's visit to Hampden last season in the Scottish Cup semi-final against Rangers ended in defeat.\n\"The last experience there wasn't so good for Celtic,\" he said. \"But it's a different team with a different mentality and we'll look to take that mentality into the game.\"\nRodgers lost two semi-finals in his time at Liverpool and is aiming to make it third time lucky at the club he joined in the summer.\n\"You have to perform - that's what's important and if you get little bit of luck along the way then hopefully you'll get the result that you want.\" said the Northern Irishman.\n\"So, for us, it's really looking at our performance level, which in the main has been at a really high level.\n\"My focus is always on my own team and, if we impose our style of play, it can give a lot of problems to opponents.\"\nUnlike predecessor Ronny Deila, Rodgers would not be drawn on this semi-final being a step on the way to a potential domestic treble.\n\"It's very, very difficult to achieve,\" he said. \"There's been great managers here in the past that haven't achieved that.\n\"But it's the first competition where we've a chance to win a trophy and I've always said that it's a priority for us because it's the first one.\n\"Our idea was to qualify for the Champions League, which we did, to make a good start in the league, which we've done, and then look to get to the League Cup final.\n\"Unless you can do that then you don't have the chance to win the trophies.\"",
         "Manager Brendan Rodgers is sure Celtic can exploit the wide open spaces of Hampden when they meet Rangers in Sunday's League Cup semi-final.",
         "37732028",
         "rodgers says he's looking forward to the home of scotland football . the northern irishman says the game will be a \"tough game"
        ]
       ],
       "datasetInfos": [],
       "dbfsResultPath": null,
       "isJsonSchema": true,
       "metadata": {},
       "overflow": false,
       "plotOptions": {
        "customPlotOptions": {},
        "displayType": "table",
        "pivotAggregation": null,
        "pivotColumns": null,
        "xColumns": null,
        "yColumns": null
       },
       "removedWidgets": [],
       "schema": [
        {
         "metadata": "{}",
         "name": "document",
         "type": "\"string\""
        },
        {
         "metadata": "{}",
         "name": "summary",
         "type": "\"string\""
        },
        {
         "metadata": "{}",
         "name": "id",
         "type": "\"string\""
        },
        {
         "metadata": "{}",
         "name": "generated_summary",
         "type": "\"string\""
        }
       ],
       "type": "table"
      }
     },
     "output_type": "display_data"
    }
   ],
   "source": [
    "# Run inference by appending a new column to the DataFrame\n",
    "\n",
    "batch_inference_results = prod_data.withColumn(\n",
    "    \"generated_summary\", prod_model_udf(\"document\")\n",
    ")\n",
    "display(batch_inference_results)"
   ]
  },
  {
   "cell_type": "markdown",
   "metadata": {
    "application/vnd.databricks.v1+cell": {
     "cellMetadata": {},
     "inputWidgets": {},
     "nuid": "d81a8e30-20d9-40d3-bf35-44f351ded134",
     "showTitle": false,
     "title": ""
    }
   },
   "source": [
    "We can now write out our inference results to another Delta table.  Here, we append the results to an existing table (and create the table if it does not exist)."
   ]
  },
  {
   "cell_type": "code",
   "execution_count": 0,
   "metadata": {
    "application/vnd.databricks.v1+cell": {
     "cellMetadata": {
      "byteLimit": 2048000,
      "rowLimit": 10000
     },
     "inputWidgets": {},
     "nuid": "83b16e3b-29ed-4b72-aab5-6813d08302ad",
     "showTitle": false,
     "title": ""
    }
   },
   "outputs": [],
   "source": [
    "inference_results_path = f\"{DA.paths.working_dir}/m6-inference-results\".replace(\n",
    "    \"/dbfs\", \"dbfs:\"\n",
    ")\n",
    "batch_inference_results.write.format(\"delta\").mode(\"append\").save(\n",
    "    inference_results_path\n",
    ")"
   ]
  },
  {
   "cell_type": "markdown",
   "metadata": {
    "application/vnd.databricks.v1+cell": {
     "cellMetadata": {},
     "inputWidgets": {},
     "nuid": "2fc46052-822a-48bb-a7b3-0ddf2abc5b0c",
     "showTitle": false,
     "title": ""
    }
   },
   "source": [
    "And that's it!  To create a production job, we could for example take the new lines of code above, put them in a new notebook, and schedule it as an automated workflow.  MLflow can be integrated with essentially any deployment system, but for more information specific to this Databricks workspace, see the \"Use model for inference\" documentation for [AWS](https://docs.databricks.com/machine-learning/manage-model-lifecycle/index.html#use-model-for-inference), [Azure](https://learn.microsoft.com/en-us/azure/databricks/machine-learning/manage-model-lifecycle/#--use-model-for-inference), or [GCP](https://docs.gcp.databricks.com/machine-learning/manage-model-lifecycle/index.html#use-model-for-inference).\n",
    "\n",
    "We did not cover model serving for real-time inference, but MLflow models can be deployed to any cloud or on-prem serving systems.  For more information, see the [open-source MLflow Model Registry docs](https://mlflow.org/docs/latest/model-registry.html) or the [Databricks Model Serving docs](https://docs.databricks.com/machine-learning/model-serving/index.html).\n",
    "\n",
    "For other topics not covered, see [\"The Big Book of MLOps.\"](https://www.databricks.com/resources/ebook/the-big-book-of-mlops)"
   ]
  },
  {
   "cell_type": "markdown",
   "metadata": {
    "application/vnd.databricks.v1+cell": {
     "cellMetadata": {},
     "inputWidgets": {},
     "nuid": "f3f81e28-e83c-4627-b394-4589355cc671",
     "showTitle": false,
     "title": ""
    }
   },
   "source": [
    "## Summary\n",
    "\n",
    "We have now walked through a full example of going from development to production.  Our LLM pipeline was very simple, but LLM Ops for a more complex workflow (such as fine-tuning a custom model) would be very similar.  You still follow the basic Ops steps of:\n",
    "* Development: Creating the pipeline or model, tracking the process in the MLflow Tracking server and saving the final pipeline or model.\n",
    "* Staging: Registering a new model or version in the MLflow Model Registry, testing it, and promoting it through Staging to Production.\n",
    "* Production: Creating an inference job, or creating a model serving endpoint."
   ]
  },
  {
   "cell_type": "markdown",
   "metadata": {
    "application/vnd.databricks.v1+cell": {
     "cellMetadata": {},
     "inputWidgets": {},
     "nuid": "f31b2a76-1e3a-4aa1-a771-c3d32d2e7a70",
     "showTitle": false,
     "title": ""
    }
   },
   "source": [
    "&copy; 2023 Databricks, Inc. All rights reserved.<br/>\n",
    "Apache, Apache Spark, Spark and the Spark logo are trademarks of the <a href=\"https://www.apache.org/\">Apache Software Foundation</a>.<br/>\n",
    "<br/>\n",
    "<a href=\"https://databricks.com/privacy-policy\">Privacy Policy</a> | <a href=\"https://databricks.com/terms-of-use\">Terms of Use</a> | <a href=\"https://help.databricks.com/\">Support</a>"
   ]
  }
 ],
 "metadata": {
  "application/vnd.databricks.v1+notebook": {
   "dashboards": [],
   "language": "python",
   "notebookMetadata": {
    "pythonIndentUnit": 2
   },
   "notebookName": "LLM 06 - LLMOps",
   "widgets": {}
  }
 },
 "nbformat": 4,
 "nbformat_minor": 0
}
